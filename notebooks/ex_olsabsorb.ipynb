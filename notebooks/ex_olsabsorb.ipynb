{
 "cells": [
  {
   "cell_type": "markdown",
   "metadata": {},
   "source": [
    "# OLSAbsorb: Absorbing categorical variables in OLS"
   ]
  },
  {
   "cell_type": "markdown",
   "metadata": {},
   "source": [
    "One of the main usecases for this is absorbing fixed effects in panel data.\n",
    "\n",
    "The fixed effects are included as sparse dummy matrix and partialled out of the main explanatory variables."
   ]
  },
  {
   "cell_type": "code",
   "execution_count": 2,
   "metadata": {
    "collapsed": true
   },
   "outputs": [],
   "source": [
    "import time\n",
    "\n",
    "import numpy as np\n",
    "from scipy import sparse\n",
    "import pandas as pd\n",
    "\n",
    "from statsmodels.regression.linear_model import OLS\n",
    "from statsmodels.regression.special_linear_model import OLSAbsorb, cat2dummy_sparse\n",
    "from statsmodels.tools._sparse import PartialingSparse, dummy_sparse\n"
   ]
  },
  {
   "cell_type": "code",
   "execution_count": null,
   "metadata": {
    "collapsed": true
   },
   "outputs": [],
   "source": []
  },
  {
   "cell_type": "code",
   "execution_count": 40,
   "metadata": {
    "collapsed": false
   },
   "outputs": [],
   "source": [
    "k_cat1, k_cat2 = 500, 100\n",
    "\n",
    "keep = (np.random.rand(k_cat1 * k_cat2) > 0.1).astype(bool)\n",
    "\n",
    "xcat1 = np.repeat(np.arange(k_cat1), k_cat2)[keep]\n",
    "xcat2 = np.tile(np.arange(k_cat2), k_cat1)[keep]\n",
    "exog_absorb = np.column_stack((xcat1, xcat2))\n",
    "nobs = len(xcat1)\n",
    "\n",
    "exog_sparse = cat2dummy_sparse(exog_absorb)\n",
    "beta_sparse = 1. / np.r_[np.arange(1, k_cat1), np.arange(1, k_cat2 + 1)]\n",
    "\n",
    "np.random.seed(999)\n",
    "beta_dense = np.ones(3)\n",
    "exog_dense = np.column_stack((np.ones(exog_sparse.shape[0]), np.random.randn(exog_sparse.shape[0], len(beta_dense) - 1)))\n",
    "y = exog_dense.dot(beta_dense) + exog_sparse.dot(beta_sparse) + 0.01 * np.random.randn(nobs)\n"
   ]
  },
  {
   "cell_type": "code",
   "execution_count": null,
   "metadata": {
    "collapsed": true
   },
   "outputs": [],
   "source": []
  },
  {
   "cell_type": "code",
   "execution_count": 41,
   "metadata": {
    "collapsed": false
   },
   "outputs": [
    {
     "data": {
      "text/plain": [
       "((45004, 2), (45004, 599), (599,))"
      ]
     },
     "execution_count": 41,
     "metadata": {},
     "output_type": "execute_result"
    }
   ],
   "source": [
    "exog_absorb.shape, exog_sparse.shape, beta_sparse.shape"
   ]
  },
  {
   "cell_type": "code",
   "execution_count": 42,
   "metadata": {
    "collapsed": false
   },
   "outputs": [
    {
     "name": "stdout",
     "output_type": "stream",
     "text": [
      "time:  0.027363061904907227\n"
     ]
    }
   ],
   "source": [
    "t0 = time.time()\n",
    "mod_absorb = OLSAbsorb(y, exog_dense, exog_absorb)\n",
    "res_absorb = mod_absorb.fit()\n",
    "t1 = time.time()\n",
    "print('time: ', t1 - t0)"
   ]
  },
  {
   "cell_type": "code",
   "execution_count": 43,
   "metadata": {
    "collapsed": false
   },
   "outputs": [
    {
     "name": "stdout",
     "output_type": "stream",
     "text": [
      "                         OLSAbsorb Regression Results                         \n",
      "==============================================================================\n",
      "Dep. Variable:                      y   R-squared:                       1.000\n",
      "Model:                      OLSAbsorb   Adj. R-squared:                  1.000\n",
      "Method:                 Least Squares   F-statistic:                 1.521e+06\n",
      "Date:                Thu, 21 Jan 2016   Prob (F-statistic):               0.00\n",
      "Time:                        10:46:17   Log-Likelihood:             1.4387e+05\n",
      "No. Observations:               45004   AIC:                        -2.865e+05\n",
      "Df Residuals:                   44403   BIC:                        -2.813e+05\n",
      "Df Model:                         600                                         \n",
      "Covariance Type:            nonrobust                                         \n",
      "==============================================================================\n",
      "                 coef    std err          t      P>|t|      [0.025      0.975]\n",
      "------------------------------------------------------------------------------\n",
      "const          1.0653    4.7e-05   2.27e+04      0.000       1.065       1.065\n",
      "x1             1.0000   4.72e-05   2.12e+04      0.000       1.000       1.000\n",
      "x2             1.0000   4.75e-05    2.1e+04      0.000       1.000       1.000\n",
      "==============================================================================\n",
      "Omnibus:                        2.111   Durbin-Watson:                   2.026\n",
      "Prob(Omnibus):                  0.348   Jarque-Bera (JB):                2.112\n",
      "Skew:                          -0.008   Prob(JB):                        0.348\n",
      "Kurtosis:                       3.029   Cond. No.                         1.01\n",
      "==============================================================================\n",
      "\n",
      "Warnings:\n",
      "[1] Standard Errors assume that the covariance matrix of the errors is correctly specified.\n"
     ]
    }
   ],
   "source": [
    "print(res_absorb.summary())"
   ]
  },
  {
   "cell_type": "code",
   "execution_count": 44,
   "metadata": {
    "collapsed": false
   },
   "outputs": [
    {
     "data": {
      "text/plain": [
       "array([  0,   0,   0, ..., 499, 499, 499])"
      ]
     },
     "execution_count": 44,
     "metadata": {},
     "output_type": "execute_result"
    }
   ],
   "source": [
    "xcat1"
   ]
  },
  {
   "cell_type": "code",
   "execution_count": 45,
   "metadata": {
    "collapsed": false
   },
   "outputs": [
    {
     "data": {
      "text/plain": [
       "array([ 0,  1,  2, ..., 96, 97, 98])"
      ]
     },
     "execution_count": 45,
     "metadata": {},
     "output_type": "execute_result"
    }
   ],
   "source": [
    "xcat2"
   ]
  },
  {
   "cell_type": "code",
   "execution_count": 46,
   "metadata": {
    "collapsed": false
   },
   "outputs": [
    {
     "data": {
      "text/plain": [
       "dict_keys(['__loader__', '_i11', 'pd', '_iii', 'OLSAbsorb', '_i32', '_17', '_36', '_4', '_i44', '_i34', '_38', '_i12', '_i8', '_i30', 't0', 'beta_dense', '_i41', '_34', '_41', '_24', '_i4', '_i1', '_8', 'axis', '_12', '__name__', 'k_cat', '__', '_i29', '_i3', '_27', '_i9', 'exog_sparse', '_16', 'DataFrame', '_i7', '_44', '_i16', '_35', '_i28', '__spec__', '_i43', '_29', 'sparse', '_21', '_i2', '_sh', '_i15', '___', '_i24', '_i39', '_i13', '_10', 'np', 'exog_dense', '_i45', '_', '_i5', '_30', 'df', '_i25', 'res_absorb', '_ih', '_i27', '_i37', '_i42', 'beta_sparse', 'get_ipython', '_i46', '_13', '_i40', '_33', 'mod_absorb', '_45', 'PartialingSparse', '_i19', 'xm', '_i23', 't1', '_i31', '_i14', '_i', '_28', '_19', '_ii', '_i21', 'quit', 'keep', '_i33', '_i38', '_26', '_7', 'cat2dummy_sparse', '_i6', 'y', '_9', 'Out', '_31', 'xcat2', '__package__', 'dummy_sparse', '_i22', '__builtin__', '_dh', '_oh', '_18', '_i10', 'k_cat1', 'nobs', '_11', '_i36', '__doc__', 'xcat1', '_i35', '_20', 'exog_absorb', 'OLS', 'time', '_i18', 'In', '_i17', '__builtins__', '_37', '_i26', '_i20', 'k_cat2', 'exit'])"
      ]
     },
     "execution_count": 46,
     "metadata": {},
     "output_type": "execute_result"
    }
   ],
   "source": [
    "locals().keys()"
   ]
  },
  {
   "cell_type": "code",
   "execution_count": 47,
   "metadata": {
    "collapsed": false
   },
   "outputs": [
    {
     "data": {
      "text/plain": [
       "89918"
      ]
     },
     "execution_count": 47,
     "metadata": {},
     "output_type": "execute_result"
    }
   ],
   "source": [
    "exog_sparse.nnz"
   ]
  },
  {
   "cell_type": "code",
   "execution_count": 48,
   "metadata": {
    "collapsed": false
   },
   "outputs": [
    {
     "data": {
      "text/plain": [
       "<45004x599 sparse matrix of type '<class 'numpy.float64'>'\n",
       "\twith 89918 stored elements in Compressed Sparse Row format>"
      ]
     },
     "execution_count": 48,
     "metadata": {},
     "output_type": "execute_result"
    }
   ],
   "source": [
    "exog_sparse\n"
   ]
  },
  {
   "cell_type": "code",
   "execution_count": 49,
   "metadata": {
    "collapsed": false
   },
   "outputs": [
    {
     "data": {
      "text/plain": [
       "<599x599 sparse matrix of type '<class 'numpy.float64'>'\n",
       "\twith 90427 stored elements in Compressed Sparse Column format>"
      ]
     },
     "execution_count": 49,
     "metadata": {},
     "output_type": "execute_result"
    }
   ],
   "source": [
    "exog_sparse.T.dot(exog_sparse)"
   ]
  },
  {
   "cell_type": "code",
   "execution_count": 51,
   "metadata": {
    "collapsed": false
   },
   "outputs": [
    {
     "ename": "ValueError",
     "evalue": "total size of new array must be unchanged",
     "output_type": "error",
     "traceback": [
      "\u001b[1;31m---------------------------------------------------------------------------\u001b[0m",
      "\u001b[1;31mValueError\u001b[0m                                Traceback (most recent call last)",
      "\u001b[1;32m<ipython-input-51-f733de6bec74>\u001b[0m in \u001b[0;36m<module>\u001b[1;34m()\u001b[0m\n\u001b[1;32m----> 1\u001b[1;33m \u001b[0mxcat2\u001b[0m\u001b[1;33m.\u001b[0m\u001b[0mreshape\u001b[0m\u001b[1;33m(\u001b[0m\u001b[0mk_cat1\u001b[0m\u001b[1;33m,\u001b[0m \u001b[0mk_cat2\u001b[0m\u001b[1;33m)\u001b[0m\u001b[1;33m[\u001b[0m\u001b[1;33m:\u001b[0m\u001b[1;36m20\u001b[0m\u001b[1;33m,\u001b[0m \u001b[1;33m:\u001b[0m\u001b[1;36m20\u001b[0m\u001b[1;33m]\u001b[0m\u001b[1;33m\u001b[0m\u001b[0m\n\u001b[0m",
      "\u001b[1;31mValueError\u001b[0m: total size of new array must be unchanged"
     ]
    }
   ],
   "source": [
    "xcat2.reshape(k_cat1, k_cat2)[:20, :20]"
   ]
  },
  {
   "cell_type": "code",
   "execution_count": 52,
   "metadata": {
    "collapsed": false
   },
   "outputs": [
    {
     "ename": "ValueError",
     "evalue": "total size of new array must be unchanged",
     "output_type": "error",
     "traceback": [
      "\u001b[1;31m---------------------------------------------------------------------------\u001b[0m",
      "\u001b[1;31mValueError\u001b[0m                                Traceback (most recent call last)",
      "\u001b[1;32m<ipython-input-52-a497cc3ea3c9>\u001b[0m in \u001b[0;36m<module>\u001b[1;34m()\u001b[0m\n\u001b[1;32m----> 1\u001b[1;33m \u001b[0mxm\u001b[0m \u001b[1;33m=\u001b[0m \u001b[0mexog_dense\u001b[0m\u001b[1;33m[\u001b[0m\u001b[1;33m:\u001b[0m\u001b[1;33m,\u001b[0m\u001b[1;33m-\u001b[0m\u001b[1;36m1\u001b[0m\u001b[1;33m]\u001b[0m\u001b[1;33m.\u001b[0m\u001b[0mreshape\u001b[0m\u001b[1;33m(\u001b[0m\u001b[0mk_cat1\u001b[0m\u001b[1;33m,\u001b[0m \u001b[0mk_cat2\u001b[0m\u001b[1;33m)\u001b[0m\u001b[1;33m\u001b[0m\u001b[0m\n\u001b[0m",
      "\u001b[1;31mValueError\u001b[0m: total size of new array must be unchanged"
     ]
    }
   ],
   "source": [
    "xm = exog_dense[:,-1].reshape(k_cat1, k_cat2)"
   ]
  },
  {
   "cell_type": "code",
   "execution_count": 53,
   "metadata": {
    "collapsed": false
   },
   "outputs": [],
   "source": [
    "xm -= xm.mean(1)[:,None]\n",
    "xm -= xm.mean(0)"
   ]
  },
  {
   "cell_type": "code",
   "execution_count": 54,
   "metadata": {
    "collapsed": false
   },
   "outputs": [
    {
     "data": {
      "text/plain": [
       "array([[[ 0.70781951, -0.61444126,  0.13538036, ..., -1.61356043,\n",
       "         -0.02540206,  1.10654173],\n",
       "        [-0.6746529 ,  0.33527863,  0.52267286, ..., -0.33361659,\n",
       "          0.28892705, -0.20139616],\n",
       "        [-0.49991086,  1.30025533, -0.63031488, ...,  0.57215395,\n",
       "          0.01590037, -0.38327518],\n",
       "        [-0.03373329, -2.87631067,  0.64663125, ..., -1.15282776,\n",
       "          0.07557066, -0.24256912],\n",
       "        [ 0.47507535,  0.03091861,  0.28423046, ...,  0.09650512,\n",
       "         -0.06270204, -0.97275079]],\n",
       "\n",
       "       [[-0.10115587,  0.29664766, -0.18332798, ...,  0.52677218,\n",
       "         -0.52345954,  0.19811873],\n",
       "        [ 0.75963979, -1.3796931 ,  0.45493439, ...,  0.25359948,\n",
       "          0.75988452,  0.16494683],\n",
       "        [ 0.03308297,  0.93162743,  0.68000504, ...,  0.45301085,\n",
       "          0.09529476,  0.10493187],\n",
       "        [-0.69411134,  1.14314916, -1.02699353, ...,  0.5014093 ,\n",
       "         -1.05200108,  0.67283725],\n",
       "        [ 0.01058241, -0.47407763, -0.80274294, ..., -0.43139638,\n",
       "         -0.29474735, -0.12277537]],\n",
       "\n",
       "       [[-0.60666363,  0.3177936 ,  0.04794762, ...,  1.08678825,\n",
       "          0.5488616 , -1.30466046],\n",
       "        [-0.08498689,  1.04441447, -0.97760725, ...,  0.08001712,\n",
       "         -1.04881158,  0.03644933],\n",
       "        [ 0.46682789, -2.23188275, -0.04969015, ..., -1.02516481,\n",
       "         -0.11119513,  0.27834331],\n",
       "        [ 0.72784463,  1.7331615 ,  0.38036228, ...,  0.65141845,\n",
       "          0.97643042, -0.43026813],\n",
       "        [-0.48565776,  0.44315901,  0.51851247, ...,  0.33489126,\n",
       "          0.35744939,  1.09552616]]])"
      ]
     },
     "execution_count": 54,
     "metadata": {},
     "output_type": "execute_result"
    }
   ],
   "source": [
    "xm[:5, :5]"
   ]
  },
  {
   "cell_type": "code",
   "execution_count": 17,
   "metadata": {
    "collapsed": false
   },
   "outputs": [
    {
     "data": {
      "text/plain": [
       "array([ 1.2516452 , -0.98768209, -0.81293526, -2.16324902,  0.86941574,\n",
       "        0.16520761, -0.73303638,  0.71600731,  1.49542599, -0.92503197,\n",
       "       -1.05676421, -1.64690497,  2.01773133, -1.93617259, -0.52465453,\n",
       "        0.28930665, -1.3996646 , -0.10786457,  0.42267147,  1.03173704])"
      ]
     },
     "execution_count": 17,
     "metadata": {},
     "output_type": "execute_result"
    }
   ],
   "source": [
    "res_absorb.model.exog[:20, -1]"
   ]
  },
  {
   "cell_type": "code",
   "execution_count": 18,
   "metadata": {
    "collapsed": false
   },
   "outputs": [
    {
     "data": {
      "text/plain": [
       "array([ 1.2516452 , -0.98768209, -0.81293526, -2.16324902,  0.86941574,\n",
       "        0.16520761, -0.73303638,  0.71600731,  1.49542599, -0.92503197,\n",
       "       -1.05676421, -1.64690497,  2.01773133, -1.93617259, -0.52465453,\n",
       "        0.28930665, -1.3996646 , -0.10786457,  0.42267147,  1.03173704])"
      ]
     },
     "execution_count": 18,
     "metadata": {},
     "output_type": "execute_result"
    }
   ],
   "source": [
    "xm.ravel()[:20]"
   ]
  },
  {
   "cell_type": "code",
   "execution_count": 21,
   "metadata": {
    "collapsed": false
   },
   "outputs": [
    {
     "data": {
      "text/plain": [
       "0.0"
      ]
     },
     "execution_count": 21,
     "metadata": {},
     "output_type": "execute_result"
    }
   ],
   "source": [
    "np.max(np.abs(xm.ravel() - res_absorb.model.exog[:, -1]))"
   ]
  },
  {
   "cell_type": "code",
   "execution_count": 20,
   "metadata": {
    "collapsed": false
   },
   "outputs": [
    {
     "data": {
      "text/plain": [
       "(array([ 1.2516452 ,  0.98768209,  0.81293526, ...,  0.02695404,\n",
       "         1.25582162,  1.21407205]),\n",
       " array([ 1.2516452 ,  0.98768209,  0.81293526, ...,  0.02695404,\n",
       "         1.25582162,  1.21407205]))"
      ]
     },
     "execution_count": 20,
     "metadata": {},
     "output_type": "execute_result"
    }
   ],
   "source": [
    "(xm.ravel(), res_absorb.model.exog[:, -1])[:20]"
   ]
  },
  {
   "cell_type": "code",
   "execution_count": 26,
   "metadata": {
    "collapsed": false
   },
   "outputs": [
    {
     "data": {
      "text/plain": [
       "0.0"
      ]
     },
     "execution_count": 26,
     "metadata": {},
     "output_type": "execute_result"
    }
   ],
   "source": [
    "xm = exog_dense.reshape(-1, k_cat1, k_cat2)\n",
    "xm -= xm.mean(1, keepdims=True)\n",
    "xm -= xm.mean(2, keepdims=True)\n",
    "np.max(np.abs(xm.reshape(-1, exog_dense.shape[-1]) - res_absorb.model.exog))"
   ]
  },
  {
   "cell_type": "code",
   "execution_count": 27,
   "metadata": {
    "collapsed": false
   },
   "outputs": [
    {
     "data": {
      "text/plain": [
       "0.0"
      ]
     },
     "execution_count": 27,
     "metadata": {},
     "output_type": "execute_result"
    }
   ],
   "source": [
    "xm = exog_dense.reshape(-1, k_cat1, k_cat2)\n",
    "xm -= np.nanmean(xm, axis=1, keepdims=True)\n",
    "xm -= np.nanmean(xm, axis=2, keepdims=True)\n",
    "np.max(np.abs(xm.reshape(-1, exog_dense.shape[-1]) - res_absorb.model.exog))"
   ]
  },
  {
   "cell_type": "code",
   "execution_count": 141,
   "metadata": {
    "collapsed": false
   },
   "outputs": [
    {
     "ename": "ValueError",
     "evalue": "total size of new array must be unchanged",
     "output_type": "error",
     "traceback": [
      "\u001b[1;31m---------------------------------------------------------------------------\u001b[0m",
      "\u001b[1;31mValueError\u001b[0m                                Traceback (most recent call last)",
      "\u001b[1;32m<ipython-input-141-36d9eda61e3a>\u001b[0m in \u001b[0;36m<module>\u001b[1;34m()\u001b[0m\n\u001b[0;32m      1\u001b[0m \u001b[0mk_cat\u001b[0m \u001b[1;33m=\u001b[0m \u001b[1;33m(\u001b[0m\u001b[0mk_cat1\u001b[0m\u001b[1;33m,\u001b[0m \u001b[0mk_cat2\u001b[0m\u001b[1;33m)\u001b[0m\u001b[1;33m\u001b[0m\u001b[0m\n\u001b[1;32m----> 2\u001b[1;33m \u001b[0mxm\u001b[0m \u001b[1;33m=\u001b[0m \u001b[0mexog_dense\u001b[0m\u001b[1;33m.\u001b[0m\u001b[0mreshape\u001b[0m\u001b[1;33m(\u001b[0m\u001b[1;33m-\u001b[0m\u001b[1;36m1\u001b[0m\u001b[1;33m,\u001b[0m \u001b[1;33m*\u001b[0m\u001b[0mk_cat\u001b[0m\u001b[1;33m)\u001b[0m\u001b[1;33m\u001b[0m\u001b[0m\n\u001b[0m\u001b[0;32m      3\u001b[0m \u001b[1;32mfor\u001b[0m \u001b[0maxis\u001b[0m \u001b[1;32min\u001b[0m \u001b[0mrange\u001b[0m\u001b[1;33m(\u001b[0m\u001b[0mxm\u001b[0m\u001b[1;33m.\u001b[0m\u001b[0mndim\u001b[0m\u001b[1;33m)\u001b[0m\u001b[1;33m:\u001b[0m\u001b[1;33m\u001b[0m\u001b[0m\n\u001b[0;32m      4\u001b[0m     \u001b[0mxm\u001b[0m \u001b[1;33m-=\u001b[0m \u001b[0mnp\u001b[0m\u001b[1;33m.\u001b[0m\u001b[0mnanmean\u001b[0m\u001b[1;33m(\u001b[0m\u001b[0mxm\u001b[0m\u001b[1;33m,\u001b[0m \u001b[0maxis\u001b[0m\u001b[1;33m=\u001b[0m\u001b[0maxis\u001b[0m\u001b[1;33m,\u001b[0m \u001b[0mkeepdims\u001b[0m\u001b[1;33m=\u001b[0m\u001b[1;32mTrue\u001b[0m\u001b[1;33m)\u001b[0m\u001b[1;33m\u001b[0m\u001b[0m\n\u001b[0;32m      5\u001b[0m \u001b[0mnp\u001b[0m\u001b[1;33m.\u001b[0m\u001b[0mmax\u001b[0m\u001b[1;33m(\u001b[0m\u001b[0mnp\u001b[0m\u001b[1;33m.\u001b[0m\u001b[0mabs\u001b[0m\u001b[1;33m(\u001b[0m\u001b[0mxm\u001b[0m\u001b[1;33m.\u001b[0m\u001b[0mreshape\u001b[0m\u001b[1;33m(\u001b[0m\u001b[1;33m-\u001b[0m\u001b[1;36m1\u001b[0m\u001b[1;33m,\u001b[0m \u001b[0mexog_dense\u001b[0m\u001b[1;33m.\u001b[0m\u001b[0mshape\u001b[0m\u001b[1;33m[\u001b[0m\u001b[1;33m-\u001b[0m\u001b[1;36m1\u001b[0m\u001b[1;33m]\u001b[0m\u001b[1;33m)\u001b[0m \u001b[1;33m-\u001b[0m \u001b[0mres_absorb\u001b[0m\u001b[1;33m.\u001b[0m\u001b[0mmodel\u001b[0m\u001b[1;33m.\u001b[0m\u001b[0mexog\u001b[0m\u001b[1;33m)\u001b[0m\u001b[1;33m)\u001b[0m\u001b[1;33m\u001b[0m\u001b[0m\n",
      "\u001b[1;31mValueError\u001b[0m: total size of new array must be unchanged"
     ]
    }
   ],
   "source": [
    "k_cat = (k_cat1, k_cat2)\n",
    "xm = exog_dense.reshape(-1, *k_cat)\n",
    "for axis in range(xm.ndim):\n",
    "    xm -= np.nanmean(xm, axis=axis, keepdims=True)\n",
    "np.max(np.abs(xm.reshape(-1, exog_dense.shape[-1]) - res_absorb.model.exog))"
   ]
  },
  {
   "cell_type": "code",
   "execution_count": 252,
   "metadata": {
    "collapsed": false
   },
   "outputs": [
    {
     "data": {
      "text/html": [
       "<div>\n",
       "<table border=\"1\" class=\"dataframe\">\n",
       "  <thead>\n",
       "    <tr style=\"text-align: right;\">\n",
       "      <th></th>\n",
       "      <th>A</th>\n",
       "      <th>B</th>\n",
       "      <th>C</th>\n",
       "    </tr>\n",
       "  </thead>\n",
       "  <tbody>\n",
       "    <tr>\n",
       "      <th>0</th>\n",
       "      <td>3</td>\n",
       "      <td>0.299347</td>\n",
       "      <td>0.412738</td>\n",
       "    </tr>\n",
       "    <tr>\n",
       "      <th>21</th>\n",
       "      <td>3</td>\n",
       "      <td>-0.063758</td>\n",
       "      <td>0.049633</td>\n",
       "    </tr>\n",
       "    <tr>\n",
       "      <th>26</th>\n",
       "      <td>3</td>\n",
       "      <td>-1.000889</td>\n",
       "      <td>-0.887498</td>\n",
       "    </tr>\n",
       "    <tr>\n",
       "      <th>28</th>\n",
       "      <td>3</td>\n",
       "      <td>0.159520</td>\n",
       "      <td>0.272911</td>\n",
       "    </tr>\n",
       "    <tr>\n",
       "      <th>30</th>\n",
       "      <td>3</td>\n",
       "      <td>0.028340</td>\n",
       "      <td>0.141731</td>\n",
       "    </tr>\n",
       "    <tr>\n",
       "      <th>32</th>\n",
       "      <td>3</td>\n",
       "      <td>-0.712358</td>\n",
       "      <td>-0.598967</td>\n",
       "    </tr>\n",
       "    <tr>\n",
       "      <th>51</th>\n",
       "      <td>3</td>\n",
       "      <td>-0.288721</td>\n",
       "      <td>-0.175330</td>\n",
       "    </tr>\n",
       "    <tr>\n",
       "      <th>60</th>\n",
       "      <td>3</td>\n",
       "      <td>0.418900</td>\n",
       "      <td>0.532291</td>\n",
       "    </tr>\n",
       "    <tr>\n",
       "      <th>99</th>\n",
       "      <td>3</td>\n",
       "      <td>0.139099</td>\n",
       "      <td>0.252490</td>\n",
       "    </tr>\n",
       "  </tbody>\n",
       "</table>\n",
       "</div>"
      ],
      "text/plain": [
       "    A         B         C\n",
       "0   3  0.299347  0.412738\n",
       "21  3 -0.063758  0.049633\n",
       "26  3 -1.000889 -0.887498\n",
       "28  3  0.159520  0.272911\n",
       "30  3  0.028340  0.141731\n",
       "32  3 -0.712358 -0.598967\n",
       "51  3 -0.288721 -0.175330\n",
       "60  3  0.418900  0.532291\n",
       "99  3  0.139099  0.252490"
      ]
     },
     "execution_count": 252,
     "metadata": {},
     "output_type": "execute_result"
    }
   ],
   "source": [
    "from pandas import DataFrame\n",
    "np.random.seed(1234)\n",
    "df = DataFrame({'A' : np.random.randint(0,10,size=100), 'B' : np.random.randn(100)})\n",
    "df['C'] = df['B'] - df.groupby('A')['B'].transform('mean')\n",
    "df.head()\n",
    "df[df.A==3]"
   ]
  },
  {
   "cell_type": "code",
   "execution_count": 253,
   "metadata": {
    "collapsed": false
   },
   "outputs": [
    {
     "data": {
      "text/plain": [
       "-0.11339119534010732"
      ]
     },
     "execution_count": 253,
     "metadata": {},
     "output_type": "execute_result"
    }
   ],
   "source": [
    "df[df.A==3].B.mean()"
   ]
  },
  {
   "cell_type": "code",
   "execution_count": 254,
   "metadata": {
    "collapsed": false
   },
   "outputs": [
    {
     "data": {
      "text/html": [
       "<div>\n",
       "<table border=\"1\" class=\"dataframe\">\n",
       "  <thead>\n",
       "    <tr style=\"text-align: right;\">\n",
       "      <th></th>\n",
       "      <th>A</th>\n",
       "      <th>B</th>\n",
       "      <th>C</th>\n",
       "    </tr>\n",
       "  </thead>\n",
       "  <tbody>\n",
       "    <tr>\n",
       "      <th>0</th>\n",
       "      <td>3</td>\n",
       "      <td>0.299347</td>\n",
       "      <td>0.412738</td>\n",
       "    </tr>\n",
       "    <tr>\n",
       "      <th>1</th>\n",
       "      <td>6</td>\n",
       "      <td>0.127277</td>\n",
       "      <td>0.161831</td>\n",
       "    </tr>\n",
       "    <tr>\n",
       "      <th>2</th>\n",
       "      <td>5</td>\n",
       "      <td>0.926190</td>\n",
       "      <td>0.838768</td>\n",
       "    </tr>\n",
       "    <tr>\n",
       "      <th>3</th>\n",
       "      <td>4</td>\n",
       "      <td>2.455240</td>\n",
       "      <td>1.855498</td>\n",
       "    </tr>\n",
       "    <tr>\n",
       "      <th>4</th>\n",
       "      <td>8</td>\n",
       "      <td>-0.320890</td>\n",
       "      <td>0.129203</td>\n",
       "    </tr>\n",
       "  </tbody>\n",
       "</table>\n",
       "</div>"
      ],
      "text/plain": [
       "   A         B         C\n",
       "0  3  0.299347  0.412738\n",
       "1  6  0.127277  0.161831\n",
       "2  5  0.926190  0.838768\n",
       "3  4  2.455240  1.855498\n",
       "4  8 -0.320890  0.129203"
      ]
     },
     "execution_count": 254,
     "metadata": {},
     "output_type": "execute_result"
    }
   ],
   "source": [
    "df.head()"
   ]
  },
  {
   "cell_type": "code",
   "execution_count": 255,
   "metadata": {
    "collapsed": false
   },
   "outputs": [
    {
     "data": {
      "text/html": [
       "<div>\n",
       "<table border=\"1\" class=\"dataframe\">\n",
       "  <thead>\n",
       "    <tr style=\"text-align: right;\">\n",
       "      <th></th>\n",
       "      <th>A</th>\n",
       "      <th>B</th>\n",
       "      <th>C</th>\n",
       "    </tr>\n",
       "  </thead>\n",
       "  <tbody>\n",
       "    <tr>\n",
       "      <th>0</th>\n",
       "      <td>3</td>\n",
       "      <td>0.412738</td>\n",
       "      <td>0.412738</td>\n",
       "    </tr>\n",
       "    <tr>\n",
       "      <th>1</th>\n",
       "      <td>6</td>\n",
       "      <td>0.161831</td>\n",
       "      <td>0.161831</td>\n",
       "    </tr>\n",
       "    <tr>\n",
       "      <th>2</th>\n",
       "      <td>5</td>\n",
       "      <td>0.838768</td>\n",
       "      <td>0.838768</td>\n",
       "    </tr>\n",
       "    <tr>\n",
       "      <th>3</th>\n",
       "      <td>4</td>\n",
       "      <td>1.855498</td>\n",
       "      <td>1.855498</td>\n",
       "    </tr>\n",
       "    <tr>\n",
       "      <th>4</th>\n",
       "      <td>8</td>\n",
       "      <td>0.129203</td>\n",
       "      <td>0.129203</td>\n",
       "    </tr>\n",
       "  </tbody>\n",
       "</table>\n",
       "</div>"
      ],
      "text/plain": [
       "   A         B         C\n",
       "0  3  0.412738  0.412738\n",
       "1  6  0.161831  0.161831\n",
       "2  5  0.838768  0.838768\n",
       "3  4  1.855498  1.855498\n",
       "4  8  0.129203  0.129203"
      ]
     },
     "execution_count": 255,
     "metadata": {},
     "output_type": "execute_result"
    }
   ],
   "source": [
    "df['B'] -= df.groupby('A')['B'].transform('mean')\n",
    "df.head()"
   ]
  },
  {
   "cell_type": "code",
   "execution_count": 257,
   "metadata": {
    "collapsed": false
   },
   "outputs": [
    {
     "data": {
      "text/plain": [
       "-6.1679056923619804e-18"
      ]
     },
     "execution_count": 257,
     "metadata": {},
     "output_type": "execute_result"
    }
   ],
   "source": [
    "np.random.seed(1234)\n",
    "df = DataFrame({'A' : np.random.randint(0,10,size=100), 'B' : np.random.randn(100), 'D' : np.random.randn(100)})\n",
    "df[['B', 'D']] -= df.groupby('A')[['B', 'D']].transform('mean')\n",
    "df[df.A==3].B.mean()"
   ]
  },
  {
   "cell_type": "code",
   "execution_count": 258,
   "metadata": {
    "collapsed": false
   },
   "outputs": [
    {
     "data": {
      "text/html": [
       "<div>\n",
       "<table border=\"1\" class=\"dataframe\">\n",
       "  <thead>\n",
       "    <tr style=\"text-align: right;\">\n",
       "      <th></th>\n",
       "      <th>A</th>\n",
       "      <th>B</th>\n",
       "      <th>D</th>\n",
       "    </tr>\n",
       "  </thead>\n",
       "  <tbody>\n",
       "    <tr>\n",
       "      <th>0</th>\n",
       "      <td>3</td>\n",
       "      <td>0.412738</td>\n",
       "      <td>-0.257500</td>\n",
       "    </tr>\n",
       "    <tr>\n",
       "      <th>21</th>\n",
       "      <td>3</td>\n",
       "      <td>0.049633</td>\n",
       "      <td>-0.613769</td>\n",
       "    </tr>\n",
       "    <tr>\n",
       "      <th>26</th>\n",
       "      <td>3</td>\n",
       "      <td>-0.887498</td>\n",
       "      <td>-0.414497</td>\n",
       "    </tr>\n",
       "    <tr>\n",
       "      <th>28</th>\n",
       "      <td>3</td>\n",
       "      <td>0.272911</td>\n",
       "      <td>1.268343</td>\n",
       "    </tr>\n",
       "    <tr>\n",
       "      <th>30</th>\n",
       "      <td>3</td>\n",
       "      <td>0.141731</td>\n",
       "      <td>-0.714718</td>\n",
       "    </tr>\n",
       "    <tr>\n",
       "      <th>32</th>\n",
       "      <td>3</td>\n",
       "      <td>-0.598967</td>\n",
       "      <td>0.549872</td>\n",
       "    </tr>\n",
       "    <tr>\n",
       "      <th>51</th>\n",
       "      <td>3</td>\n",
       "      <td>-0.175330</td>\n",
       "      <td>-0.013277</td>\n",
       "    </tr>\n",
       "    <tr>\n",
       "      <th>60</th>\n",
       "      <td>3</td>\n",
       "      <td>0.532291</td>\n",
       "      <td>1.490721</td>\n",
       "    </tr>\n",
       "    <tr>\n",
       "      <th>99</th>\n",
       "      <td>3</td>\n",
       "      <td>0.252490</td>\n",
       "      <td>-1.295175</td>\n",
       "    </tr>\n",
       "  </tbody>\n",
       "</table>\n",
       "</div>"
      ],
      "text/plain": [
       "    A         B         D\n",
       "0   3  0.412738 -0.257500\n",
       "21  3  0.049633 -0.613769\n",
       "26  3 -0.887498 -0.414497\n",
       "28  3  0.272911  1.268343\n",
       "30  3  0.141731 -0.714718\n",
       "32  3 -0.598967  0.549872\n",
       "51  3 -0.175330 -0.013277\n",
       "60  3  0.532291  1.490721\n",
       "99  3  0.252490 -1.295175"
      ]
     },
     "execution_count": 258,
     "metadata": {},
     "output_type": "execute_result"
    }
   ],
   "source": [
    "df[df.A==3]"
   ]
  },
  {
   "cell_type": "code",
   "execution_count": 268,
   "metadata": {
    "collapsed": false
   },
   "outputs": [
    {
     "data": {
      "text/plain": [
       "-6.1679056923619804e-18"
      ]
     },
     "execution_count": 268,
     "metadata": {},
     "output_type": "execute_result"
    }
   ],
   "source": [
    "np.random.seed(1234)\n",
    "df = DataFrame({'A' : np.random.randint(0,10,size=100), 'B' : np.random.randn(100), 'D' : np.random.randn(100)})\n",
    "df2 = df[['B', 'D']].copy()\n",
    "df2[df2.columns] -= df2.groupby(df['A'])[df2.columns].transform('mean')\n",
    "df2[df.A==3].B.mean()"
   ]
  },
  {
   "cell_type": "code",
   "execution_count": 38,
   "metadata": {
    "collapsed": false
   },
   "outputs": [
    {
     "data": {
      "text/plain": [
       "'0.17.0'"
      ]
     },
     "execution_count": 38,
     "metadata": {},
     "output_type": "execute_result"
    }
   ],
   "source": [
    "import pandas as pd\n",
    "pd.__version__"
   ]
  },
  {
   "cell_type": "code",
   "execution_count": 168,
   "metadata": {
    "collapsed": false
   },
   "outputs": [
    {
     "data": {
      "text/plain": [
       "array([  2.46291876e-12,   1.81591915e-08,   8.87074103e-09])"
      ]
     },
     "execution_count": 168,
     "metadata": {},
     "output_type": "execute_result"
    }
   ],
   "source": [
    "# with unbalanced panel\n",
    "\n",
    "k_cat = (k_cat1, k_cat2)\n",
    "xm = np.empty(exog_dense.shape[1:] + k_cat)\n",
    "xm.fill(np.nan)\n",
    "xm[:, xcat1, xcat2] = exog_dense.T\n",
    "for it in range(3):\n",
    "    for axis in range(1, xm.ndim):\n",
    "        xm = xm - np.nanmean(xm, axis=axis, keepdims=True)\n",
    "np.max(np.abs(xm.reshape(exog_dense.shape[-1], -1).T[keep] + exog_dense.mean(0) - res_absorb.model.wexog), axis=0)"
   ]
  },
  {
   "cell_type": "code",
   "execution_count": 161,
   "metadata": {
    "collapsed": false
   },
   "outputs": [
    {
     "data": {
      "text/plain": [
       "array([  1.00000000e+00,   5.50480222e-03,   4.37210890e-04])"
      ]
     },
     "execution_count": 161,
     "metadata": {},
     "output_type": "execute_result"
    }
   ],
   "source": [
    "np.mean(np.abs(xm.reshape(exog_dense.shape[-1], -1).T[keep] - res_absorb.model.wexog), axis=0)"
   ]
  },
  {
   "cell_type": "code",
   "execution_count": 165,
   "metadata": {
    "collapsed": false
   },
   "outputs": [
    {
     "data": {
      "text/plain": [
       "array([  1.00000000e+00,   5.50480222e-03,  -4.37210890e-04])"
      ]
     },
     "execution_count": 165,
     "metadata": {},
     "output_type": "execute_result"
    }
   ],
   "source": [
    "exog_dense.mean(0)"
   ]
  },
  {
   "cell_type": "code",
   "execution_count": 143,
   "metadata": {
    "collapsed": false
   },
   "outputs": [
    {
     "data": {
      "text/plain": [
       "(3, 500, 100)"
      ]
     },
     "execution_count": 143,
     "metadata": {},
     "output_type": "execute_result"
    }
   ],
   "source": [
    "xm.shape"
   ]
  },
  {
   "cell_type": "code",
   "execution_count": 144,
   "metadata": {
    "collapsed": false
   },
   "outputs": [
    {
     "data": {
      "text/plain": [
       "array([[ 1.25613714, -0.64928293,         nan,  1.01937572, -0.97799897],\n",
       "       [-1.05059664, -0.4049158 , -0.12842189,  1.18230988,         nan],\n",
       "       [-0.77676263, -0.32479844,  0.95401314, -0.25217179, -0.56684707],\n",
       "       [-2.2978674 , -0.42271699, -0.38449664,  0.12053973, -0.55790378],\n",
       "       [ 0.71525705,  1.68877901,  0.63852735,  0.26383767, -0.9373546 ]])"
      ]
     },
     "execution_count": 144,
     "metadata": {},
     "output_type": "execute_result"
    }
   ],
   "source": [
    "xm[2, :5, :5].T"
   ]
  },
  {
   "cell_type": "code",
   "execution_count": 148,
   "metadata": {
    "collapsed": false
   },
   "outputs": [
    {
     "data": {
      "text/plain": [
       "array([[ 0.        ,  0.04164011,  1.25613714],\n",
       "       [ 0.        ,  0.27399995, -1.05059664],\n",
       "       [ 0.        , -0.19539316, -0.77676263],\n",
       "       [ 0.        ,  1.52001694, -2.2978674 ],\n",
       "       [ 0.        ,  1.37016205,  0.71525705],\n",
       "       [ 0.        , -0.44608325,  0.18861505],\n",
       "       [ 0.        , -1.11596406, -0.7916908 ],\n",
       "       [ 0.        , -0.19718592,  0.61622113],\n",
       "       [ 0.        , -0.14156295,  1.42509703],\n",
       "       [ 0.        ,  1.01912515, -0.96210196],\n",
       "       [ 0.        , -0.07267247, -1.02366338],\n",
       "       [ 0.        , -0.68477153, -1.70689319],\n",
       "       [ 0.        ,  1.77287893,  2.07257506],\n",
       "       [ 0.        ,  0.09987039, -2.00679704],\n",
       "       [ 0.        , -0.37646237, -0.49738476],\n",
       "       [ 0.        ,  0.57775695,  0.33491472],\n",
       "       [ 0.        , -1.71541644, -1.47055459],\n",
       "       [ 0.        ,  0.33396242, -0.11219462],\n",
       "       [ 0.        , -0.42031679,  0.30636725],\n",
       "       [ 0.        ,  1.08465167,  1.03490046],\n",
       "       [ 0.        ,  0.02006508, -0.04482908],\n",
       "       [ 0.        ,  0.7856064 ,  0.549097  ],\n",
       "       [ 0.        , -0.68907954, -0.6070602 ],\n",
       "       [ 0.        ,  0.63971746,  0.1662245 ],\n",
       "       [ 0.        , -0.25337541,  0.38372953],\n",
       "       [ 0.        ,  0.49551581, -0.07408309],\n",
       "       [ 0.        , -0.79229675,  0.48151472],\n",
       "       [ 0.        ,  1.27920218, -0.3699976 ],\n",
       "       [ 0.        , -1.46619638,  1.58568933],\n",
       "       [ 0.        , -0.1398496 ,  0.78867283],\n",
       "       [        nan,         nan,         nan],\n",
       "       [ 0.        ,  1.76919308,  0.82521548],\n",
       "       [ 0.        , -0.49427483,  0.69302584],\n",
       "       [ 0.        , -1.14920864, -0.67415144],\n",
       "       [ 0.        , -0.38847493,  0.27379884]])"
      ]
     },
     "execution_count": 148,
     "metadata": {},
     "output_type": "execute_result"
    }
   ],
   "source": [
    "xm.reshape(exog_dense.shape[-1], -1).T[:35]"
   ]
  },
  {
   "cell_type": "code",
   "execution_count": 155,
   "metadata": {
    "collapsed": false
   },
   "outputs": [
    {
     "data": {
      "text/plain": [
       "array([[ 1.        ,  0.04426225,  1.2568567 ],\n",
       "       [ 1.        ,  0.27806371, -1.05106664],\n",
       "       [ 1.        , -0.18939071, -0.77632501],\n",
       "       [ 1.        ,  1.52568043, -2.29819365],\n",
       "       [ 1.        ,  1.37558971,  0.71402554]])"
      ]
     },
     "execution_count": 155,
     "metadata": {},
     "output_type": "execute_result"
    }
   ],
   "source": [
    "res_absorb.model.wexog[:5]"
   ]
  },
  {
   "cell_type": "code",
   "execution_count": 135,
   "metadata": {
    "collapsed": false
   },
   "outputs": [
    {
     "data": {
      "text/plain": [
       "array([[90, 89, 90, ..., 89, 95, 92],\n",
       "       [90, 89, 90, ..., 89, 95, 92],\n",
       "       [90, 89, 90, ..., 89, 95, 92]])"
      ]
     },
     "execution_count": 135,
     "metadata": {},
     "output_type": "execute_result"
    }
   ],
   "source": [
    "(1 - np.isnan(xm)).sum(2)"
   ]
  },
  {
   "cell_type": "code",
   "execution_count": 93,
   "metadata": {
    "collapsed": false
   },
   "outputs": [
    {
     "data": {
      "text/plain": [
       "array([ True,  True,  True,  True,  True,  True,  True,  True,  True,\n",
       "        True,  True,  True,  True,  True,  True,  True,  True,  True,\n",
       "        True,  True,  True,  True,  True,  True,  True], dtype=bool)"
      ]
     },
     "execution_count": 93,
     "metadata": {},
     "output_type": "execute_result"
    }
   ],
   "source": [
    "keep[:25]"
   ]
  },
  {
   "cell_type": "code",
   "execution_count": 55,
   "metadata": {
    "collapsed": false
   },
   "outputs": [
    {
     "data": {
      "text/plain": [
       "(45004, 3, 500, 100)"
      ]
     },
     "execution_count": 55,
     "metadata": {},
     "output_type": "execute_result"
    }
   ],
   "source": [
    "exog_dense.shape + k_cat"
   ]
  },
  {
   "cell_type": "code",
   "execution_count": null,
   "metadata": {
    "collapsed": true
   },
   "outputs": [],
   "source": []
  },
  {
   "cell_type": "code",
   "execution_count": 59,
   "metadata": {
    "collapsed": false
   },
   "outputs": [
    {
     "data": {
      "text/plain": [
       "(3, 500, 100)"
      ]
     },
     "execution_count": 59,
     "metadata": {},
     "output_type": "execute_result"
    }
   ],
   "source": [
    "xm.shape"
   ]
  },
  {
   "cell_type": "code",
   "execution_count": 60,
   "metadata": {
    "collapsed": false
   },
   "outputs": [
    {
     "data": {
      "text/plain": [
       "(3, 45004)"
      ]
     },
     "execution_count": 60,
     "metadata": {},
     "output_type": "execute_result"
    }
   ],
   "source": [
    "xm[:, xcat1, xcat2].shape"
   ]
  },
  {
   "cell_type": "code",
   "execution_count": 63,
   "metadata": {
    "collapsed": false
   },
   "outputs": [
    {
     "data": {
      "text/plain": [
       "(3, 500, 100)"
      ]
     },
     "execution_count": 63,
     "metadata": {},
     "output_type": "execute_result"
    }
   ],
   "source": [
    "xm.shape"
   ]
  },
  {
   "cell_type": "code",
   "execution_count": 64,
   "metadata": {
    "collapsed": false
   },
   "outputs": [
    {
     "data": {
      "text/plain": [
       "array([[ 0.82354472, -0.79173107, -0.4527107 , -2.03858391,  0.02011735],\n",
       "       [-0.22716557, -0.62813354, -0.55430332, -0.31087111,  0.59286123],\n",
       "       [        nan, -0.17556253,  0.62983789,  0.27106117,  1.27671329],\n",
       "       [ 0.32628804,  0.82303316,  0.24584554,  0.23520047,  0.57318511],\n",
       "       [-0.11265914,         nan, -0.56664384,  0.3148938 , -1.02569297]])"
      ]
     },
     "execution_count": 64,
     "metadata": {},
     "output_type": "execute_result"
    }
   ],
   "source": [
    "xm[-1, :5,:5]"
   ]
  },
  {
   "cell_type": "code",
   "execution_count": 66,
   "metadata": {
    "collapsed": false
   },
   "outputs": [
    {
     "data": {
      "text/plain": [
       "array([[-0.43259242,  0.25886556,  0.32405193],\n",
       "       [ 0.25928348, -0.6951397 ,  0.08582273],\n",
       "       [ 0.63588495, -0.1396784 , -0.4278447 ],\n",
       "       [-0.01900773,  0.36544528,  0.79722157],\n",
       "       [-1.28181799,  0.63564222,  0.29128238],\n",
       "       [-0.30422389,  1.06199035, -0.0739226 ],\n",
       "       [ 0.03798318, -0.70651738,  0.00825467],\n",
       "       [-0.44490113,  0.43204658, -0.26864732],\n",
       "       [-0.04345138, -0.14047757,  0.10359401],\n",
       "       [-0.3030682 , -0.03983098, -0.21627441],\n",
       "       [        nan, -0.86480285, -0.06625034],\n",
       "       [ 0.60778669,  0.03822536, -0.73526058],\n",
       "       [ 0.08891526, -0.83772098, -0.15563802],\n",
       "       [-0.35842707, -0.20229687,         nan],\n",
       "       [ 0.57887614, -0.40193665,  0.05807339]])"
      ]
     },
     "execution_count": 66,
     "metadata": {},
     "output_type": "execute_result"
    }
   ],
   "source": [
    "xm.reshape(-1, exog_dense.shape[-1])[:15]\n"
   ]
  },
  {
   "cell_type": "code",
   "execution_count": null,
   "metadata": {
    "collapsed": true
   },
   "outputs": [],
   "source": []
  },
  {
   "cell_type": "code",
   "execution_count": 67,
   "metadata": {
    "collapsed": false
   },
   "outputs": [
    {
     "data": {
      "text/plain": [
       "array([ True,  True,  True,  True,  True,  True,  True,  True,  True,\n",
       "        True,  True,  True,  True,  True,  True], dtype=bool)"
      ]
     },
     "execution_count": 67,
     "metadata": {},
     "output_type": "execute_result"
    }
   ],
   "source": [
    "keep[:15]"
   ]
  },
  {
   "cell_type": "code",
   "execution_count": 68,
   "metadata": {
    "collapsed": false
   },
   "outputs": [
    {
     "data": {
      "text/plain": [
       "array([[ 1.        ,  0.12715784,  1.40189088],\n",
       "       [ 1.        ,  0.31481499, -0.85844916],\n",
       "       [ 1.        , -0.26613444, -0.64890071],\n",
       "       [ 1.        ,  1.56626757, -2.09137019],\n",
       "       [ 1.        ,  1.45632806,  0.94529342],\n",
       "       [ 1.        , -0.40020119,  0.3152273 ],\n",
       "       [ 1.        , -1.11006083, -0.58482153],\n",
       "       [ 1.        , -0.18840956,  0.81302365],\n",
       "       [ 1.        , -0.16130472,  1.60087155],\n",
       "       [ 1.        ,  0.98434258, -0.83544737],\n",
       "       [ 1.        , -0.18664934, -0.85806707],\n",
       "       [ 1.        , -0.75977816, -1.51205424],\n",
       "       [ 1.        ,  1.74777474,  2.13005498],\n",
       "       [ 1.        ,  0.07115422, -1.84164224],\n",
       "       [ 1.        , -0.3525907 , -0.40890379]])"
      ]
     },
     "execution_count": 68,
     "metadata": {},
     "output_type": "execute_result"
    }
   ],
   "source": [
    "res_absorb.model.exog[:15]"
   ]
  },
  {
   "cell_type": "code",
   "execution_count": 69,
   "metadata": {
    "collapsed": false
   },
   "outputs": [
    {
     "data": {
      "text/plain": [
       "4996"
      ]
     },
     "execution_count": 69,
     "metadata": {},
     "output_type": "execute_result"
    }
   ],
   "source": [
    "(1-keep).sum()"
   ]
  },
  {
   "cell_type": "code",
   "execution_count": 70,
   "metadata": {
    "collapsed": false
   },
   "outputs": [
    {
     "data": {
      "text/plain": [
       "(50000,)"
      ]
     },
     "execution_count": 70,
     "metadata": {},
     "output_type": "execute_result"
    }
   ],
   "source": [
    "keep.shape"
   ]
  },
  {
   "cell_type": "code",
   "execution_count": 130,
   "metadata": {
    "collapsed": true
   },
   "outputs": [],
   "source": [
    "k_cat = (k_cat1, k_cat2)\n",
    "xm = np.empty(exog_dense.shape[1:] + k_cat)\n",
    "xm.fill(np.nan)\n",
    "xm2 = xm.copy()\n",
    "xm[:, xcat1, xcat2] = exog_dense.T\n",
    "xm2[2, xcat1, xcat2] = exog_dense[:, 2]"
   ]
  },
  {
   "cell_type": "code",
   "execution_count": 131,
   "metadata": {
    "collapsed": false
   },
   "outputs": [
    {
     "data": {
      "text/plain": [
       "array([[[ 1.        ,  1.        ,  1.        ,  1.        ,  1.        ],\n",
       "        [ 1.        ,  1.        ,  1.        ,  1.        ,  1.        ],\n",
       "        [        nan,  1.        ,  1.        ,  1.        ,  1.        ],\n",
       "        [ 1.        ,  1.        ,  1.        ,  1.        ,  1.        ],\n",
       "        [ 1.        ,         nan,  1.        ,  1.        ,  1.        ]],\n",
       "\n",
       "       [[ 0.12715784,  0.31481499, -0.26613444,  1.56626757,  1.45632806],\n",
       "        [-0.57838256,  1.06855293,  0.89574066,  0.08659882,  1.63830921],\n",
       "        [        nan,  0.23843596, -0.12445156, -1.60814904, -2.53914201],\n",
       "        [ 1.2175538 ,  0.00848407, -1.24047272, -0.34612256, -1.0335652 ],\n",
       "        [-1.54299242,         nan,  0.48500646, -2.02472795,  1.27804609]],\n",
       "\n",
       "       [[ 1.40189088, -0.85844916, -0.64890071, -2.09137019,  0.94529342],\n",
       "        [-0.79131045, -0.50054959, -0.48471778, -0.50400105,  1.63103412],\n",
       "        [        nan, -0.23832739,  0.77982209, -0.48005241,  0.56651075],\n",
       "        [ 1.06236213,  1.27169002, -0.22707719,  0.22426961,  0.39110672],\n",
       "        [-0.89344399,         nan, -0.50018391, -0.41260533, -0.76851699]]])"
      ]
     },
     "execution_count": 131,
     "metadata": {},
     "output_type": "execute_result"
    }
   ],
   "source": [
    "xm[:, :5, :5]"
   ]
  },
  {
   "cell_type": "code",
   "execution_count": 114,
   "metadata": {
    "collapsed": false
   },
   "outputs": [
    {
     "data": {
      "text/plain": [
       "array([30, 41, 47, 54, 65], dtype=int64)"
      ]
     },
     "execution_count": 114,
     "metadata": {},
     "output_type": "execute_result"
    }
   ],
   "source": [
    "np.nonzero(np.isnan(xm[2, :, :].ravel()))[0][:5]"
   ]
  },
  {
   "cell_type": "code",
   "execution_count": 74,
   "metadata": {
    "collapsed": false
   },
   "outputs": [
    {
     "data": {
      "text/plain": [
       "array([ 1.40189088, -0.85844916, -0.64890071, -2.09137019,  0.94529342,\n",
       "        0.3152273 , -0.58482153,  0.81302365,  1.60087155, -0.83544737,\n",
       "       -0.85806707, -1.51205424,  2.13005498, -1.84164224, -0.40890379])"
      ]
     },
     "execution_count": 74,
     "metadata": {},
     "output_type": "execute_result"
    }
   ],
   "source": [
    "exog_dense[:15, 2]"
   ]
  },
  {
   "cell_type": "code",
   "execution_count": 76,
   "metadata": {
    "collapsed": false
   },
   "outputs": [
    {
     "data": {
      "text/plain": [
       "array([ 1.06431957, -0.45038494,  0.15887889,  1.73184946,  0.67221779,\n",
       "        1.30466212,  0.10767882, -0.7530067 ,  0.22635772,  0.46991989,\n",
       "       -0.26436464,  1.16655405,  1.36775412,  0.13920489,  1.42370617])"
      ]
     },
     "execution_count": 76,
     "metadata": {},
     "output_type": "execute_result"
    }
   ],
   "source": [
    "exog_dense[500:515, 2]"
   ]
  },
  {
   "cell_type": "code",
   "execution_count": 80,
   "metadata": {
    "collapsed": false
   },
   "outputs": [
    {
     "data": {
      "text/plain": [
       "array([[ 1.        ,  0.23843596, -0.23832739],\n",
       "       [ 1.        , -0.12445156,  0.77982209],\n",
       "       [ 1.        , -1.60814904, -0.48005241],\n",
       "       [ 1.        , -2.53914201,  0.56651075],\n",
       "       [ 1.        , -2.47332647, -2.6726669 ]])"
      ]
     },
     "execution_count": 80,
     "metadata": {},
     "output_type": "execute_result"
    }
   ],
   "source": [
    "exog_dense[xcat1 == 2][:5]"
   ]
  },
  {
   "cell_type": "code",
   "execution_count": 83,
   "metadata": {
    "collapsed": false
   },
   "outputs": [
    {
     "data": {
      "text/plain": [
       "array([[[  1.81260902e-17],\n",
       "        [ -3.88699527e-18],\n",
       "        [  7.75701677e-18],\n",
       "        [ -3.98286287e-18],\n",
       "        [  1.55479811e-17],\n",
       "        [ -1.97812566e-18],\n",
       "        [ -9.04254047e-18],\n",
       "        [ -1.99143143e-18],\n",
       "        [ -1.98697633e-18],\n",
       "        [  7.89491929e-18],\n",
       "        [ -1.14850658e-17],\n",
       "        [ -8.01966970e-18],\n",
       "        [ -2.13317961e-17],\n",
       "        [  3.94745964e-18],\n",
       "        [  0.00000000e+00],\n",
       "        [ -1.93925419e-18],\n",
       "        [  1.01148302e-17],\n",
       "        [  1.19218580e-17],\n",
       "        [  2.01401002e-17],\n",
       "        [ -9.31312912e-18],\n",
       "        [ -1.59672525e-17],\n",
       "        [ -1.00700501e-17],\n",
       "        [  0.00000000e+00],\n",
       "        [  1.91831192e-18],\n",
       "        [  1.29733926e-17],\n",
       "        [ -1.98697633e-18],\n",
       "        [  2.90888129e-18],\n",
       "        [  1.11996182e-17],\n",
       "        [  1.18952467e-17],\n",
       "        [  4.08357894e-18],\n",
       "        [ -3.94745964e-18],\n",
       "        [ -9.80329382e-18],\n",
       "        [  1.97372982e-18],\n",
       "        [  6.86230567e-18],\n",
       "        [  1.18952467e-17],\n",
       "        [  3.99181312e-18],\n",
       "        [  7.96572574e-18],\n",
       "        [  5.88197629e-18],\n",
       "        [  1.92246411e-18],\n",
       "        [  1.18687539e-17],\n",
       "        [  1.94775969e-18],\n",
       "        [  1.96499650e-18],\n",
       "        [ -1.55479811e-17],\n",
       "        [ -9.91270558e-18],\n",
       "        [  1.03620816e-17],\n",
       "        [  1.00700501e-17],\n",
       "        [  8.01966970e-18],\n",
       "        [ -7.77399054e-18],\n",
       "        [ -9.86864911e-19],\n",
       "        [ -2.90888129e-18],\n",
       "        [  4.81658579e-18],\n",
       "        [  9.78170066e-18],\n",
       "        [  6.89273718e-18],\n",
       "        [  3.99181312e-18],\n",
       "        [ -4.88010121e-18],\n",
       "        [  1.09774861e-17],\n",
       "        [  7.93016446e-18],\n",
       "        [  3.46944695e-18],\n",
       "        [ -1.16865582e-17],\n",
       "        [  3.95625131e-18],\n",
       "        [ -3.94745964e-18],\n",
       "        [  7.98362624e-18],\n",
       "        [  4.00983485e-18],\n",
       "        [ -7.72329061e-18],\n",
       "        [ -1.76459289e-17],\n",
       "        [ -1.38468796e-17],\n",
       "        [  1.88974132e-18],\n",
       "        [  0.00000000e+00],\n",
       "        [  5.80508771e-18],\n",
       "        [ -7.93016446e-18],\n",
       "        [ -7.91250263e-18],\n",
       "        [  4.01890688e-18],\n",
       "        [ -3.97395266e-18],\n",
       "        [ -9.89062828e-18],\n",
       "        [ -9.78170066e-18],\n",
       "        [  1.22002530e-17],\n",
       "        [ -6.71409173e-18],\n",
       "        [ -1.40980702e-17],\n",
       "        [  7.96572574e-18],\n",
       "        [ -3.96508223e-18],\n",
       "        [  3.97395266e-18],\n",
       "        [  1.93502924e-18],\n",
       "        [  1.27027806e-19],\n",
       "        [ -7.01721099e-18],\n",
       "        [ -5.00100462e-18],\n",
       "        [ -1.95204048e-18],\n",
       "        [ -6.44325863e-18],\n",
       "        [  9.95715717e-18],\n",
       "        [ -1.39713459e-17],\n",
       "        [  7.74011695e-18],\n",
       "        [  1.16101754e-17],\n",
       "        [ -1.17899790e-17],\n",
       "        [ -4.03717464e-18],\n",
       "        [ -1.41301112e-17],\n",
       "        [ -1.39713459e-17],\n",
       "        [ -7.80816193e-18],\n",
       "        [ -2.78800401e-17],\n",
       "        [  0.00000000e+00],\n",
       "        [ -9.95715717e-18],\n",
       "        [ -7.41797121e-18]],\n",
       "\n",
       "       [[  1.61120802e-17],\n",
       "        [ -5.83049291e-18],\n",
       "        [ -1.55140335e-17],\n",
       "        [  3.98286287e-18],\n",
       "        [ -1.33615462e-17],\n",
       "        [ -1.97812566e-18],\n",
       "        [  0.00000000e+00],\n",
       "        [  7.96572574e-18],\n",
       "        [  7.94790532e-18],\n",
       "        [ -3.94745964e-18],\n",
       "        [ -2.87126644e-18],\n",
       "        [ -1.60393394e-17],\n",
       "        [  1.55140335e-17],\n",
       "        [  1.38161088e-17],\n",
       "        [  3.94745964e-18],\n",
       "        [  1.93925419e-17],\n",
       "        [  1.92663432e-18],\n",
       "        [  1.78827870e-17],\n",
       "        [ -8.05604009e-18],\n",
       "        [  2.74492227e-17],\n",
       "        [ -1.59672525e-17],\n",
       "        [ -1.40980702e-17],\n",
       "        [ -8.03781375e-18],\n",
       "        [  7.67324769e-18],\n",
       "        [ -2.59467853e-17],\n",
       "        [ -3.97395266e-18],\n",
       "        [  7.75701677e-18],\n",
       "        [ -1.16865582e-17],\n",
       "        [ -7.93016446e-18],\n",
       "        [  1.32716316e-17],\n",
       "        [  7.89491929e-18],\n",
       "        [ -1.56852701e-17],\n",
       "        [  8.88178420e-18],\n",
       "        [  2.35279052e-17],\n",
       "        [ -7.93016446e-18],\n",
       "        [ -1.59672525e-17],\n",
       "        [  7.96572574e-18],\n",
       "        [  0.00000000e+00],\n",
       "        [  1.92246411e-18],\n",
       "        [ -1.28578168e-17],\n",
       "        [  0.00000000e+00],\n",
       "        [ -1.17899790e-17],\n",
       "        [  5.83049291e-18],\n",
       "        [ -1.88341406e-17],\n",
       "        [ -4.93432455e-18],\n",
       "        [ -6.04203007e-18],\n",
       "        [  6.01475228e-18],\n",
       "        [  1.16609858e-17],\n",
       "        [  0.00000000e+00],\n",
       "        [  3.87850838e-18],\n",
       "        [ -1.54130745e-17],\n",
       "        [  8.80353059e-18],\n",
       "        [ -9.84676740e-18],\n",
       "        [  9.97953281e-18],\n",
       "        [ -3.90408097e-18],\n",
       "        [  0.00000000e+00],\n",
       "        [  2.37904934e-17],\n",
       "        [  0.00000000e+00],\n",
       "        [  0.00000000e+00],\n",
       "        [  9.89062828e-18],\n",
       "        [ -1.18423789e-17],\n",
       "        [  7.98362624e-18],\n",
       "        [ -3.00737614e-18],\n",
       "        [  5.79246795e-18],\n",
       "        [ -1.96065876e-17],\n",
       "        [ -2.37375079e-17],\n",
       "        [ -7.55896527e-18],\n",
       "        [  1.20567206e-17],\n",
       "        [ -1.74152631e-17],\n",
       "        [  4.95635279e-19],\n",
       "        [ -7.91250263e-18],\n",
       "        [  2.41134413e-17],\n",
       "        [ -7.94790532e-18],\n",
       "        [ -2.47265707e-17],\n",
       "        [  7.82536053e-18],\n",
       "        [ -7.80816193e-18],\n",
       "        [  0.00000000e+00],\n",
       "        [  0.00000000e+00],\n",
       "        [  7.96572574e-18],\n",
       "        [  1.98254112e-17],\n",
       "        [  1.19218580e-17],\n",
       "        [ -2.70904093e-17],\n",
       "        [ -4.06488979e-18],\n",
       "        [  1.10270458e-17],\n",
       "        [ -3.30066305e-17],\n",
       "        [  1.95204048e-18],\n",
       "        [ -1.38777878e-17],\n",
       "        [ -1.19485886e-17],\n",
       "        [  7.98362624e-18],\n",
       "        [  0.00000000e+00],\n",
       "        [  1.25776900e-17],\n",
       "        [  7.85998602e-18],\n",
       "        [  7.06505561e-18],\n",
       "        [ -2.01858732e-18],\n",
       "        [ -1.59672525e-17],\n",
       "        [ -9.76020241e-19],\n",
       "        [  1.69271672e-17],\n",
       "        [  1.79631591e-17],\n",
       "        [  0.00000000e+00],\n",
       "        [ -7.91250263e-18]],\n",
       "\n",
       "       [[  6.04203007e-18],\n",
       "        [ -2.72089669e-17],\n",
       "        [ -7.75701677e-18],\n",
       "        [  0.00000000e+00],\n",
       "        [ -7.77399054e-18],\n",
       "        [  3.95625131e-18],\n",
       "        [  0.00000000e+00],\n",
       "        [  3.98286287e-18],\n",
       "        [ -1.98697633e-18],\n",
       "        [ -7.40148683e-18],\n",
       "        [ -3.82835526e-18],\n",
       "        [ -1.60393394e-17],\n",
       "        [ -9.69627096e-19],\n",
       "        [  1.18423789e-17],\n",
       "        [  1.97372982e-18],\n",
       "        [ -3.10280671e-17],\n",
       "        [  7.70653726e-18],\n",
       "        [ -1.98697633e-18],\n",
       "        [  0.00000000e+00],\n",
       "        [ -1.96065876e-17],\n",
       "        [  2.39508787e-17],\n",
       "        [  1.00700501e-17],\n",
       "        [  2.00945344e-18],\n",
       "        [ -7.67324769e-18],\n",
       "        [  2.39508787e-17],\n",
       "        [ -2.98046450e-17],\n",
       "        [ -7.75701677e-18],\n",
       "        [ -1.75298372e-17],\n",
       "        [ -3.96508223e-18],\n",
       "        [ -1.42925263e-17],\n",
       "        [  9.86864911e-18],\n",
       "        [  3.92131753e-18],\n",
       "        [ -1.18423789e-17],\n",
       "        [ -1.56852701e-17],\n",
       "        [  1.98254112e-18],\n",
       "        [ -2.39508787e-17],\n",
       "        [ -9.95715717e-18],\n",
       "        [ -1.96065876e-17],\n",
       "        [ -1.53797129e-17],\n",
       "        [  0.00000000e+00],\n",
       "        [  9.73879846e-19],\n",
       "        [  0.00000000e+00],\n",
       "        [ -3.88699527e-18],\n",
       "        [ -1.38777878e-17],\n",
       "        [  1.38161088e-17],\n",
       "        [  0.00000000e+00],\n",
       "        [  2.00491743e-17],\n",
       "        [ -1.94349764e-18],\n",
       "        [ -9.86864911e-18],\n",
       "        [ -3.87850838e-18],\n",
       "        [ -1.15598059e-17],\n",
       "        [ -3.91268026e-18],\n",
       "        [ -1.37854744e-17],\n",
       "        [ -2.99385984e-18],\n",
       "        [ -1.75683643e-17],\n",
       "        [  0.00000000e+00],\n",
       "        [  0.00000000e+00],\n",
       "        [  3.17206578e-17],\n",
       "        [  5.84327908e-18],\n",
       "        [  0.00000000e+00],\n",
       "        [ -1.97372982e-17],\n",
       "        [ -2.79426919e-17],\n",
       "        [ -4.00983485e-18],\n",
       "        [  1.15849359e-17],\n",
       "        [ -1.56852701e-17],\n",
       "        [ -8.90156545e-18],\n",
       "        [ -3.77948264e-18],\n",
       "        [ -2.00945344e-18],\n",
       "        [ -1.16101754e-17],\n",
       "        [  1.18952467e-17],\n",
       "        [  2.17593822e-17],\n",
       "        [  1.80850809e-17],\n",
       "        [ -1.98697633e-18],\n",
       "        [  1.78031309e-17],\n",
       "        [ -5.86902039e-18],\n",
       "        [  7.80816193e-18],\n",
       "        [ -1.15098715e-17],\n",
       "        [ -1.00700501e-17],\n",
       "        [ -7.96572574e-18],\n",
       "        [  1.58603289e-17],\n",
       "        [  4.96744083e-18],\n",
       "        [  2.32203508e-17],\n",
       "        [  0.00000000e+00],\n",
       "        [  2.20540917e-17],\n",
       "        [ -7.00140646e-18],\n",
       "        [ -1.17122429e-17],\n",
       "        [  3.17206578e-17],\n",
       "        [  3.98286287e-18],\n",
       "        [  1.99590656e-17],\n",
       "        [ -2.70904093e-17],\n",
       "        [ -8.70763157e-18],\n",
       "        [ -2.35799580e-17],\n",
       "        [  8.07434927e-18],\n",
       "        [  4.03717464e-18],\n",
       "        [ -3.99181312e-18],\n",
       "        [  1.56163239e-17],\n",
       "        [ -9.95715717e-18],\n",
       "        [ -1.79631591e-17],\n",
       "        [  7.96572574e-18],\n",
       "        [ -1.58250053e-17]]])"
      ]
     },
     "execution_count": 83,
     "metadata": {},
     "output_type": "execute_result"
    }
   ],
   "source": [
    "np.nanmean(xm, axis=axis, keepdims=True)[:10]"
   ]
  },
  {
   "cell_type": "code",
   "execution_count": 95,
   "metadata": {
    "collapsed": false
   },
   "outputs": [
    {
     "data": {
      "text/plain": [
       "array([ 0,  1,  2,  3,  4,  5,  6,  7,  8,  9, 10, 11, 12, 13, 14, 15, 16,\n",
       "       17, 18, 19])"
      ]
     },
     "execution_count": 95,
     "metadata": {},
     "output_type": "execute_result"
    }
   ],
   "source": [
    "xcat2[:20]"
   ]
  },
  {
   "cell_type": "code",
   "execution_count": 96,
   "metadata": {
    "collapsed": false
   },
   "outputs": [
    {
     "data": {
      "text/plain": [
       "array([30, 41, 47, 54, 65], dtype=int64)"
      ]
     },
     "execution_count": 96,
     "metadata": {},
     "output_type": "execute_result"
    }
   ],
   "source": [
    "np.nonzero(1 - keep)[0][:5]"
   ]
  },
  {
   "cell_type": "code",
   "execution_count": 104,
   "metadata": {
    "collapsed": false
   },
   "outputs": [
    {
     "data": {
      "text/plain": [
       "array([[ 0,  0],\n",
       "       [ 0,  1],\n",
       "       [ 0,  2],\n",
       "       [ 0,  3],\n",
       "       [ 0,  4],\n",
       "       [ 0,  5],\n",
       "       [ 0,  6],\n",
       "       [ 0,  7],\n",
       "       [ 0,  8],\n",
       "       [ 0,  9],\n",
       "       [ 0, 10],\n",
       "       [ 0, 11],\n",
       "       [ 0, 12],\n",
       "       [ 0, 13],\n",
       "       [ 0, 14],\n",
       "       [ 0, 15],\n",
       "       [ 0, 16],\n",
       "       [ 0, 17],\n",
       "       [ 0, 18],\n",
       "       [ 0, 19],\n",
       "       [ 0, 20],\n",
       "       [ 0, 21],\n",
       "       [ 0, 22],\n",
       "       [ 0, 23],\n",
       "       [ 0, 24],\n",
       "       [ 0, 25],\n",
       "       [ 0, 26],\n",
       "       [ 0, 27],\n",
       "       [ 0, 28],\n",
       "       [ 0, 29],\n",
       "       [ 0, 31],\n",
       "       [ 0, 32],\n",
       "       [ 0, 33],\n",
       "       [ 0, 34],\n",
       "       [ 0, 35]])"
      ]
     },
     "execution_count": 104,
     "metadata": {},
     "output_type": "execute_result"
    }
   ],
   "source": [
    "exog_absorb[:35]"
   ]
  },
  {
   "cell_type": "code",
   "execution_count": 119,
   "metadata": {
    "collapsed": false
   },
   "outputs": [
    {
     "data": {
      "text/plain": [
       "array([[ 1.40189088, -0.85844916, -0.64890071, -2.09137019,  0.94529342],\n",
       "       [-0.79131045, -0.50054959, -0.48471778, -0.50400105,  1.63103412],\n",
       "       [        nan, -0.23832739,  0.77982209, -0.48005241,  0.56651075],\n",
       "       [ 1.06236213,  1.27169002, -0.22707719,  0.22426961,  0.39110672],\n",
       "       [-0.89344399,         nan, -0.50018391, -0.41260533, -0.76851699]])"
      ]
     },
     "execution_count": 119,
     "metadata": {},
     "output_type": "execute_result"
    }
   ],
   "source": [
    "xm[2, :5, :5]"
   ]
  },
  {
   "cell_type": "code",
   "execution_count": 124,
   "metadata": {
    "collapsed": false
   },
   "outputs": [
    {
     "data": {
      "text/plain": [
       "array([[-0.01076965,  0.03562408, -0.02866147,  0.04997381,  0.07351298]])"
      ]
     },
     "execution_count": 124,
     "metadata": {},
     "output_type": "execute_result"
    }
   ],
   "source": [
    "np.nanmean(xm2[2, :,:], axis=0, keepdims=True)[:, :5]"
   ]
  },
  {
   "cell_type": "code",
   "execution_count": 126,
   "metadata": {
    "collapsed": false
   },
   "outputs": [
    {
     "data": {
      "text/plain": [
       "-0.028661471528007357"
      ]
     },
     "execution_count": 126,
     "metadata": {},
     "output_type": "execute_result"
    }
   ],
   "source": [
    "exog_dense[xcat2 == 2, 2].mean()"
   ]
  },
  {
   "cell_type": "code",
   "execution_count": 105,
   "metadata": {
    "collapsed": false
   },
   "outputs": [
    {
     "data": {
      "text/plain": [
       "(500, 100)"
      ]
     },
     "execution_count": 105,
     "metadata": {},
     "output_type": "execute_result"
    }
   ],
   "source": [
    "k_cat\n"
   ]
  },
  {
   "cell_type": "code",
   "execution_count": 115,
   "metadata": {
    "collapsed": false
   },
   "outputs": [
    {
     "data": {
      "text/plain": [
       "False"
      ]
     },
     "execution_count": 115,
     "metadata": {},
     "output_type": "execute_result"
    }
   ],
   "source": [
    "np.isnan(xm[2, :, :].ravel()[keep]).any()"
   ]
  },
  {
   "cell_type": "code",
   "execution_count": 117,
   "metadata": {
    "collapsed": false
   },
   "outputs": [
    {
     "data": {
      "text/plain": [
       "(45004, 3)"
      ]
     },
     "execution_count": 117,
     "metadata": {},
     "output_type": "execute_result"
    }
   ],
   "source": [
    "exog_dense.shape"
   ]
  },
  {
   "cell_type": "code",
   "execution_count": 129,
   "metadata": {
    "collapsed": false
   },
   "outputs": [
    {
     "data": {
      "text/plain": [
       "(500, 100)"
      ]
     },
     "execution_count": 129,
     "metadata": {},
     "output_type": "execute_result"
    }
   ],
   "source": [
    "(xm2[2, :,:] - np.nanmean(xm2[2, :,:], axis=0, keepdims=True)).shape"
   ]
  },
  {
   "cell_type": "code",
   "execution_count": 239,
   "metadata": {
    "collapsed": false
   },
   "outputs": [
    {
     "data": {
      "text/plain": [
       "((3, 500, 100), 3)"
      ]
     },
     "execution_count": 239,
     "metadata": {},
     "output_type": "execute_result"
    }
   ],
   "source": [
    "def _group_demean_iterative(exog_dense, groups, add_mean=True, max_iter=10, atol=1e-8, get_groupmeans=False):\n",
    "    \"\"\"iteratively demean an array for two-way fixed effects\n",
    "    \n",
    "    This is intended for almost balanced panels. The data is converted\n",
    "    to a 3-dimensional array with nans for missing cells.\n",
    "    \n",
    "    currently works only for two-way effects\n",
    "    groups have to be integers corresponding to range(k_cati)\n",
    "    \n",
    "    no input error checking\n",
    "    \n",
    "    This function will change as more options and special cases are\n",
    "    included.\n",
    "    \n",
    "    Parameters\n",
    "    ----------\n",
    "    exog_dense : 2d ndarray\n",
    "        data with observations in rows and variables in columns.\n",
    "        This array will currently not be modified.\n",
    "    groups : 2d ndarray, int\n",
    "        groups labels specified as consecutive integers starting at zero\n",
    "    max_iter : int\n",
    "        maximum number of iterations\n",
    "    atol : float\n",
    "        tolerance for convergence. Convergence is achieved if the\n",
    "        maximum absolute change (np.ptp) is smaller than atol.\n",
    "        \n",
    "    Returns\n",
    "    -------\n",
    "    ex_dm_w : ndarray\n",
    "        group demeaned exog_dense array in wide format\n",
    "    ex_dm : ndarray\n",
    "        group demeaned exog_dense array in long format\n",
    "    it : int\n",
    "        number of iterations used. If convergence has not been\n",
    "        achieved then it will be equal to max_iter - 1\n",
    "    \n",
    "    \"\"\"\n",
    "    # with unbalanced panel\n",
    "\n",
    "    k_cat = tuple((groups.max(0) + 1).tolist())\n",
    "    xm = np.empty(exog_dense.shape[1:] + k_cat)\n",
    "    xm.fill(np.nan)\n",
    "    xm[:, groups[:, 0], groups[:, 1]] = exog_dense.T\n",
    "    # for final group means\n",
    "    gmean = []\n",
    "    if get_groupmeans:\n",
    "        gmean = [np.nanmean(xm, axis=axis) for axis in range(len(k_cat))]\n",
    "    keep = ~np.isnan(xm[0]).ravel()\n",
    "    finished = False\n",
    "    for it in range(max_iter):\n",
    "        for axis in range(1, xm.ndim):\n",
    "            group_mean = np.nanmean(xm, axis=axis, keepdims=True)\n",
    "            xm -= group_mean\n",
    "            if np.ptp(group_mean) < atol:\n",
    "                finished = True\n",
    "                break\n",
    "        if finished:\n",
    "            break\n",
    "    \n",
    "    xd = xm.reshape(exog_dense.shape[-1], -1).T[keep]\n",
    "    if add_mean:\n",
    "        xmean = exog_dense.mean(0)\n",
    "        xd += xmean\n",
    "        xm += xmean[:, None, None]\n",
    "    return xm, xd, it\n",
    "\n",
    "xm, xd, it = _group_demean_iterative(exog_dense, exog_absorb, max_iter=50, add_mean=False)\n",
    "xm.shape, it"
   ]
  },
  {
   "cell_type": "code",
   "execution_count": 240,
   "metadata": {
    "collapsed": false
   },
   "outputs": [
    {
     "data": {
      "text/plain": [
       "array([  2.46291876e-12,   3.38842843e-11,   1.62518887e-11])"
      ]
     },
     "execution_count": 240,
     "metadata": {},
     "output_type": "execute_result"
    }
   ],
   "source": [
    "np.max(np.abs(xm.reshape(exog_dense.shape[-1], -1).T[keep] + exog_dense.mean(0) - res_absorb.model.wexog), axis=0)"
   ]
  },
  {
   "cell_type": "code",
   "execution_count": 212,
   "metadata": {
    "collapsed": false
   },
   "outputs": [
    {
     "data": {
      "text/plain": [
       "array([  2.46291876e-12,   3.38842843e-11,   1.62518887e-11])"
      ]
     },
     "execution_count": 212,
     "metadata": {},
     "output_type": "execute_result"
    }
   ],
   "source": [
    "np.max(np.abs(xd + exog_dense.mean(0) - res_absorb.model.wexog), axis=0)"
   ]
  },
  {
   "cell_type": "code",
   "execution_count": 213,
   "metadata": {
    "collapsed": false
   },
   "outputs": [
    {
     "data": {
      "text/plain": [
       "array([  2.46291876e-12,   3.38842843e-11,   1.62518887e-11])"
      ]
     },
     "execution_count": 213,
     "metadata": {},
     "output_type": "execute_result"
    }
   ],
   "source": [
    "xm, xd, it = _group_demean_iterative(exog_dense, exog_absorb, max_iter=50, add_mean=True)\n",
    "np.max(np.abs(xd - res_absorb.model.wexog), axis=0)"
   ]
  },
  {
   "cell_type": "code",
   "execution_count": 214,
   "metadata": {
    "collapsed": false
   },
   "outputs": [
    {
     "data": {
      "text/plain": [
       "(45004, 3)"
      ]
     },
     "execution_count": 214,
     "metadata": {},
     "output_type": "execute_result"
    }
   ],
   "source": [
    "xd.shape"
   ]
  },
  {
   "cell_type": "code",
   "execution_count": 227,
   "metadata": {
    "collapsed": true
   },
   "outputs": [],
   "source": [
    "ym, yd, it = _group_demean_iterative(y[:,None], exog_absorb, max_iter=50, add_mean=True)"
   ]
  },
  {
   "cell_type": "code",
   "execution_count": 228,
   "metadata": {
    "collapsed": true
   },
   "outputs": [],
   "source": [
    "mod_ols2 = OLS(yd, xd)\n",
    "ddof = k_cat1 + k_cat2 - 2\n",
    "mod_ols2.df_resid = mod_ols2.df_resid - ddof\n",
    "mod_ols2.df_model = mod_ols2.df_model + ddof\n",
    "res_ols2 = mod_ols2.fit()"
   ]
  },
  {
   "cell_type": "code",
   "execution_count": 229,
   "metadata": {
    "collapsed": false
   },
   "outputs": [
    {
     "data": {
      "text/plain": [
       "array([ 1.06526335,  1.00000761,  0.99998616])"
      ]
     },
     "execution_count": 229,
     "metadata": {},
     "output_type": "execute_result"
    }
   ],
   "source": [
    "res_ols2.params\n"
   ]
  },
  {
   "cell_type": "code",
   "execution_count": 230,
   "metadata": {
    "collapsed": false
   },
   "outputs": [
    {
     "data": {
      "text/plain": [
       "array([ 1.06526335,  1.00000761,  0.99998616])"
      ]
     },
     "execution_count": 230,
     "metadata": {},
     "output_type": "execute_result"
    }
   ],
   "source": [
    "res_absorb.params"
   ]
  },
  {
   "cell_type": "code",
   "execution_count": 231,
   "metadata": {
    "collapsed": false
   },
   "outputs": [
    {
     "data": {
      "text/plain": [
       "array([  4.69574069e-05,   4.71519470e-05,   4.75109106e-05])"
      ]
     },
     "execution_count": 231,
     "metadata": {},
     "output_type": "execute_result"
    }
   ],
   "source": [
    "res_ols2.bse"
   ]
  },
  {
   "cell_type": "code",
   "execution_count": 232,
   "metadata": {
    "collapsed": false
   },
   "outputs": [
    {
     "data": {
      "text/plain": [
       "array([  4.69574069e-05,   4.71519470e-05,   4.75109106e-05])"
      ]
     },
     "execution_count": 232,
     "metadata": {},
     "output_type": "execute_result"
    }
   ],
   "source": [
    "res_absorb.bse"
   ]
  },
  {
   "cell_type": "code",
   "execution_count": 233,
   "metadata": {
    "collapsed": false
   },
   "outputs": [
    {
     "data": {
      "text/plain": [
       "array([ 1.,  1.,  1.])"
      ]
     },
     "execution_count": 233,
     "metadata": {},
     "output_type": "execute_result"
    }
   ],
   "source": [
    "res_ols2.bse / res_absorb.bse"
   ]
  },
  {
   "cell_type": "code",
   "execution_count": 234,
   "metadata": {
    "collapsed": false
   },
   "outputs": [
    {
     "data": {
      "text/plain": [
       "598"
      ]
     },
     "execution_count": 234,
     "metadata": {},
     "output_type": "execute_result"
    }
   ],
   "source": [
    "ddof"
   ]
  },
  {
   "cell_type": "code",
   "execution_count": 238,
   "metadata": {
    "collapsed": false
   },
   "outputs": [
    {
     "data": {
      "text/plain": [
       "(44403.0, 44403.0, 600.0, 600.0)"
      ]
     },
     "execution_count": 238,
     "metadata": {},
     "output_type": "execute_result"
    }
   ],
   "source": [
    "res_ols2.df_resid, res_absorb.df_resid, res_ols2.df_model, res_absorb.df_model"
   ]
  },
  {
   "cell_type": "code",
   "execution_count": 236,
   "metadata": {
    "collapsed": false
   },
   "outputs": [
    {
     "name": "stdout",
     "output_type": "stream",
     "text": [
      "                            OLS Regression Results                            \n",
      "==============================================================================\n",
      "Dep. Variable:                      y   R-squared:                       1.000\n",
      "Model:                            OLS   Adj. R-squared:                  1.000\n",
      "Method:                 Least Squares   F-statistic:                 1.488e+06\n",
      "Date:                Thu, 21 Jan 2016   Prob (F-statistic):               0.00\n",
      "Time:                        16:07:46   Log-Likelihood:             1.4387e+05\n",
      "No. Observations:               45004   AIC:                        -2.865e+05\n",
      "Df Residuals:                   44403   BIC:                        -2.813e+05\n",
      "Df Model:                         600                                         \n",
      "Covariance Type:            nonrobust                                         \n",
      "==============================================================================\n",
      "                 coef    std err          t      P>|t|      [0.025      0.975]\n",
      "------------------------------------------------------------------------------\n",
      "const          1.0653    4.7e-05   2.27e+04      0.000       1.065       1.065\n",
      "x1             1.0000   4.72e-05   2.12e+04      0.000       1.000       1.000\n",
      "x2             1.0000   4.75e-05    2.1e+04      0.000       1.000       1.000\n",
      "==============================================================================\n",
      "Omnibus:                        2.111   Durbin-Watson:                   2.026\n",
      "Prob(Omnibus):                  0.348   Jarque-Bera (JB):                2.112\n",
      "Skew:                          -0.008   Prob(JB):                        0.348\n",
      "Kurtosis:                       3.029   Cond. No.                         1.01\n",
      "==============================================================================\n",
      "\n",
      "Warnings:\n",
      "[1] Standard Errors assume that the covariance matrix of the errors is correctly specified.\n"
     ]
    }
   ],
   "source": [
    "print(res_ols2.summary())"
   ]
  },
  {
   "cell_type": "code",
   "execution_count": 237,
   "metadata": {
    "collapsed": false
   },
   "outputs": [
    {
     "name": "stdout",
     "output_type": "stream",
     "text": [
      "                         OLSAbsorb Regression Results                         \n",
      "==============================================================================\n",
      "Dep. Variable:                      y   R-squared:                       1.000\n",
      "Model:                      OLSAbsorb   Adj. R-squared:                  1.000\n",
      "Method:                 Least Squares   F-statistic:                 1.521e+06\n",
      "Date:                Thu, 21 Jan 2016   Prob (F-statistic):               0.00\n",
      "Time:                        16:08:01   Log-Likelihood:             1.4387e+05\n",
      "No. Observations:               45004   AIC:                        -2.865e+05\n",
      "Df Residuals:                   44403   BIC:                        -2.813e+05\n",
      "Df Model:                         600                                         \n",
      "Covariance Type:            nonrobust                                         \n",
      "==============================================================================\n",
      "                 coef    std err          t      P>|t|      [0.025      0.975]\n",
      "------------------------------------------------------------------------------\n",
      "const          1.0653    4.7e-05   2.27e+04      0.000       1.065       1.065\n",
      "x1             1.0000   4.72e-05   2.12e+04      0.000       1.000       1.000\n",
      "x2             1.0000   4.75e-05    2.1e+04      0.000       1.000       1.000\n",
      "==============================================================================\n",
      "Omnibus:                        2.111   Durbin-Watson:                   2.026\n",
      "Prob(Omnibus):                  0.348   Jarque-Bera (JB):                2.112\n",
      "Skew:                          -0.008   Prob(JB):                        0.348\n",
      "Kurtosis:                       3.029   Cond. No.                         1.01\n",
      "==============================================================================\n",
      "\n",
      "Warnings:\n",
      "[1] Standard Errors assume that the covariance matrix of the errors is correctly specified.\n"
     ]
    }
   ],
   "source": [
    "print(res_absorb.summary())"
   ]
  },
  {
   "cell_type": "code",
   "execution_count": null,
   "metadata": {
    "collapsed": true
   },
   "outputs": [],
   "source": [
    "xx = np.array((1e4, 10))\n",
    "dfxx = pd.DataFrame(xx)\n",
    "dfxx.values.base is xx.base"
   ]
  },
  {
   "cell_type": "code",
   "execution_count": null,
   "metadata": {
    "collapsed": true
   },
   "outputs": [],
   "source": []
  }
 ],
 "metadata": {
  "kernelspec": {
   "display_name": "Python 3",
   "language": "python",
   "name": "python3"
  },
  "language_info": {
   "codemirror_mode": {
    "name": "ipython",
    "version": 3
   },
   "file_extension": ".py",
   "mimetype": "text/x-python",
   "name": "python",
   "nbconvert_exporter": "python",
   "pygments_lexer": "ipython3",
   "version": "3.4.3"
  }
 },
 "nbformat": 4,
 "nbformat_minor": 0
}
