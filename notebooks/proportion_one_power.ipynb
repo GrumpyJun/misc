{
 "cells": [
  {
   "cell_type": "markdown",
   "metadata": {},
   "source": [
    "# One proportion: Hypothesis Tests, Sample Size and Power"
   ]
  },
  {
   "cell_type": "markdown",
   "metadata": {},
   "source": [
    "This is a experimental notebook to try to organize various parts for hypothesis tests and related methods.\n",
    "\n",
    "This should roughly include the following\n",
    "\n",
    "- given a sample\n",
    "  - estimate parameter or effect size\n",
    "  - hypothesis test given Null and Alternative\n",
    "  - confidence interval\n",
    "\n",
    "- prospective or evaluative\n",
    "  - size of test and power\n",
    "  - sample size required\n",
    "\n",
    "- sensitivity to misspecification\n",
    "  - bias of estimate and of estimated variance\n",
    "  - size and power of hypothesis tests\n"
   ]
  },
  {
   "cell_type": "code",
   "execution_count": 12,
   "metadata": {
    "collapsed": false
   },
   "outputs": [],
   "source": [
    "from __future__ import division   # for py2 compatibility, I'm using Python 3.4\n",
    "import numpy as np\n",
    "from scipy import stats\n",
    "import statsmodels.stats.proportion as smprop\n",
    "import statsmodels.stats.power as smpow\n",
    "\n",
    "import pandas as pd # to store results with labels"
   ]
  },
  {
   "cell_type": "markdown",
   "metadata": {},
   "source": [
    "## Sample"
   ]
  },
  {
   "cell_type": "code",
   "execution_count": 13,
   "metadata": {
    "collapsed": false
   },
   "outputs": [],
   "source": [
    "p_true = 0.3\n",
    "nobs = 30\n",
    "p_null = p_true\n",
    "\n",
    "#y = np.random.binomial(nobs, p_true)\n",
    "y = 7"
   ]
  },
  {
   "cell_type": "markdown",
   "metadata": {},
   "source": [
    "Assume we have observed 7 events in a sample of size 30. What are our estimates, confidence interval, and test whether the true proportion = 0.3."
   ]
  },
  {
   "cell_type": "code",
   "execution_count": 15,
   "metadata": {
    "collapsed": false
   },
   "outputs": [
    {
     "name": "stdout",
     "output_type": "stream",
     "text": [
      "estimate:  0.23333333333333334\n"
     ]
    },
    {
     "data": {
      "text/html": [
       "<div>\n",
       "<table border=\"1\" class=\"dataframe\">\n",
       "  <thead>\n",
       "    <tr style=\"text-align: right;\">\n",
       "      <th></th>\n",
       "      <th>lower</th>\n",
       "      <th>upper</th>\n",
       "    </tr>\n",
       "  </thead>\n",
       "  <tbody>\n",
       "    <tr>\n",
       "      <th>beta</th>\n",
       "      <td>0.099338</td>\n",
       "      <td>0.422837</td>\n",
       "    </tr>\n",
       "    <tr>\n",
       "      <th>wilson</th>\n",
       "      <td>0.117924</td>\n",
       "      <td>0.409283</td>\n",
       "    </tr>\n",
       "    <tr>\n",
       "      <th>normal</th>\n",
       "      <td>0.081984</td>\n",
       "      <td>0.384682</td>\n",
       "    </tr>\n",
       "    <tr>\n",
       "      <th>agresti_coull</th>\n",
       "      <td>0.115162</td>\n",
       "      <td>0.412045</td>\n",
       "    </tr>\n",
       "    <tr>\n",
       "      <th>jeffrey</th>\n",
       "      <td>0.110921</td>\n",
       "      <td>0.404400</td>\n",
       "    </tr>\n",
       "  </tbody>\n",
       "</table>\n",
       "</div>"
      ],
      "text/plain": [
       "                  lower     upper\n",
       "beta           0.099338  0.422837\n",
       "wilson         0.117924  0.409283\n",
       "normal         0.081984  0.384682\n",
       "agresti_coull  0.115162  0.412045\n",
       "jeffrey        0.110921  0.404400"
      ]
     },
     "execution_count": 15,
     "metadata": {},
     "output_type": "execute_result"
    }
   ],
   "source": [
    "count = y  # alias\n",
    "prop_mle = count / nobs\n",
    "confint_methods = ['beta', 'wilson', 'normal', 'agresti_coull', 'jeffrey']\n",
    "confints = [smprop.proportion_confint(count, nobs, alpha=0.05, method=method) for method in confint_methods]\n",
    "ci_df = pd.DataFrame(confints, index=confint_methods, columns=['lower', 'upper'])\n",
    "print('estimate: ', prop_mle)\n",
    "ci_df"
   ]
  },
  {
   "cell_type": "markdown",
   "metadata": {},
   "source": [
    "**Two sided hypothesis**"
   ]
  },
  {
   "cell_type": "code",
   "execution_count": 16,
   "metadata": {
    "collapsed": false
   },
   "outputs": [
    {
     "data": {
      "text/plain": [
       "0.55100632188415744"
      ]
     },
     "execution_count": 16,
     "metadata": {},
     "output_type": "execute_result"
    }
   ],
   "source": [
    "smprop.binom_test(count, nobs, prop=p_null, alternative='two-sided')"
   ]
  },
  {
   "cell_type": "code",
   "execution_count": 19,
   "metadata": {
    "collapsed": false
   },
   "outputs": [
    {
     "data": {
      "text/plain": [
       "(-0.86333169460343107, 0.38795512282614564)"
      ]
     },
     "execution_count": 19,
     "metadata": {},
     "output_type": "execute_result"
    }
   ],
   "source": [
    "smprop.proportions_ztest(count, nobs, value=p_null, alternative='two-sided')"
   ]
  },
  {
   "cell_type": "code",
   "execution_count": 20,
   "metadata": {
    "collapsed": false
   },
   "outputs": [
    {
     "data": {
      "text/plain": [
       "(-0.79681907288959564, 0.42555611641912894)"
      ]
     },
     "execution_count": 20,
     "metadata": {},
     "output_type": "execute_result"
    }
   ],
   "source": [
    "smprop.proportions_ztest(count, nobs, value=p_null, alternative='two-sided', prop_var=p_null)"
   ]
  },
  {
   "cell_type": "markdown",
   "metadata": {},
   "source": [
    "**Equivalence**"
   ]
  },
  {
   "cell_type": "code",
   "execution_count": 28,
   "metadata": {
    "collapsed": false
   },
   "outputs": [
    {
     "data": {
      "text/plain": [
       "(0.025000000000000019, 0.025000000000000008, 0.025000000000000019)"
      ]
     },
     "execution_count": 28,
     "metadata": {},
     "output_type": "execute_result"
    }
   ],
   "source": [
    "low, upp = ci_df.loc['beta', :]\n",
    "smprop.binom_tost(count, nobs, low, upp)"
   ]
  },
  {
   "cell_type": "code",
   "execution_count": 36,
   "metadata": {
    "collapsed": false
   },
   "outputs": [
    {
     "name": "stdout",
     "output_type": "stream",
     "text": [
      "score (0.056053065870080819, 0.056053065870080819, 0.034949354314036465)\n",
      "wald  (0.061422217884672649, 0.0093912009590914284, 0.061422217884672649)\n"
     ]
    }
   ],
   "source": [
    "print('score', smprop.binom_tost(count, nobs, *ci_df.loc['wilson', :]))\n",
    "print('wald ', smprop.binom_tost(count, nobs, *ci_df.loc['normal', :]))"
   ]
  },
  {
   "cell_type": "code",
   "execution_count": 32,
   "metadata": {
    "collapsed": false
   },
   "outputs": [
    {
     "data": {
      "text/plain": [
       "(0.067516018566243438,\n",
       " (1.4945495650814802, 0.067516018566243438),\n",
       " (-2.2785472457940248, 0.011346996472929981))"
      ]
     },
     "execution_count": 32,
     "metadata": {},
     "output_type": "execute_result"
    }
   ],
   "source": [
    "smprop.proportions_ztost(count, nobs, *ci_df.loc['wilson', :])"
   ]
  },
  {
   "cell_type": "code",
   "execution_count": 33,
   "metadata": {
    "collapsed": false
   },
   "outputs": [
    {
     "data": {
      "text/plain": [
       "(0.04134932724842634,\n",
       " (1.7352380217245991, 0.04134932724842634),\n",
       " (-2.4540616477331247, 0.0070626381724014512))"
      ]
     },
     "execution_count": 33,
     "metadata": {},
     "output_type": "execute_result"
    }
   ],
   "source": [
    "smprop.proportions_ztost(count, nobs, *ci_df.loc['beta', :])"
   ]
  },
  {
   "cell_type": "markdown",
   "metadata": {},
   "source": [
    "**One-sided tests**\n",
    "\n",
    "\n",
    "The null nypothesis and alternative hypothesis for alternative `'larger'` are\n",
    "\n",
    "H0: p = p0    \n",
    "H1: p > p0\n",
    "\n",
    "where p0 = 0.3"
   ]
  },
  {
   "cell_type": "code",
   "execution_count": 50,
   "metadata": {
    "collapsed": false
   },
   "outputs": [
    {
     "name": "stdout",
     "output_type": "stream",
     "text": [
      "exact:  0.840477017804\n",
      "wald:   0.806022438587\n",
      "score:  0.78722194179\n"
     ]
    }
   ],
   "source": [
    "te = smprop.binom_test(count, nobs, prop=p_null, alternative='larger')\n",
    "tw = smprop.proportions_ztest(count, nobs, value=p_null, alternative='larger')\n",
    "ts = smprop.proportions_ztest(count, nobs, value=p_null, alternative='larger', prop_var=p_null)\n",
    "print('exact: ', te)\n",
    "print('wald:  ', tw[1])\n",
    "print('score: ', ts[1])"
   ]
  },
  {
   "cell_type": "markdown",
   "metadata": {},
   "source": [
    "The null nypothesis and alternative hypothesis for alternative `'smaller'` are\n",
    "\n",
    "H0: p = p0  \n",
    "H1: p < p0\n",
    "\n",
    "where p0 = 0.3"
   ]
  },
  {
   "cell_type": "code",
   "execution_count": 51,
   "metadata": {
    "collapsed": false
   },
   "outputs": [
    {
     "name": "stdout",
     "output_type": "stream",
     "text": [
      "exact:  0.281376708187\n",
      "wald:   0.193977561413\n",
      "score:  0.21277805821\n"
     ]
    }
   ],
   "source": [
    "te = smprop.binom_test(count, nobs, prop=p_null, alternative='smaller')\n",
    "tw = smprop.proportions_ztest(count, nobs, value=p_null, alternative='smaller')\n",
    "ts = smprop.proportions_ztest(count, nobs, value=p_null, alternative='smaller', prop_var=p_null)\n",
    "print('exact: ', te)\n",
    "print('wald:  ', tw[1])\n",
    "print('score: ', ts[1])"
   ]
  },
  {
   "cell_type": "markdown",
   "metadata": {},
   "source": [
    "We can look at null hypothesis that are further away from the observed proportion to see which hypothesis are rejected. The observed proportion is 0.23, our new null hypothesis value is 0.6. "
   ]
  },
  {
   "cell_type": "code",
   "execution_count": 67,
   "metadata": {
    "collapsed": false
   },
   "outputs": [
    {
     "name": "stdout",
     "output_type": "stream",
     "text": [
      "exact:  4.93250255898e-05\n",
      "wald:   1.02554471155e-06\n",
      "score:  5.86612629749e-06\n"
     ]
    }
   ],
   "source": [
    "p_null_ = 0.6\n",
    "te = smprop.binom_test(count, nobs, prop=p_null_, alternative='smaller')\n",
    "tw = smprop.proportions_ztest(count, nobs, value=p_null_, alternative='smaller')\n",
    "ts = smprop.proportions_ztest(count, nobs, value=p_null_, alternative='smaller', prop_var=p_null)\n",
    "print('exact: ', te)\n",
    "print('wald:  ', tw[1])\n",
    "print('score: ', ts[1])"
   ]
  },
  {
   "cell_type": "code",
   "execution_count": 65,
   "metadata": {
    "collapsed": false
   },
   "outputs": [
    {
     "name": "stdout",
     "output_type": "stream",
     "text": [
      "exact:  0.999990777679\n",
      "wald:   0.999998974455\n",
      "score:  0.999994133874\n"
     ]
    }
   ],
   "source": [
    "p_null_ = 0.6\n",
    "te = smprop.binom_test(count, nobs, prop=p_null_, alternative='larger')\n",
    "tw = smprop.proportions_ztest(count, nobs, value=p_null_, alternative='larger')\n",
    "ts = smprop.proportions_ztest(count, nobs, value=p_null_, alternative='larger', prop_var=p_null)\n",
    "print('exact: ', te)\n",
    "print('wald:  ', tw[1])\n",
    "print('score: ', ts[1])"
   ]
  },
  {
   "cell_type": "markdown",
   "metadata": {},
   "source": [
    "The `smaller` hypothesis is strongly rejected, which means that we reject the null hypothesis that the true proportion is 0.6 or larger in favor of the alternative hypothesis that the true proportion is smaller than 0.6.\n",
    "\n",
    "In the case `larger` alternative, the p-value is very large and we cannot reject the Null hypothesis that the true proportion is 0.6 (or smaller) in favor of the hypothesis that the true proportion is larger than 0.6. \n",
    "\n",
    "Non-inferiority and superiority tests are special cases of these one-sided tests where the specific case is defined in terms of deviations from a benchmark value. The null hypothesis for a non-inferiority test can be defined, for example, by being less than a specified amount 5% below a benchmark proportion. If we reject the test, then we conclude that the proportion is not worse than 5% below the benchmark, at the given confidence level of the test."
   ]
  },
  {
   "cell_type": "markdown",
   "metadata": {},
   "source": [
    "**Aside: Inequality Null hypothesis**\n",
    "\n",
    "For most methods the p-values for the hypothesis tests are the same for the case when the null hypothesis is and inequality \n",
    "\n",
    "\n",
    "The null nypothesis and alternative hypothesis for alternative `'larger'` specify that the true proportion is smaller than or equal to the hypothesized value versus the alternative that it is larger.\n",
    "\n",
    "H0': p <= p0    \n",
    "H1': p > p0\n",
    "\n",
    "\n",
    "The null nypothesis and alternative hypothesis for alternative 'smaller' are\n",
    "\n",
    "H0': p >= p0  \n",
    "H1': p < p0\n",
    "\n",
    "\n",
    "The score test is an exception to this. If the null hypothesis is a inequality, then the constrained maximum likelihood estimate will depend on whether the constraint of the null hypothesis is binding or not. If it is binding, then the score test is the same as for the test with an equality in the null hypothesis. If the constrained is not binding then the null parameter estimate is the same as the estimate used for the Wald test.\n",
    "Because the equality is the worst case in these hypothesis test, it does not affect the validity of the tests. However, in the asymptotic tests it would add another option to define the variance used in the calculations, and the standard score test does not take the inequality into account in calculating the variance. This is not implemented, so we restrict ourselves to equality null hypothesis, even though the interpretation is mostly the same as for the inequality null hypothesis.\n"
   ]
  },
  {
   "cell_type": "code",
   "execution_count": null,
   "metadata": {
    "collapsed": true
   },
   "outputs": [],
   "source": []
  },
  {
   "cell_type": "markdown",
   "metadata": {},
   "source": [
    "**Standard t-test**\n",
    "\n",
    "We can also use the standard t-test in large samples if we encode the data with 0 for no event and 1 for the success event. The t-test estimates the variance from the data and does not take the relationship between mean and variance explicitly into account. However, by the law of large numbers the mean, i.e. the proportion in the current case, will be asymptotically distributed as normal which can be approximated by the t-distribution."
   ]
  },
  {
   "cell_type": "code",
   "execution_count": 61,
   "metadata": {
    "collapsed": false
   },
   "outputs": [
    {
     "data": {
      "text/plain": [
       "(-0.84882088476305617, 0.40293351466675675, 29.0)"
      ]
     },
     "execution_count": 61,
     "metadata": {},
     "output_type": "execute_result"
    }
   ],
   "source": [
    "import statsmodels.stats.weightstats as smsw\n",
    "yy = np.repeat([0, 1], [nobs - count, count])\n",
    "ds = smsw.DescrStatsW(yy)\n",
    "ds.ttest_mean(0.3)"
   ]
  },
  {
   "cell_type": "code",
   "execution_count": 62,
   "metadata": {
    "collapsed": false
   },
   "outputs": [
    {
     "data": {
      "text/plain": [
       "{'data': array([0, 0, 0, 0, 0, 0, 0, 0, 0, 0, 0, 0, 0, 0, 0, 0, 0, 0, 0, 0, 0, 0, 0,\n",
       "        1, 1, 1, 1, 1, 1, 1]),\n",
       " 'ddof': 0,\n",
       " 'demeaned': array([-0.23333333, -0.23333333, -0.23333333, -0.23333333, -0.23333333,\n",
       "        -0.23333333, -0.23333333, -0.23333333, -0.23333333, -0.23333333,\n",
       "        -0.23333333, -0.23333333, -0.23333333, -0.23333333, -0.23333333,\n",
       "        -0.23333333, -0.23333333, -0.23333333, -0.23333333, -0.23333333,\n",
       "        -0.23333333, -0.23333333, -0.23333333,  0.76666667,  0.76666667,\n",
       "         0.76666667,  0.76666667,  0.76666667,  0.76666667,  0.76666667]),\n",
       " 'mean': 0.23333333333333334,\n",
       " 'std': 0.42295258468165065,\n",
       " 'std_mean': 0.078540323245317289,\n",
       " 'sum': 7.0,\n",
       " 'sum_weights': 30.0,\n",
       " 'sumsquares': 5.3666666666666663,\n",
       " 'var': 0.17888888888888888,\n",
       " 'weights': array([ 1.,  1.,  1.,  1.,  1.,  1.,  1.,  1.,  1.,  1.,  1.,  1.,  1.,\n",
       "         1.,  1.,  1.,  1.,  1.,  1.,  1.,  1.,  1.,  1.,  1.,  1.,  1.,\n",
       "         1.,  1.,  1.,  1.])}"
      ]
     },
     "execution_count": 62,
     "metadata": {},
     "output_type": "execute_result"
    }
   ],
   "source": [
    "vars(ds)"
   ]
  },
  {
   "cell_type": "code",
   "execution_count": 63,
   "metadata": {
    "collapsed": false
   },
   "outputs": [
    {
     "data": {
      "text/plain": [
       "(-0.84882088476305617, 0.79853324266662162, 29.0)"
      ]
     },
     "execution_count": 63,
     "metadata": {},
     "output_type": "execute_result"
    }
   ],
   "source": [
    "ds.ttest_mean(0.3, alternative='larger')"
   ]
  },
  {
   "cell_type": "code",
   "execution_count": 64,
   "metadata": {
    "collapsed": false
   },
   "outputs": [
    {
     "data": {
      "text/plain": [
       "(-0.84882088476305617, 0.20146675733337838, 29.0)"
      ]
     },
     "execution_count": 64,
     "metadata": {},
     "output_type": "execute_result"
    }
   ],
   "source": [
    "ds.ttest_mean(0.3, alternative='smaller')"
   ]
  },
  {
   "cell_type": "markdown",
   "metadata": {},
   "source": [
    "In this example the p-values from the t-test are in between the asymptotic score and wald tests based on the normal distribution for all three alternatives. The t-test based toast has a p-value that is slightly larger than the normal distribution based TOST test for proportions, 0.049 versus 0.041 which are both larger than the binomial distribution based TOST, at the latter confidence interval. "
   ]
  },
  {
   "cell_type": "code",
   "execution_count": 68,
   "metadata": {
    "collapsed": false
   },
   "outputs": [
    {
     "data": {
      "text/plain": [
       "(0.049342036125071341,\n",
       " (1.706072280308607, 0.049342036125071341, 29.0),\n",
       " (-2.4128139764969032, 0.011189332556866095, 29.0))"
      ]
     },
     "execution_count": 68,
     "metadata": {},
     "output_type": "execute_result"
    }
   ],
   "source": [
    "ds.ttost_mean(*ci_df.loc['beta', :])"
   ]
  },
  {
   "cell_type": "code",
   "execution_count": null,
   "metadata": {
    "collapsed": true
   },
   "outputs": [],
   "source": []
  },
  {
   "cell_type": "code",
   "execution_count": null,
   "metadata": {
    "collapsed": true
   },
   "outputs": [],
   "source": []
  },
  {
   "cell_type": "markdown",
   "metadata": {},
   "source": [
    "## Sample Size and Power"
   ]
  },
  {
   "cell_type": "markdown",
   "metadata": {},
   "source": [
    "First we illustrate the rejection region of a test which is the set of all observations at which we reject the null hypothesis.\n",
    "Size of a test is the probability to sample an observation in the rejection region under the null hypothesis, power is the probability under the alternative hypothesis.\n",
    "\n",
    "The rejection region is a property of the hypothesis test, the following calculates it for the two-sided binomial and the two-sided ztest for a single proportion. This depends on the distribution that we use in the hypothesis test, exact distribution which is the binomial in this case or a normal or t distribution as large sample approximation.\n",
    "Ones we have the rejection region, we can also use different distributions for evaluating the power either based on the exact distribution or an a large sample approximation or asymptotic distribution.\n",
    "\n",
    "The sample size that is required to achieve at least a desired power under a given alternative can be explicitly calculated in the special case one-sided tests where both the hypothesis test distribution and the distribution for the power calculations are the normal distribution. In almost all other cases we have to use an iterative solver to find the required sample size.\n",
    "\n",
    "Power and sample size calculation are currently only implemented for one approximation and for equivalence tests. In the following we illustrate several methods for calculating the power which will be useful for different cases depending on whether simplification or computational shortcuts exist or not.\n"
   ]
  },
  {
   "cell_type": "markdown",
   "metadata": {},
   "source": [
    "**Rejection region**"
   ]
  },
  {
   "cell_type": "code",
   "execution_count": 103,
   "metadata": {
    "collapsed": false
   },
   "outputs": [],
   "source": [
    "rej = np.array([smprop.proportions_ztest(count_, nobs, value=p_null, alternative='two-sided', prop_var=p_null)[1] \n",
    "                for count_ in range(nobs + 1)])\n",
    "rej_indicator = (rej < 0.05) #.astype(int)\n",
    "np.column_stack((rej, rej_indicator))\n",
    "rej_indicator_score = rej_indicator  # keep for later use"
   ]
  },
  {
   "cell_type": "code",
   "execution_count": 104,
   "metadata": {
    "collapsed": false
   },
   "outputs": [
    {
     "data": {
      "text/plain": [
       "array([[  0.00000000e+00,   2.98171757e-05,   1.00000000e+00],\n",
       "       [  1.00000000e+00,   4.74743798e-04,   1.00000000e+00],\n",
       "       [  2.00000000e+00,   4.23786890e-03,   1.00000000e+00],\n",
       "       [  3.00000000e+00,   1.56869137e-02,   1.00000000e+00],\n",
       "       [  4.00000000e+00,   4.70922546e-02,   1.00000000e+00],\n",
       "       [  5.00000000e+00,   1.61064812e-01,   0.00000000e+00],\n",
       "       [  6.00000000e+00,   3.18844777e-01,   0.00000000e+00],\n",
       "       [  7.00000000e+00,   5.51006322e-01,   0.00000000e+00],\n",
       "       [  8.00000000e+00,   8.42709221e-01,   0.00000000e+00],\n",
       "       [  9.00000000e+00,   1.00000000e+00,   0.00000000e+00],\n",
       "       [  1.00000000e+01,   6.92568023e-01,   0.00000000e+00],\n",
       "       [  1.10000000e+01,   4.29152596e-01,   0.00000000e+00],\n",
       "       [  1.20000000e+01,   2.35916547e-01,   0.00000000e+00],\n",
       "       [  1.30000000e+01,   1.14625003e-01,   0.00000000e+00],\n",
       "       [  1.40000000e+01,   7.02074908e-02,   0.00000000e+00],\n",
       "       [  1.50000000e+01,   2.62538788e-02,   1.00000000e+00],\n",
       "       [  1.60000000e+01,   8.48352453e-03,   1.00000000e+00],\n",
       "       [  1.70000000e+01,   2.43702161e-03,   1.00000000e+00],\n",
       "       [  1.80000000e+01,   9.38554917e-04,   1.00000000e+00],\n",
       "       [  1.90000000e+01,   1.84952280e-04,   1.00000000e+00],\n",
       "       [  2.00000000e+01,   5.94094211e-05,   1.00000000e+00],\n",
       "       [  2.10000000e+01,   7.27783538e-06,   1.00000000e+00],\n",
       "       [  2.20000000e+01,   1.23860162e-06,   1.00000000e+00],\n",
       "       [  2.30000000e+01,   1.79774924e-07,   1.00000000e+00],\n",
       "       [  2.40000000e+01,   2.19374043e-08,   1.00000000e+00],\n",
       "       [  2.50000000e+01,   2.20771429e-09,   1.00000000e+00],\n",
       "       [  2.60000000e+01,   1.78374751e-10,   1.00000000e+00],\n",
       "       [  2.70000000e+01,   1.11214916e-11,   1.00000000e+00],\n",
       "       [  2.80000000e+01,   5.02237102e-13,   1.00000000e+00],\n",
       "       [  2.90000000e+01,   1.46182704e-14,   1.00000000e+00],\n",
       "       [  3.00000000e+01,   2.05891132e-16,   1.00000000e+00]])"
      ]
     },
     "execution_count": 104,
     "metadata": {},
     "output_type": "execute_result"
    }
   ],
   "source": [
    "rej = np.array([smprop.binom_test(count_, nobs, prop=p_null, alternative='two-sided') for count_ in range(nobs + 1)])\n",
    "rej_indicator = (rej < 0.05) #.astype(int)\n",
    "np.column_stack((range(nobs + 1), rej, rej_indicator))"
   ]
  },
  {
   "cell_type": "markdown",
   "metadata": {},
   "source": [
    "### Power calculation - a general method"
   ]
  },
  {
   "cell_type": "markdown",
   "metadata": {},
   "source": [
    "In a general method we can use the rejection region of a hypothesis test directly to calculate the probability.\n",
    "\n",
    "We can use the set of values for which the null hypothesis is rejected instead of using a boolean indicator."
   ]
  },
  {
   "cell_type": "code",
   "execution_count": 105,
   "metadata": {
    "collapsed": true
   },
   "outputs": [],
   "source": [
    "x = np.arange(nobs + 1)\n",
    "x_rej = x[rej_indicator]\n",
    "x_rej_score = x[rej_indicator_score]"
   ]
  },
  {
   "cell_type": "code",
   "execution_count": 113,
   "metadata": {
    "collapsed": false
   },
   "outputs": [
    {
     "name": "stdout",
     "output_type": "stream",
     "text": [
      "binom [ 0  1  2  3  4 15 16 17 18 19 20 21 22 23 24 25 26 27 28 29 30]\n",
      "score [ 0  1  2  3  4 14 15 16 17 18 19 20 21 22 23 24 25 26 27 28 29 30]\n"
     ]
    }
   ],
   "source": [
    "print('binom', x_rej)\n",
    "print('score', x_rej_score)"
   ]
  },
  {
   "cell_type": "markdown",
   "metadata": {},
   "source": [
    "The rejection region of the score test is larger than the one of the exact binomial test. The score test rejects also if 14 events are observed."
   ]
  },
  {
   "cell_type": "markdown",
   "metadata": {},
   "source": [
    "For the current case we use the exact binomial distribution to calculate the power. The null hypothesis in this example is a two-sided test for p = 0.3. Use p1 for the proportion at which the power or rejection probability is calculated. First we check the size of the test, i.e. p1 = p_null = 0.3"
   ]
  },
  {
   "cell_type": "code",
   "execution_count": 114,
   "metadata": {
    "collapsed": false
   },
   "outputs": [
    {
     "data": {
      "text/plain": [
       "0.047092254594638484"
      ]
     },
     "execution_count": 114,
     "metadata": {},
     "output_type": "execute_result"
    }
   ],
   "source": [
    "p1 = 0.3\n",
    "stats.binom.pmf(x_rej, nobs, p1).sum()"
   ]
  },
  {
   "cell_type": "markdown",
   "metadata": {},
   "source": [
    "Because we are using the exact test, the probability of rejection under the null is smaller than the required alpha = 0.05. In this example the exact probability is close to the 0.05 threshold. In contrast to this, the score test is liberal in this example and rejects with probability 0.07 instead of the required 0.05."
   ]
  },
  {
   "cell_type": "code",
   "execution_count": 112,
   "metadata": {
    "collapsed": false
   },
   "outputs": [
    {
     "data": {
      "text/plain": [
       "0.07020749078421995"
      ]
     },
     "execution_count": 112,
     "metadata": {},
     "output_type": "execute_result"
    }
   ],
   "source": [
    "stats.binom.pmf(x_rej_score, nobs, p1).sum()"
   ]
  },
  {
   "cell_type": "markdown",
   "metadata": {},
   "source": [
    "This method with explicit enumeration of the rejection values can be used for any distribution but will require more computational time than explicit calculations that take advantage of the specific structure. In the case of one sample or one parameter hypothesis test, the rejection region consist of two tail intervals. If we have the boundary of the rejection region available, then we can directly use the cumulative distribution or the survival function to calculate the tail probabilities.\n",
    "\n",
    "In the case of the binomial distribution with probability p_null under the null hypothesis has tail probabilities at most alpha / 2 in each tail (for equal tailed hypothesis tests)."
   ]
  },
  {
   "cell_type": "code",
   "execution_count": 129,
   "metadata": {
    "collapsed": false
   },
   "outputs": [
    {
     "data": {
      "text/plain": [
       "(4.0, 14.0)"
      ]
     },
     "execution_count": 129,
     "metadata": {},
     "output_type": "execute_result"
    }
   ],
   "source": [
    "lowi, uppi = stats.binom.interval(0.95, nobs, p_null)\n",
    "lowi, uppi"
   ]
  },
  {
   "cell_type": "markdown",
   "metadata": {},
   "source": [
    "**Detour: open or close interval**\n",
    "\n",
    "The cdf is defined by a weak inequality cdf(t) = Prob(x <= t), the survival function sf is defined by a strict inequality sf(t) = Prob(x > t) so that cdf(t) + sf(t) = 1. Whether the inequalities are strict or weak does not make a difference in continuous distributions that don't have mass points. However, it does make a difference for discrete distribution. If we want a tail probability of alpha, then the cdf has this tail probability including the boundary point, while the sf excludes the boundary point. So to have a upper tail probability alpha for a t such that Prob(x >= t) < alpha but close to it, we need to use sf(t - 1). similarly, we have to subtract one if we want an open interval for the cdf at the lower tail.\n",
    "\n",
    "Specifically, define the lower and upper thresholds that are in the rejection region\n",
    "\n",
    "low = max{x: prob(x <= t) <= alpha / 2 \n",
    "upp = min{x: prob(x >= t) <= alpha / 2 \n",
    "\n",
    "Because of the discreteness of the sample space having tail probabilities equal to alpha / 2 is in general not possible.\n"
   ]
  },
  {
   "cell_type": "code",
   "execution_count": 130,
   "metadata": {
    "collapsed": true
   },
   "outputs": [],
   "source": [
    "low, upp = lowi, uppi"
   ]
  },
  {
   "cell_type": "code",
   "execution_count": 132,
   "metadata": {
    "collapsed": false
   },
   "outputs": [
    {
     "data": {
      "text/plain": [
       "(4.0, 14.0)"
      ]
     },
     "execution_count": 132,
     "metadata": {},
     "output_type": "execute_result"
    }
   ],
   "source": [
    "stats.binom.ppf(0.025, nobs, p_null), stats.binom.isf(0.025, nobs, p_null)"
   ]
  },
  {
   "cell_type": "markdown",
   "metadata": {},
   "source": [
    "If we reject at 4 and smaller and reject at 14 and larger, then the probability of rejection is larger than 0.025 in each tail:"
   ]
  },
  {
   "cell_type": "code",
   "execution_count": 133,
   "metadata": {
    "collapsed": false
   },
   "outputs": [
    {
     "data": {
      "text/plain": [
       "(0.030154943102089313, 0.040052547682131269)"
      ]
     },
     "execution_count": 133,
     "metadata": {},
     "output_type": "execute_result"
    }
   ],
   "source": [
    "stats.binom.cdf(low, nobs, p_null), stats.binom.sf(upp - 1, nobs, p_null)"
   ]
  },
  {
   "cell_type": "markdown",
   "metadata": {},
   "source": [
    "If we shrink the rejection region in each tail by one, so we reject at 3 and smaller and reject at 15 and larger, then the probability of rejection is smaller than 0.025 in each tail. The total rejection probability is at 0.026 smaller than 0.05 and shows the typical case that exact tests are conservative, i.e. reject less often than alpha, often considerably less:"
   ]
  },
  {
   "cell_type": "code",
   "execution_count": 137,
   "metadata": {
    "collapsed": false
   },
   "outputs": [
    {
     "data": {
      "text/plain": [
       "(0.0093165673111771617, 0.016937311492549543, 0.026253878803726705)"
      ]
     },
     "execution_count": 137,
     "metadata": {},
     "output_type": "execute_result"
    }
   ],
   "source": [
    "prob_low = stats.binom.cdf(low - 1, nobs, p_null)\n",
    "prob_upp = stats.binom.sf(upp, nobs, p_null)\n",
    "prob_low, prob_upp, prob_low + prob_upp"
   ]
  },
  {
   "cell_type": "markdown",
   "metadata": {},
   "source": [
    "In this case we can increase the lower rejection threshold by one and still stay below the total rejection probability of 0.05, although in this case the rejection probability in the lower tail is larger than 0.025. In this example the same also works on the other side by expanding only the rejection region in the upper tail."
   ]
  },
  {
   "cell_type": "code",
   "execution_count": 138,
   "metadata": {
    "collapsed": false
   },
   "outputs": [
    {
     "data": {
      "text/plain": [
       "(0.030154943102089313, 0.016937311492549543, 0.047092254594638852)"
      ]
     },
     "execution_count": 138,
     "metadata": {},
     "output_type": "execute_result"
    }
   ],
   "source": [
    "prob_low = stats.binom.cdf(low, nobs, p_null)\n",
    "prob_upp = stats.binom.sf(upp, nobs, p_null)\n",
    "prob_low, prob_upp, prob_low + prob_upp"
   ]
  },
  {
   "cell_type": "code",
   "execution_count": 139,
   "metadata": {
    "collapsed": false
   },
   "outputs": [
    {
     "data": {
      "text/plain": [
       "(0.0093165673111771617, 0.040052547682131269, 0.049369114993308427)"
      ]
     },
     "execution_count": 139,
     "metadata": {},
     "output_type": "execute_result"
    }
   ],
   "source": [
    "prob_low = stats.binom.cdf(low - 1, nobs, p_null)\n",
    "prob_upp = stats.binom.sf(upp - 1, nobs, p_null)\n",
    "prob_low, prob_upp, prob_low + prob_upp"
   ]
  },
  {
   "cell_type": "code",
   "execution_count": 124,
   "metadata": {
    "collapsed": false
   },
   "outputs": [
    {
     "data": {
      "text/plain": [
       "0.95290774540536105"
      ]
     },
     "execution_count": 124,
     "metadata": {},
     "output_type": "execute_result"
    }
   ],
   "source": [
    "stats.binom.cdf(upp, nobs, p_null) - stats.binom.cdf(low, nobs, p_null)"
   ]
  },
  {
   "cell_type": "markdown",
   "metadata": {},
   "source": [
    "TODO: why does binom_test reject at 4? \n",
    "binom_test is used from scipy.stats for the two-sided alternative."
   ]
  },
  {
   "cell_type": "code",
   "execution_count": 142,
   "metadata": {
    "collapsed": false
   },
   "outputs": [
    {
     "data": {
      "text/plain": [
       "(0.0093165673111771617, 0.030154943102089313)"
      ]
     },
     "execution_count": 142,
     "metadata": {},
     "output_type": "execute_result"
    }
   ],
   "source": [
    "smprop.binom_test(3, nobs, prop=p_null, alternative='smaller'), \\\n",
    "smprop.binom_test(4, nobs, prop=p_null, alternative='smaller')"
   ]
  },
  {
   "cell_type": "code",
   "execution_count": 144,
   "metadata": {
    "collapsed": false
   },
   "outputs": [
    {
     "data": {
      "text/plain": [
       "0.047092254594638852"
      ]
     },
     "execution_count": 144,
     "metadata": {},
     "output_type": "execute_result"
    }
   ],
   "source": [
    "smprop.binom_test(4, nobs, prop=p_null, alternative='two-sided')\n",
    "# we get the same answer as in R\n",
    "# in R binom.test(4,30, 0.3, alternative=\"two.sided\")  --> 0.04709225"
   ]
  },
  {
   "cell_type": "markdown",
   "metadata": {},
   "source": [
    "The binomial test is not a centered test. It looks like it adds the probability from the further away tail for all x that have lower pmf than the observed value.\n",
    "check with Fay for the three different ways of defining two-tailed tests and confints.\n",
    "\n",
    "The pvalue for the centered test is based on doubling the probability of the smaller tail. Given that it does not exist, we can implement it quickly, and check against R's exactci package, which matches our results."
   ]
  },
  {
   "cell_type": "code",
   "execution_count": 151,
   "metadata": {
    "collapsed": true
   },
   "outputs": [],
   "source": [
    "def binom_test_centered(count, nobs, prop=0.5):\n",
    "    \"\"\"two-sided centered binomial test\"\"\"\n",
    "    prob_low = stats.binom.cdf(count, nobs, p_null)\n",
    "    prob_upp = stats.binom.sf(count - 1, nobs, p_null)\n",
    "    return 2 * min(prob_low, prob_upp)"
   ]
  },
  {
   "cell_type": "code",
   "execution_count": 152,
   "metadata": {
    "collapsed": false
   },
   "outputs": [
    {
     "data": {
      "text/plain": [
       "(0.018633134622354323, 0.060309886204178625)"
      ]
     },
     "execution_count": 152,
     "metadata": {},
     "output_type": "execute_result"
    }
   ],
   "source": [
    "binom_test_centered(3, nobs, prop=p_null), binom_test_centered(4, nobs, prop=p_null)"
   ]
  },
  {
   "cell_type": "code",
   "execution_count": 153,
   "metadata": {
    "collapsed": false
   },
   "outputs": [
    {
     "data": {
      "text/plain": [
       "(0.16894012072030201, 0.080105095364262538)"
      ]
     },
     "execution_count": 153,
     "metadata": {},
     "output_type": "execute_result"
    }
   ],
   "source": [
    "binom_test_centered(13, nobs, prop=p_null), binom_test_centered(14, nobs, prop=p_null)"
   ]
  },
  {
   "cell_type": "raw",
   "metadata": {},
   "source": [
    "results from R library exactci, with centered binomial test\n",
    "\n",
    "> be = binom.exact(3, 30, p = 0.3)\n",
    "> be$p.value\n",
    "[1] 0.01863313\n",
    "> be = binom.exact(4, 30, p = 0.3)\n",
    "> be$p.value\n",
    "[1] 0.06030989\n",
    "> be = binom.exact(13, 30, p = 0.3)\n",
    "> be$p.value\n",
    "[1] 0.1689401\n",
    "> be = binom.exact(14, 30, p = 0.3)\n",
    "> be$p.value\n",
    "[1] 0.0801051"
   ]
  },
  {
   "cell_type": "markdown",
   "metadata": {},
   "source": [
    "## Back to power"
   ]
  },
  {
   "cell_type": "markdown",
   "metadata": {},
   "source": [
    "After this more extended detour we go back to our power calculations. So assuming we know the critical values of our rejection region, we can calculate the power using the cdf and sf function of the binomial distribution."
   ]
  },
  {
   "cell_type": "code",
   "execution_count": 155,
   "metadata": {
    "collapsed": false
   },
   "outputs": [],
   "source": [
    "def power_binom_reject(low, upp, prop, nobs):\n",
    "    \"\"\" calculate the power of a test given the rejection intervals\n",
    "    \n",
    "    This assumes that the rejection region is the union of the lower \n",
    "    tail up to and including low, and the upper tail starting at and\n",
    "    including upp.\n",
    "    \n",
    "    The Binomial distribution is used to calculate the power.\n",
    "    \n",
    "    Parameters\n",
    "    ----------\n",
    "    low\n",
    "    upp\n",
    "    prop : float in interval (0, 1)\n",
    "        proportion parameter for the binomial distribution\n",
    "    nobs : int\n",
    "        number of trials for binomial distribution\n",
    "        \n",
    "    Returns\n",
    "    -------\n",
    "    power : float\n",
    "        Probability of rejection if the true proportion is `prop`.\n",
    "        \n",
    "    Notes\n",
    "    -----\n",
    "    Works in vectorized form with appropriate arguments, i.e. \n",
    "    nonscalar arguments are numpy arrays that broadcast correctly.\n",
    "    \n",
    "    \"\"\"\n",
    "    prob_low = prob_upp = 0   # initialize\n",
    "    if low is not None:\n",
    "        prob_low = stats.binom.cdf(low, nobs, prop)\n",
    "    if upp is not None:\n",
    "        prob_upp = stats.binom.sf(upp - 1, nobs, prop)\n",
    "    return prob_low + prob_upp"
   ]
  },
  {
   "cell_type": "code",
   "execution_count": 162,
   "metadata": {
    "collapsed": false
   },
   "outputs": [
    {
     "name": "stdout",
     "output_type": "stream",
     "text": [
      "binom         4 15 0.0470922545946\n",
      "binom_central 3 15 0.0262538788037\n",
      "score         4 14 0.0702074907842\n"
     ]
    }
   ],
   "source": [
    "for test, l, u in [('binom        ', 4, 15), ('binom_central', 3, 15), ('score        ', 4, 14)]:\n",
    "    print(test, l, u, power_binom_reject(l, u, p_null, nobs))"
   ]
  },
  {
   "cell_type": "code",
   "execution_count": null,
   "metadata": {
    "collapsed": true
   },
   "outputs": [],
   "source": []
  },
  {
   "cell_type": "code",
   "execution_count": null,
   "metadata": {
    "collapsed": true
   },
   "outputs": [],
   "source": []
  },
  {
   "cell_type": "markdown",
   "metadata": {},
   "source": [
    "## trying more\n",
    "\n",
    "The rest below is just some unsorted experiments to try a few more things."
   ]
  },
  {
   "cell_type": "code",
   "execution_count": null,
   "metadata": {
    "collapsed": true
   },
   "outputs": [],
   "source": []
  },
  {
   "cell_type": "markdown",
   "metadata": {},
   "source": [
    "TODO: The following is not correct because when we change the sample size, then the rejection region also changes."
   ]
  },
  {
   "cell_type": "code",
   "execution_count": 164,
   "metadata": {
    "collapsed": false
   },
   "outputs": [
    {
     "data": {
      "text/plain": [
       "[0.047092254594638852,\n",
       " 0.047775312714239675,\n",
       " 0.051602724514375933,\n",
       " 0.05859877650596669,\n",
       " 0.068789625299809865,\n",
       " 0.082186755965548378,\n",
       " 0.098772671226915978,\n",
       " 0.118489659792336,\n",
       " 0.1412321565494524,\n",
       " 0.16684288140347131,\n",
       " 0.19511265080608356,\n",
       " 0.22578351411938377,\n",
       " 0.25855468655666075,\n",
       " 0.29309063531712998,\n",
       " 0.32903062340607336,\n",
       " 0.36599901949754499,\n",
       " 0.4036157318615764,\n",
       " 0.44150620799796952,\n",
       " 0.47931054705529291,\n",
       " 0.51669138801043579]"
      ]
     },
     "execution_count": 164,
     "metadata": {},
     "output_type": "execute_result"
    }
   ],
   "source": [
    "[power_binom_reject(4, 15, p_null, nobs_) for nobs_ in range(30, 50)]"
   ]
  },
  {
   "cell_type": "markdown",
   "metadata": {},
   "source": [
    "We can also calculate this in vectorized form for the set of sample sizes and all three tests:"
   ]
  },
  {
   "cell_type": "code",
   "execution_count": 166,
   "metadata": {
    "collapsed": false
   },
   "outputs": [
    {
     "data": {
      "text/plain": [
       "array([[ 0.04709225,  0.02625388,  0.07020749],\n",
       "       [ 0.04777531,  0.03102743,  0.07728123],\n",
       "       [ 0.05160272,  0.03820442,  0.0883212 ],\n",
       "       [ 0.05859878,  0.04792633,  0.10324071],\n",
       "       [ 0.06878963,  0.06032282,  0.12191353],\n",
       "       [ 0.08218676,  0.07549525,  0.14416465],\n",
       "       [ 0.09877267,  0.09350311,  0.16976553],\n",
       "       [ 0.11848966,  0.11435385,  0.19843379],\n",
       "       [ 0.14123216,  0.1379965 ,  0.2298369 ],\n",
       "       [ 0.16684288,  0.16431907,  0.26359926],\n",
       "       [ 0.19511265,  0.19314968,  0.29931183],\n",
       "       [ 0.22578351,  0.22426089,  0.33654338],\n",
       "       [ 0.25855469,  0.25737665,  0.37485255],\n",
       "       [ 0.29309064,  0.29218144,  0.41379979],\n",
       "       [ 0.32903062,  0.32833054,  0.45295869],\n",
       "       [ 0.36599902,  0.36546115,  0.49192593],\n",
       "       [ 0.40361573,  0.40320337,  0.53032969],\n",
       "       [ 0.44150621,  0.4411907 ,  0.56783618],\n",
       "       [ 0.47931055,  0.47906961,  0.60415428],\n",
       "       [ 0.51669139,  0.51650774,  0.63903825]])"
      ]
     },
     "execution_count": 166,
     "metadata": {},
     "output_type": "execute_result"
    }
   ],
   "source": [
    "power_binom_reject(np.array([4, 3, 4]), np.array([15, 15, 14]), p_null, np.arange(30, 50)[:, None])"
   ]
  },
  {
   "cell_type": "code",
   "execution_count": null,
   "metadata": {
    "collapsed": true
   },
   "outputs": [],
   "source": []
  },
  {
   "cell_type": "code",
   "execution_count": null,
   "metadata": {
    "collapsed": true
   },
   "outputs": [],
   "source": []
  },
  {
   "cell_type": "markdown",
   "metadata": {},
   "source": [
    "## Trying out two sample proportion, incorrect if nobs is scalar instead of same length as count."
   ]
  },
  {
   "cell_type": "code",
   "execution_count": 81,
   "metadata": {
    "collapsed": false
   },
   "outputs": [
    {
     "data": {
      "text/plain": [
       "(-0.39840953644479782, 0.69032832946419354)"
      ]
     },
     "execution_count": 81,
     "metadata": {},
     "output_type": "execute_result"
    }
   ],
   "source": [
    "smprop.proportions_ztest(np.array([6,7]), nobs, value=0, alternative='two-sided', prop_var=p_null)"
   ]
  },
  {
   "cell_type": "code",
   "execution_count": 77,
   "metadata": {
    "collapsed": false
   },
   "outputs": [
    {
     "data": {
      "text/plain": [
       "(-0.56343616981901101, 0.57313791338407638)"
      ]
     },
     "execution_count": 77,
     "metadata": {},
     "output_type": "execute_result"
    }
   ],
   "source": [
    "smprop.proportions_ztest(np.array([6,7]), nobs*np.ones(2), value=1/30, alternative='two-sided', prop_var=p_null)"
   ]
  },
  {
   "cell_type": "code",
   "execution_count": 78,
   "metadata": {
    "collapsed": false
   },
   "outputs": [
    {
     "data": {
      "text/plain": [
       "(-0.79681907288959564, 0.42555611641912894)"
      ]
     },
     "execution_count": 78,
     "metadata": {},
     "output_type": "execute_result"
    }
   ],
   "source": [
    "smprop.proportions_ztest(np.array([6,7]), nobs, value=1/30, alternative='two-sided', prop_var=p_null)"
   ]
  },
  {
   "cell_type": "code",
   "execution_count": 79,
   "metadata": {
    "collapsed": false
   },
   "outputs": [
    {
     "data": {
      "text/plain": [
       "(8.293564511085938e-17, 0.99999999999999989)"
      ]
     },
     "execution_count": 79,
     "metadata": {},
     "output_type": "execute_result"
    }
   ],
   "source": [
    "smprop.proportions_ztest(np.array([6,7]), nobs, value=-1/30, alternative='two-sided', prop_var=p_null)"
   ]
  },
  {
   "cell_type": "code",
   "execution_count": 80,
   "metadata": {
    "collapsed": false
   },
   "outputs": [
    {
     "data": {
      "text/plain": [
       "(5.864435705996961e-17, 1.0)"
      ]
     },
     "execution_count": 80,
     "metadata": {},
     "output_type": "execute_result"
    }
   ],
   "source": [
    "smprop.proportions_ztest(np.array([6,7]), nobs*np.ones(2), value=-1/30, alternative='two-sided', prop_var=p_null)"
   ]
  },
  {
   "cell_type": "code",
   "execution_count": null,
   "metadata": {
    "collapsed": true
   },
   "outputs": [],
   "source": []
  },
  {
   "cell_type": "code",
   "execution_count": 4,
   "metadata": {
    "collapsed": true
   },
   "outputs": [],
   "source": [
    "?smprop.proportion_confint()"
   ]
  },
  {
   "cell_type": "code",
   "execution_count": null,
   "metadata": {
    "collapsed": true
   },
   "outputs": [],
   "source": [
    "smprop.proportion_confint()"
   ]
  },
  {
   "cell_type": "code",
   "execution_count": 11,
   "metadata": {
    "collapsed": false
   },
   "outputs": [
    {
     "data": {
      "text/plain": [
       "0.34470140912721514"
      ]
     },
     "execution_count": 11,
     "metadata": {},
     "output_type": "execute_result"
    }
   ],
   "source": [
    "from statsmodels.stats.proportion import proportion_effectsize\n",
    "es = proportion_effectsize(0.4, 0.5)\n",
    "smpow.NormalIndPower().solve_power(es, nobs1=60, alpha=0.05, ratio=0)\n",
    "# R pwr 0.3447014091272153"
   ]
  },
  {
   "cell_type": "code",
   "execution_count": 14,
   "metadata": {
    "collapsed": false
   },
   "outputs": [
    {
     "data": {
      "text/plain": [
       "259.154426739506"
      ]
     },
     "execution_count": 14,
     "metadata": {},
     "output_type": "execute_result"
    }
   ],
   "source": [
    "smpow.NormalIndPower().solve_power(proportion_effectsize(0.4, 0.5), nobs1=None, alpha=0.05, ratio=0, power=0.9)"
   ]
  },
  {
   "cell_type": "code",
   "execution_count": null,
   "metadata": {
    "collapsed": true
   },
   "outputs": [],
   "source": []
  },
  {
   "cell_type": "code",
   "execution_count": null,
   "metadata": {
    "collapsed": true
   },
   "outputs": [],
   "source": []
  },
  {
   "cell_type": "code",
   "execution_count": null,
   "metadata": {
    "collapsed": true
   },
   "outputs": [],
   "source": []
  },
  {
   "cell_type": "code",
   "execution_count": 25,
   "metadata": {
    "collapsed": false
   },
   "outputs": [
    {
     "data": {
      "text/plain": [
       "(0.94849873047984967,\n",
       " ((0.75834970530451862,\n",
       "   0.86051080550098236,\n",
       "   -2.5599758686988578,\n",
       "   1.6821766224528543),))"
      ]
     },
     "execution_count": 25,
     "metadata": {},
     "output_type": "execute_result"
    }
   ],
   "source": [
    "low, upp, nobs, p_alt = 0.7, 0.9, 509/2, 0.82\n",
    "smprop.power_ztost_prop(low, upp, nobs, p_alt, alpha=0.025, dist='norm',\n",
    "                     variance_prop=None, discrete=True, continuity=0,\n",
    "                     critval_continuity=0)\n",
    "    "
   ]
  },
  {
   "cell_type": "code",
   "execution_count": 39,
   "metadata": {
    "collapsed": false
   },
   "outputs": [
    {
     "data": {
      "text/plain": [
       "(0.95000875677852759,\n",
       " ((0.75207687201030093,\n",
       "   0.86590768457946699,\n",
       "   -1.7341121433755891,\n",
       "   2.3848884863189261),))"
      ]
     },
     "execution_count": 39,
     "metadata": {},
     "output_type": "execute_result"
    }
   ],
   "source": [
    "low, upp, nobs, p_alt = 0.7, 0.9, 419/2, 0.8\n",
    "smprop.power_ztost_prop(low, upp, nobs, p_alt, alpha=0.05, dist='norm',\n",
    "                     variance_prop=None, discrete=False, continuity=0,\n",
    "                     critval_continuity=0)"
   ]
  },
  {
   "cell_type": "code",
   "execution_count": 41,
   "metadata": {
    "collapsed": false
   },
   "outputs": [
    {
     "data": {
      "text/plain": [
       "(0.95811685170327532,\n",
       " ((0.75220160721176865,\n",
       "   0.86582602622195959,\n",
       "   -1.812033626524528,\n",
       "   2.4628099694678625),))"
      ]
     },
     "execution_count": 41,
     "metadata": {},
     "output_type": "execute_result"
    }
   ],
   "source": [
    "low, upp, nobs, p_alt = 0.7, 0.9, 417/2, 0.8\n",
    "smprop.power_ztost_prop(low, upp, nobs, p_alt, alpha=0.05, dist='norm',\n",
    "                     variance_prop=None, discrete=False, continuity=1,\n",
    "                     critval_continuity=0)"
   ]
  },
  {
   "cell_type": "code",
   "execution_count": 49,
   "metadata": {
    "collapsed": false
   },
   "outputs": [
    {
     "data": {
      "text/plain": [
       "(0.95447058338704227,\n",
       " ((158.0, 181.0, 5695.1110612524499, 6528.3652241583422),))"
      ]
     },
     "execution_count": 49,
     "metadata": {},
     "output_type": "execute_result"
    }
   ],
   "source": [
    "low, upp, nobs, p_alt = 0.7, 0.9, 420/2, 0.8\n",
    "smprop.power_ztost_prop(low, upp, nobs, p_alt, alpha=0.05, dist='binom',\n",
    "                     variance_prop=None, discrete=False, continuity=0,\n",
    "                     critval_continuity=0)"
   ]
  },
  {
   "cell_type": "code",
   "execution_count": 55,
   "metadata": {
    "collapsed": false
   },
   "outputs": [
    {
     "data": {
      "text/plain": [
       "(0.91140841850002685,\n",
       " ((0.76242701448039996,\n",
       "   0.85913192581906617,\n",
       "   -1.4383338187061427,\n",
       "   2.2137816599366142),))"
      ]
     },
     "execution_count": 55,
     "metadata": {},
     "output_type": "execute_result"
    }
   ],
   "source": [
    "low, upp, nobs, p_alt = 0.7, 0.9, 414/2, 0.8\n",
    "smprop.power_ztost_prop(low, upp, nobs, p_alt, alpha=0.025, dist='norm',\n",
    "                     variance_prop=None, discrete=False, continuity=1,\n",
    "                     critval_continuity=0)"
   ]
  },
  {
   "cell_type": "code",
   "execution_count": null,
   "metadata": {
    "collapsed": true
   },
   "outputs": [],
   "source": []
  },
  {
   "cell_type": "code",
   "execution_count": null,
   "metadata": {
    "collapsed": true
   },
   "outputs": [],
   "source": []
  },
  {
   "cell_type": "code",
   "execution_count": 71,
   "metadata": {
    "collapsed": false
   },
   "outputs": [
    {
     "data": {
      "text/plain": [
       "(49.0, 51.0)"
      ]
     },
     "execution_count": 71,
     "metadata": {},
     "output_type": "execute_result"
    }
   ],
   "source": [
    "low, upp, nobs = 0.4, 0.6, 100\n",
    "smprop.binom_tost_reject_interval(low, upp, nobs, alpha=0.05)"
   ]
  },
  {
   "cell_type": "code",
   "execution_count": 59,
   "metadata": {
    "collapsed": false
   },
   "outputs": [
    {
     "data": {
      "text/plain": [
       "(12.0, 28.0)"
      ]
     },
     "execution_count": 59,
     "metadata": {},
     "output_type": "execute_result"
    }
   ],
   "source": [
    "value, nobs = 0.4, 50\n",
    "smprop.binom_test_reject_interval(value, nobs, alpha=0.05)"
   ]
  },
  {
   "cell_type": "code",
   "execution_count": 70,
   "metadata": {
    "collapsed": false
   },
   "outputs": [
    {
     "data": {
      "text/plain": [
       "(0.39832112950330101, 0.6016788704966991)"
      ]
     },
     "execution_count": 70,
     "metadata": {},
     "output_type": "execute_result"
    }
   ],
   "source": [
    "smprop.proportion_confint(50, 100, method='beta')"
   ]
  },
  {
   "cell_type": "code",
   "execution_count": 72,
   "metadata": {
    "collapsed": false
   },
   "outputs": [
    {
     "data": {
      "text/plain": [
       "(78.0, 84.0)"
      ]
     },
     "execution_count": 72,
     "metadata": {},
     "output_type": "execute_result"
    }
   ],
   "source": [
    "low, upp, nobs = 0.7, 0.9, 100\n",
    "smprop.binom_tost_reject_interval(low, upp, nobs, alpha=0.05)"
   ]
  },
  {
   "cell_type": "code",
   "execution_count": 76,
   "metadata": {
    "collapsed": false
   },
   "outputs": [
    {
     "data": {
      "text/plain": [
       "(0.65848903119285485, ((78.0, 85.0, 1930.0, 2105.0),))"
      ]
     },
     "execution_count": 76,
     "metadata": {},
     "output_type": "execute_result"
    }
   ],
   "source": [
    "low, upp, nobs, p_alt = 0.7, 0.9, 100, 0.8\n",
    "smprop.power_ztost_prop(low, upp, nobs, p_alt, alpha=0.05, dist='binom',\n",
    "                     variance_prop=None, discrete=False, continuity=0,\n",
    "                     critval_continuity=0)"
   ]
  },
  {
   "cell_type": "code",
   "execution_count": 78,
   "metadata": {
    "collapsed": false
   },
   "outputs": [
    {
     "data": {
      "text/plain": [
       "0.61042723749210825"
      ]
     },
     "execution_count": 78,
     "metadata": {},
     "output_type": "execute_result"
    }
   ],
   "source": [
    "low, upp, nobs, p_alt = 0.7, 0.9, 100, 0.8\n",
    "smprop.power_binom_tost(low, upp, nobs, p_alt, alpha=0.05)"
   ]
  },
  {
   "cell_type": "code",
   "execution_count": 79,
   "metadata": {
    "collapsed": false
   },
   "outputs": [
    {
     "data": {
      "text/plain": [
       "0.71661671146632"
      ]
     },
     "execution_count": 79,
     "metadata": {},
     "output_type": "execute_result"
    }
   ],
   "source": [
    "low, upp, nobs, p_alt = 0.7, 0.9, 125, 0.8\n",
    "smprop.power_binom_tost(low, upp, nobs, p_alt, alpha=0.05)"
   ]
  },
  {
   "cell_type": "code",
   "execution_count": null,
   "metadata": {
    "collapsed": true
   },
   "outputs": [],
   "source": []
  },
  {
   "cell_type": "code",
   "execution_count": null,
   "metadata": {
    "collapsed": true
   },
   "outputs": [],
   "source": []
  },
  {
   "cell_type": "code",
   "execution_count": null,
   "metadata": {
    "collapsed": true
   },
   "outputs": [],
   "source": []
  },
  {
   "cell_type": "code",
   "execution_count": 132,
   "metadata": {
    "collapsed": true
   },
   "outputs": [],
   "source": [
    "# from Lachine 1981 equ (3) and (4)\n",
    "\n",
    "from scipy import stats\n",
    "def sample_size_normal_greater(diff, std_null, std_alt, alpha=0.05, power=0.9):\n",
    "    crit_alpha, crit_pow = stats.norm.isf(alpha), stats.norm.isf(1 - power)\n",
    "    return ((crit_alpha * std_null + crit_pow * std_alt) / np.abs(diff))**2\n",
    "\n",
    "def power_normal_greater(diff, std_null, std_alt, nobs, alpha=0.05):\n",
    "    crit_alpha = stats.norm.isf(alpha)\n",
    "    crit_pow = (np.sqrt(nobs) * np.abs(diff) - crit_alpha * std_null) / std_alt\n",
    "    return stats.norm.cdf(crit_pow)"
   ]
  },
  {
   "cell_type": "code",
   "execution_count": 140,
   "metadata": {
    "collapsed": false
   },
   "outputs": [
    {
     "data": {
      "text/plain": [
       "856.38473506679793"
      ]
     },
     "execution_count": 140,
     "metadata": {},
     "output_type": "execute_result"
    }
   ],
   "source": [
    "# Note for two sample comparison we have to adjust the standard deviation for unequal sample sizes\n",
    "n_frac1 = 0.5\n",
    "n_frac2 = 1 - frac1\n",
    "\n",
    "# if defined by ratio: n2 = ratio * n1\n",
    "ratio = 1\n",
    "n_frac1 = 1 / ( 1. + ratio)\n",
    "n_frac2 = 1 - frac1\n",
    "\n",
    "\n",
    "# If we use fraction of nobs, then sample_size return nobs is total number of observations\n",
    "diff = 0.2\n",
    "std_null = std_alt = 1 * np.sqrt(1 / 0.5 + 1 / 0.5)\n",
    "nobs = sample_size_normal_greater(diff, std_null, std_alt, alpha=0.05, power=0.9)\n",
    "nobs"
   ]
  },
  {
   "cell_type": "code",
   "execution_count": 134,
   "metadata": {
    "collapsed": false
   },
   "outputs": [
    {
     "data": {
      "text/plain": [
       "0.89999999999999991"
      ]
     },
     "execution_count": 134,
     "metadata": {},
     "output_type": "execute_result"
    }
   ],
   "source": [
    "#nobs = 858\n",
    "power_normal_greater(diff, std_null, std_alt, nobs, alpha=0.05)"
   ]
  },
  {
   "cell_type": "code",
   "execution_count": 135,
   "metadata": {
    "collapsed": false
   },
   "outputs": [
    {
     "data": {
      "text/plain": [
       "(1.6448536269514729, 1.2815515655446004)"
      ]
     },
     "execution_count": 135,
     "metadata": {},
     "output_type": "execute_result"
    }
   ],
   "source": [
    "alpha=0.05; power=0.9\n",
    "stats.norm.isf(alpha), stats.norm.isf(1 - power)\n"
   ]
  },
  {
   "cell_type": "code",
   "execution_count": 136,
   "metadata": {
    "collapsed": false
   },
   "outputs": [
    {
     "data": {
      "text/plain": [
       "1.2815515655446004"
      ]
     },
     "execution_count": 136,
     "metadata": {},
     "output_type": "execute_result"
    }
   ],
   "source": [
    "crit_alpha = stats.norm.isf(alpha)\n",
    "(np.sqrt(nobs) * np.abs(diff) - crit_alpha * std_null) / std_alt"
   ]
  },
  {
   "cell_type": "code",
   "execution_count": 137,
   "metadata": {
    "collapsed": false
   },
   "outputs": [
    {
     "data": {
      "text/plain": [
       "0.89999999999999991"
      ]
     },
     "execution_count": 137,
     "metadata": {},
     "output_type": "execute_result"
    }
   ],
   "source": [
    "stats.norm.cdf(_)"
   ]
  },
  {
   "cell_type": "code",
   "execution_count": 138,
   "metadata": {
    "collapsed": false
   },
   "outputs": [
    {
     "data": {
      "text/plain": [
       "(array([ 30.,  49.]), array([ 51.,  70.]))"
      ]
     },
     "execution_count": 138,
     "metadata": {},
     "output_type": "execute_result"
    }
   ],
   "source": [
    "smprop.binom_test_reject_interval([0.4, 0.6], [100], alpha=0.05)"
   ]
  },
  {
   "cell_type": "code",
   "execution_count": null,
   "metadata": {
    "collapsed": true
   },
   "outputs": [],
   "source": []
  }
 ],
 "metadata": {
  "kernelspec": {
   "display_name": "Python 3",
   "language": "python",
   "name": "python3"
  },
  "language_info": {
   "codemirror_mode": {
    "name": "ipython",
    "version": 3
   },
   "file_extension": ".py",
   "mimetype": "text/x-python",
   "name": "python",
   "nbconvert_exporter": "python",
   "pygments_lexer": "ipython3",
   "version": "3.4.3"
  }
 },
 "nbformat": 4,
 "nbformat_minor": 0
}
