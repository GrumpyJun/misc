{
 "metadata": {
  "name": "",
  "signature": "sha256:167a90eb04f36bfd4777d4023acf476c7f1ac13cd750d077db1ce744d85da9e7"
 },
 "nbformat": 3,
 "nbformat_minor": 0,
 "worksheets": [
  {
   "cells": [
    {
     "cell_type": "heading",
     "level": 1,
     "metadata": {},
     "source": [
      "Example: Using GMM without exog and instruments"
     ]
    },
    {
     "cell_type": "markdown",
     "metadata": {},
     "source": [
      "In the following we look at a simple example for estimating distribution parameters with Generalized Method of Moments. The difference to other examples including the IV subclasses is that we only have a single observed variable and no explanatory variables or instruments.\n",
      "\n",
      "The main difficulty is in providing additional information to the class which cannot be inferred from the missing explanatory variables and instruments.\n",
      "\n",
      "The example reproduces and example in Greene's Econometric Analysis textbook that is used to illustrate GMM.\n",
      "The distribution is the Gamma distribution, which can be parameterized in different ways. Greene uses four moment conditions to estimate two parameters. See Wikipedia for additional information about the distribution."
     ]
    },
    {
     "cell_type": "code",
     "collapsed": false,
     "input": [
      "from __future__ import division\n",
      "import numpy as np\n",
      "from scipy.special import psi\n",
      "from statsmodels.sandbox.regression.gmm import GMM"
     ],
     "language": "python",
     "metadata": {},
     "outputs": [],
     "prompt_number": 1
    },
    {
     "cell_type": "markdown",
     "metadata": {},
     "source": [
      "The standard way to use the GMM class is to subclass it and define a method with the moment conditions. I also add a `__init__` method to set the number of moment conditions, `k_moms`, and the number of parameters, `k_params`, that needs to be estimated. In the standard IV setting these two are inferred from the explanatory variables and the instruments. I am coming back to this below."
     ]
    },
    {
     "cell_type": "code",
     "collapsed": false,
     "input": [
      "class GMMGamma(GMM):\n",
      "\n",
      "    def __init__(self, *args, **kwds):\n",
      "        # set appropriate counts for moment conditions and parameters\n",
      "        # TODO: clean up signature\n",
      "        kwds.setdefault('k_moms', 4)\n",
      "        kwds.setdefault('k_params', 2)\n",
      "        super(GMMGamma, self).__init__(*args, **kwds)\n",
      "\n",
      "\n",
      "    def momcond(self, params):\n",
      "        p0, p1 = params\n",
      "        endog = self.endog\n",
      "        error1 = endog - p0 / p1\n",
      "        error2 = endog**2 - (p0 + 1) * p0 / p1**2\n",
      "        error3 = 1 / endog - p1 / (p0 - 1)\n",
      "        error4 = np.log(endog) + np.log(p1) - psi(p0)\n",
      "        g = np.column_stack((error1, error2, error3, error4))\n",
      "        return g\n"
     ],
     "language": "python",
     "metadata": {},
     "outputs": [],
     "prompt_number": 2
    },
    {
     "cell_type": "markdown",
     "metadata": {},
     "source": [
      "The data is taken from the example in Green, and is"
     ]
    },
    {
     "cell_type": "code",
     "collapsed": false,
     "input": [
      "y = np.array([20.5, 31.5, 47.7, 26.2, 44.0, 8.28, 30.8, 17.2, 19.9, 9.96, 55.8, 25.2, 29.0, 85.5, 15.1, 28.5, 21.4, 17.7, 6.42, 84.9])"
     ],
     "language": "python",
     "metadata": {},
     "outputs": [],
     "prompt_number": 3
    },
    {
     "cell_type": "markdown",
     "metadata": {},
     "source": [
      "Given the data and our model class, we can create a model instance, fit and look at the summary. Explanations will follow.:"
     ]
    },
    {
     "cell_type": "code",
     "collapsed": false,
     "input": [
      "nobs = y.shape[0]\n",
      "x = np.ones((nobs, 4))\n",
      "\n",
      "model = GMMGamma(y, x, None)\n",
      "beta0 = np.array([2, 0.1])\n",
      "res = model.fit(beta0, maxiter=2, optim_method='nm', wargs=dict(centered=False))\n",
      "print(res.summary())"
     ],
     "language": "python",
     "metadata": {},
     "outputs": [
      {
       "output_type": "stream",
       "stream": "stdout",
       "text": [
        "Optimization terminated successfully.\n",
        "         Current function value: 0.001803\n",
        "         Iterations: 67\n",
        "         Function evaluations: 124\n",
        "Optimization terminated successfully.\n",
        "         Current function value: 0.098761\n",
        "         Iterations: 43\n",
        "         Function evaluations: 81\n",
        "                               GMMGamma Results                               \n",
        "==============================================================================\n",
        "Dep. Variable:                      y   Hansen J:                        1.975\n",
        "Model:                       GMMGamma   Prob (Hansen J):                 0.372\n",
        "Method:                           GMM                                         \n",
        "Date:                Fri, 02 Oct 2015                                         \n",
        "Time:                        16:59:04                                         \n",
        "No. Observations:                  20                                         \n",
        "==============================================================================\n",
        "                 coef    std err          z      P>|z|      [0.025      0.975]\n",
        "------------------------------------------------------------------------------\n",
        "x2             3.3590      0.450      7.470      0.000       2.478       4.240\n",
        "x3             0.1245      0.029      4.278      0.000       0.067       0.182\n",
        "=============================================================================="
       ]
      },
      {
       "output_type": "stream",
       "stream": "stdout",
       "text": [
        "\n"
       ]
      }
     ],
     "prompt_number": 4
    },
    {
     "cell_type": "markdown",
     "metadata": {},
     "source": [
      "The results agree with those in Greene's textbook at close to the print precision, 1e-4 relative tolerance."
     ]
    },
    {
     "cell_type": "code",
     "collapsed": false,
     "input": [
      "params_greene = [3.3589, 0.12449]\n",
      "bse_greene = [0.449667, 0.029099]\n",
      "params_greene / res.params - 1, bse_greene / res.bse - 1"
     ],
     "language": "python",
     "metadata": {},
     "outputs": [
      {
       "metadata": {},
       "output_type": "pyout",
       "prompt_number": 5,
       "text": [
        "(array([ -1.98821223e-05,  -3.86089816e-07]),\n",
        " array([ -4.47706867e-05,  -1.82571308e-05]))"
       ]
      }
     ],
     "prompt_number": 5
    },
    {
     "cell_type": "markdown",
     "metadata": {},
     "source": [
      "Some explanation to the above which applies to the current version of statsmodels (0.7), which will be changed for statsmodels 0.8.\n",
      "\n",
      "The signature for GMM has `endog, exog, instruments` as required arguments. We can set instruments to None, but not exog. We need to use currently a \"fake\" exog to avoid an exception when the default parameter names are created.\n",
      "\n",
      "The fit arguments:\n",
      "\n",
      "We set maxiter to two so we get two-stage GMM. By default an identity matrix is used for the initial weight matrix in GMM. If we set `maxiter=1`, then we get the one step GMM estimator with fixed initial weight matrix.\n",
      "\n",
      "The optimization problem is \"not nice\" in this case. The parameters are required to satisfy some inequality constraints (being positive) that we don't impose in our moment conditions. Additionally, some of the moment conditions are numerically not well behaved and are badly scaled. In this case the default optimizer, scipy's `bfgs` fails. To get a solution to the optimization we provide reasonably good starting parameters and use the more robust Nelder-Mead optimizer, `optim_method='nm'`.\n",
      "\n",
      "By default GMM centers the moments to calculate the weight matrix. Greene does not use centering, so in order to replicate his results, we need to set the weight argument `wargs=dict(centered=False)`.\n",
      "\n",
      "As mentioned, I will change the default behavior in statsmodels to make `exog` and `instruments` optional. ( https://github.com/statsmodels/statsmodels/issues/2633 ). The above without the fake exog and without the None instruments will then be the recommended usage."
     ]
    },
    {
     "cell_type": "heading",
     "level": 2,
     "metadata": {},
     "source": [
      "Alternative Implementation"
     ]
    },
    {
     "cell_type": "code",
     "collapsed": false,
     "input": [
      "class GMMGamma2(GMM):\n",
      "\n",
      "    def momcond(self, params):\n",
      "        p0, p1 = params\n",
      "        endog = self.endog\n",
      "        error1 = endog - p0 / p1\n",
      "        error2 = endog**2 - (p0 + 1) * p0 / p1**2\n",
      "        error3 = 1 / endog - p1 / (p0 - 1)\n",
      "        error4 = np.log(endog) + np.log(p1) - psi(p0)\n",
      "        g = np.column_stack((error1, error2, error3, error4))\n",
      "        return g"
     ],
     "language": "python",
     "metadata": {},
     "outputs": [],
     "prompt_number": 6
    },
    {
     "cell_type": "markdown",
     "metadata": {},
     "source": [
      "As alternative, we only provide the moment condition in the GMM subclass, but we use correctly shaped fake exog and instruments to provide the information about the number of moment conditions and the number of parameters."
     ]
    },
    {
     "cell_type": "code",
     "collapsed": false,
     "input": [
      "z = np.ones((nobs, 4))\n",
      "\n",
      "model2 = GMMGamma2(y, x, z)\n",
      "res2 = model2.fit(beta0, maxiter=2, optim_method='nm', wargs=dict(centered=False))\n",
      "print(res2.summary())"
     ],
     "language": "python",
     "metadata": {},
     "outputs": [
      {
       "output_type": "stream",
       "stream": "stdout",
       "text": [
        "Optimization terminated successfully.\n",
        "         Current function value: 0.001803\n",
        "         Iterations: 67\n",
        "         Function evaluations: 124\n",
        "Optimization terminated successfully.\n",
        "         Current function value: 0.098761\n",
        "         Iterations: 43\n",
        "         Function evaluations: 81\n",
        "                              GMMGamma2 Results                               \n",
        "==============================================================================\n",
        "Dep. Variable:                      y   Hansen J:                        1.975\n",
        "Model:                      GMMGamma2   Prob (Hansen J):                 0.372\n",
        "Method:                           GMM                                         \n",
        "Date:                Fri, 02 Oct 2015                                         \n",
        "Time:                        16:59:05                                         \n",
        "No. Observations:                  20                                         \n",
        "==============================================================================\n",
        "                 coef    std err          z      P>|z|      [0.025      0.975]\n",
        "------------------------------------------------------------------------------\n",
        "x2             3.3590      0.450      7.470      0.000       2.478       4.240\n",
        "x3             0.1245      0.029      4.278      0.000       0.067       0.182\n",
        "==============================================================================\n"
       ]
      }
     ],
     "prompt_number": 7
    },
    {
     "cell_type": "markdown",
     "metadata": {},
     "source": [
      "Another version that works around the problems even if we have incorrectly shaped exog and instruments is to explicitly specify the required extra information. This will also work in cases where we have a different number of exog and instruments than parameters and moment conditions.\n",
      "\n",
      "That summary requires the correct length of parameter names, `xname`, even though k_params was specified, is currently a bug and will also be fixed in statsmodels."
     ]
    },
    {
     "cell_type": "code",
     "collapsed": false,
     "input": [
      "x = z = np.ones((nobs, 1))\n",
      "\n",
      "model2 = GMMGamma2(y, x, z, k_moms=4, k_params=2)\n",
      "res2 = model2.fit(beta0, maxiter=2, optim_method='nm', wargs=dict(centered=False))\n",
      "print(res2.summary(xname=['alpha', 'beta']))"
     ],
     "language": "python",
     "metadata": {},
     "outputs": [
      {
       "output_type": "stream",
       "stream": "stdout",
       "text": [
        "Optimization terminated successfully.\n",
        "         Current function value: 0.001803\n",
        "         Iterations: 67\n",
        "         Function evaluations: 124\n",
        "Optimization terminated successfully.\n",
        "         Current function value: 0.098761\n",
        "         Iterations: 43\n",
        "         Function evaluations: 81\n",
        "                              GMMGamma2 Results                               \n",
        "==============================================================================\n",
        "Dep. Variable:                      y   Hansen J:                        1.975\n",
        "Model:                      GMMGamma2   Prob (Hansen J):                 0.372\n",
        "Method:                           GMM                                         \n",
        "Date:                Fri, 02 Oct 2015                                         \n",
        "Time:                        16:59:05                                         \n",
        "No. Observations:                  20                                         \n",
        "==============================================================================\n",
        "                 coef    std err          z      P>|z|      [0.025      0.975]\n",
        "------------------------------------------------------------------------------\n",
        "alpha          3.3590      0.450      7.470      0.000       2.478       4.240\n",
        "beta           0.1245      0.029      4.278      0.000       0.067       0.182\n",
        "==============================================================================\n"
       ]
      }
     ],
     "prompt_number": 8
    },
    {
     "cell_type": "heading",
     "level": 2,
     "metadata": {},
     "source": [
      "Extensions and comparison to other estimators"
     ]
    },
    {
     "cell_type": "code",
     "collapsed": false,
     "input": [
      "# TODO"
     ],
     "language": "python",
     "metadata": {},
     "outputs": [],
     "prompt_number": 9
    }
   ],
   "metadata": {}
  }
 ]
}