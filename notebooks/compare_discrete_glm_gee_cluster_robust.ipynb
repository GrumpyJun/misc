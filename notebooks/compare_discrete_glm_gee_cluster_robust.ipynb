{
 "metadata": {
  "name": "",
  "signature": "sha256:d1c0405390b5de2a9d39c11aa0a764ced7af70e3fb87adbf745a1fa06b10a288"
 },
 "nbformat": 3,
 "nbformat_minor": 0,
 "worksheets": [
  {
   "cells": [
    {
     "cell_type": "heading",
     "level": 1,
     "metadata": {},
     "source": [
      "Robust Standard Errors for discrete models and GLM"
     ]
    },
    {
     "cell_type": "markdown",
     "metadata": {},
     "source": [
      "**Sections**\n",
      "\n",
      " - [Poisson](#Poisson)\n",
      "\n",
      "   - [Discrete Model Poisson](#Discrete-Model-Poisson)\n",
      "   - [GLM Poisson](#GLM-Poisson)\n",
      "   - [GEE Poisson](#GEE-Poisson)\n",
      "   - [Comparison Poisson](#Comparison-Poisson)\n",
      " \n",
      " - [Negative Binomial](#Negative-Binomial)\n",
      "\n",
      " - [Logit](#Logit)\n",
      "\n",
      "   - [Discrete Model Logit](#Discrete-Model-Logit)\n",
      "   - [GLM Logit (Binomial)](#GLM-Logit-(Binomial))\n",
      "   - [GEE Logit](#GEE-Logit)\n",
      "   - [Comparison Logit](#Comparison-Logit)\n",
      "\n",
      " - [Probit](#Probit)\n",
      "\n",
      "   - [Discrete Model Probit](#Discrete-Model-Probit)\n",
      "   - [GLM Probit](#GLM-Probit)\n",
      "   - [GEE Probit](#GEE-Probit)\n",
      "   - [Comparison Probit](#Comparison-Probit)\n"
     ]
    },
    {
     "cell_type": "markdown",
     "metadata": {},
     "source": [
      "This notebook does not have unique model and result names, running only parts might take the wrong instances, that is it will take the latest that has been calculated not the one that is calculated in previous cells. Use `Run All` or `Run All Above`.\n",
      "\n",
      "Robust bias corrected standard errors for GEE are missing in the comparison. Currently GEE does not implement default attributes based on chosen covariance type.\n",
      "\n",
      "The cluster robust standard errors for GLM or the discrete models are in between those of the robust and the bias corrected robust standard errors in the GEE model. The standard errors of the former are proportional to the robust standard errors of GEE.\n",
      "\n",
      "TODO: this is missing comparison for the linear models of GLM, OLS and GEE for robust standard errors."
     ]
    },
    {
     "cell_type": "code",
     "collapsed": false,
     "input": [
      "# -*- coding: utf-8 -*-\n",
      "\"\"\"\n",
      "Created on Mon Aug 04 18:23:10 2014\n",
      "\n",
      "Author: Josef Perktold\n",
      "converted from script try_robust_poisson.py\n",
      "\"\"\"\n",
      "\n",
      "import pandas as pd"
     ],
     "language": "python",
     "metadata": {},
     "outputs": [],
     "prompt_number": 1
    },
    {
     "cell_type": "markdown",
     "metadata": {},
     "source": [
      "The following is reusing some setup code from a test module"
     ]
    },
    {
     "cell_type": "code",
     "collapsed": false,
     "input": [
      "from statsmodels.discrete.tests.test_sandwich_cov import *"
     ],
     "language": "python",
     "metadata": {},
     "outputs": [],
     "prompt_number": 2
    },
    {
     "cell_type": "markdown",
     "metadata": {},
     "source": [
      "Imports for Generalized Estimating Equations, GEE, which is not part of the unit test module."
     ]
    },
    {
     "cell_type": "code",
     "collapsed": false,
     "input": [
      "from statsmodels.genmod.generalized_linear_model import GLM\n",
      "from statsmodels.genmod.generalized_estimating_equations import GEE\n",
      "from statsmodels.genmod.dependence_structures import Independence"
     ],
     "language": "python",
     "metadata": {},
     "outputs": [],
     "prompt_number": 3
    },
    {
     "cell_type": "heading",
     "level": 2,
     "metadata": {},
     "source": [
      "Poisson"
     ]
    },
    {
     "cell_type": "heading",
     "level": 3,
     "metadata": {},
     "source": [
      "Discrete Model Poisson"
     ]
    },
    {
     "cell_type": "code",
     "collapsed": false,
     "input": [
      "res2 = results_st.results_poisson_hc1\n",
      "mod = smd.Poisson(endog, exog)\n",
      "res1 = mod.fit(disp=False)\n",
      "print res1.bse"
     ],
     "language": "python",
     "metadata": {},
     "outputs": [
      {
       "output_type": "stream",
       "stream": "stdout",
       "text": [
        "yr_con      0.053336\n",
        "op_75_79    0.112778\n",
        "const       0.135680\n",
        "dtype: float64\n"
       ]
      }
     ],
     "prompt_number": 4
    },
    {
     "cell_type": "code",
     "collapsed": false,
     "input": [
      "from statsmodels.base.covtype import get_robustcov_results\n",
      "\n",
      "#res_hc0_ = cls.res1.get_robustcov_results('HC1')\n",
      "get_robustcov_results(res1._results, 'HC1', use_self=True)\n",
      "bse_rob = res1.bse\n",
      "nobs, k_vars = mod.exog.shape\n",
      "corr_fact = (nobs) / float(nobs - 1.)\n",
      "# for bse we need sqrt of correction factor\n",
      "corr_fact = np.sqrt(1./corr_fact)\n",
      "\n",
      "\n",
      "res1f = mod.fit(disp=False, cov_type='cluster', cov_kwds=dict(groups=group))\n",
      "print(res1f.cov_type)\n",
      "print(res1f.bse)"
     ],
     "language": "python",
     "metadata": {},
     "outputs": [
      {
       "output_type": "stream",
       "stream": "stdout",
       "text": [
        "cluster\n",
        "yr_con      0.205667\n",
        "op_75_79    0.114459\n",
        "const       1.139941\n",
        "dtype: float64\n"
       ]
      }
     ],
     "prompt_number": 5
    },
    {
     "cell_type": "code",
     "collapsed": false,
     "input": [
      "res1f_hc1 = mod.fit(disp=False, cov_type='HC1', cov_kwds={})\n",
      "print(res1f_hc1.cov_type)\n",
      "print(res1f_hc1.bse)"
     ],
     "language": "python",
     "metadata": {},
     "outputs": [
      {
       "output_type": "stream",
       "stream": "stdout",
       "text": [
        "HC1\n",
        "yr_con      0.189488\n",
        "op_75_79    0.544821\n",
        "const       0.655468\n",
        "dtype: float64\n"
       ]
      }
     ],
     "prompt_number": 6
    },
    {
     "cell_type": "code",
     "collapsed": false,
     "input": [
      "res1f_hc1 = mod.fit(disp=False, cov_type='HC1')\n",
      "print(res1f_hc1.cov_type)\n",
      "print(res1f_hc1.bse)"
     ],
     "language": "python",
     "metadata": {},
     "outputs": [
      {
       "output_type": "stream",
       "stream": "stdout",
       "text": [
        "HC1\n",
        "yr_con      0.189488\n",
        "op_75_79    0.544821\n",
        "const       0.655468\n",
        "dtype: float64\n"
       ]
      }
     ],
     "prompt_number": 7
    },
    {
     "cell_type": "heading",
     "level": 3,
     "metadata": {},
     "source": [
      "GLM Poisson"
     ]
    },
    {
     "cell_type": "code",
     "collapsed": false,
     "input": [
      "print('\\nGLM')\n",
      "from statsmodels.genmod.generalized_linear_model import GLM\n",
      "from statsmodels.genmod.families import Poisson\n",
      "from statsmodels.genmod import families\n",
      "\n",
      "mod = GLM(endog, exog, family=Poisson())\n",
      "res_glm_nr = mod.fit()\n",
      "get_robustcov_results(res_glm_nr._results, 'HC1', use_self=True)\n",
      "print(res_glm_nr.cov_type)\n",
      "print(res_glm_nr.bse)\n",
      "print(np.sqrt(np.diag(res_glm_nr.cov_params())))"
     ],
     "language": "python",
     "metadata": {},
     "outputs": [
      {
       "output_type": "stream",
       "stream": "stdout",
       "text": [
        "\n",
        "GLM\n",
        "HC1\n",
        "yr_con      0.189488\n",
        "op_75_79    0.544821\n",
        "const       0.655468\n",
        "dtype: float64\n",
        "[ 0.18948754  0.54482079  0.65546802]\n"
       ]
      }
     ],
     "prompt_number": 8
    },
    {
     "cell_type": "code",
     "collapsed": false,
     "input": [
      "res_glm_clu = mod.fit()\n",
      "get_robustcov_results(res_glm_clu._results, cov_type='cluster', groups=group, use_self=True)\n",
      "print(res_glm_clu.cov_type)\n",
      "print(res_glm_clu.bse)\n",
      "print(np.sqrt(np.diag(res_glm_clu.cov_params())))"
     ],
     "language": "python",
     "metadata": {},
     "outputs": [
      {
       "output_type": "stream",
       "stream": "stdout",
       "text": [
        "cluster\n",
        "yr_con      0.205667\n",
        "op_75_79    0.114459\n",
        "const       1.139941\n",
        "dtype: float64\n",
        "[ 0.20566683  0.11445894  1.13994051]\n"
       ]
      }
     ],
     "prompt_number": 9
    },
    {
     "cell_type": "code",
     "collapsed": false,
     "input": [
      "res_glm_clu2 = mod.fit(cov_type='cluster', cov_kwds=dict(groups=group))\n",
      "print(res_glm_clu2.cov_type + ' - fit')\n",
      "print(res_glm_clu2.bse)\n",
      "print(np.sqrt(np.diag(res_glm_clu2.cov_params())))"
     ],
     "language": "python",
     "metadata": {},
     "outputs": [
      {
       "output_type": "stream",
       "stream": "stdout",
       "text": [
        "cluster - fit\n",
        "yr_con      0.205667\n",
        "op_75_79    0.114459\n",
        "const       1.139941\n",
        "dtype: float64\n",
        "[ 0.20566683  0.11445894  1.13994051]\n"
       ]
      }
     ],
     "prompt_number": 10
    },
    {
     "cell_type": "code",
     "collapsed": false,
     "input": [
      "res_glm_hc1 = mod.fit(cov_type='HC1', cov_kwds={})\n",
      "print(res_glm_hc1.cov_type + ' - fit')\n",
      "print(res_glm_hc1.bse)"
     ],
     "language": "python",
     "metadata": {},
     "outputs": [
      {
       "output_type": "stream",
       "stream": "stdout",
       "text": [
        "HC1 - fit\n",
        "yr_con      0.189488\n",
        "op_75_79    0.544821\n",
        "const       0.655468\n",
        "dtype: float64\n"
       ]
      }
     ],
     "prompt_number": 11
    },
    {
     "cell_type": "heading",
     "level": 3,
     "metadata": {},
     "source": [
      "GEE Poisson"
     ]
    },
    {
     "cell_type": "code",
     "collapsed": false,
     "input": [
      "fam = Poisson() #families.Poisson()\n",
      "ind = Independence()\n",
      "mod1 = GEE(endog, exog, group, cov_struct=ind, family=fam)\n",
      "res_gee = mod1.fit()\n",
      "#print res_gee.summary()\n",
      "print(res_gee.bse)"
     ],
     "language": "python",
     "metadata": {},
     "outputs": [
      {
       "output_type": "stream",
       "stream": "stdout",
       "text": [
        "[ 0.17829252  0.09922443  0.98821413]\n"
       ]
      }
     ],
     "prompt_number": 12
    },
    {
     "cell_type": "markdown",
     "metadata": {},
     "source": [
      "The robust standard error differ from those of the cluster robust GLM or Poisson model, which are in between the robust and the bias corrected robust standard errors of GEE."
     ]
    },
    {
     "cell_type": "code",
     "collapsed": false,
     "input": [
      "print(res_glm_clu2.bse.values)\n",
      "print(np.sqrt(np.diag(res_gee.robust_covariance_bc)))"
     ],
     "language": "python",
     "metadata": {},
     "outputs": [
      {
       "output_type": "stream",
       "stream": "stdout",
       "text": [
        "[ 0.20566683  0.11445894  1.13994051]\n",
        "[ 0.23546361  0.11933672  1.26055918]\n"
       ]
      }
     ],
     "prompt_number": 13
    },
    {
     "cell_type": "markdown",
     "metadata": {},
     "source": [
      "It is not clear to me where the difference is comming from based on trying to reverse engineer the scaling difference between GEE robust and Poisson cluster robust standard errors. \n",
      "Note that we have a very small number of clusters in this example, and any differences in small sample adjustments can have a large effect in this case."
     ]
    },
    {
     "cell_type": "code",
     "collapsed": false,
     "input": [
      "res_gee.bse / res_glm_clu2.bse.values"
     ],
     "language": "python",
     "metadata": {},
     "outputs": [
      {
       "metadata": {},
       "output_type": "pyout",
       "prompt_number": 14,
       "text": [
        "array([ 0.86689973,  0.86689975,  0.86689974])"
       ]
      }
     ],
     "prompt_number": 14
    },
    {
     "cell_type": "code",
     "collapsed": false,
     "input": [
      "np.sqrt(np.diag(res_gee.robust_covariance_bc)) / res_glm_clu2.bse.values"
     ],
     "language": "python",
     "metadata": {},
     "outputs": [
      {
       "metadata": {},
       "output_type": "pyout",
       "prompt_number": 15,
       "text": [
        "array([ 1.14487891,  1.04261596,  1.10581136])"
       ]
      }
     ],
     "prompt_number": 15
    },
    {
     "cell_type": "code",
     "collapsed": false,
     "input": [
      "np.sqrt(4/5. * 31 / 34.), res_glm_clu2.df_resid"
     ],
     "language": "python",
     "metadata": {},
     "outputs": [
      {
       "metadata": {},
       "output_type": "pyout",
       "prompt_number": 16,
       "text": [
        "(0.85405606648854293, 31)"
       ]
      }
     ],
     "prompt_number": 16
    },
    {
     "cell_type": "code",
     "collapsed": false,
     "input": [
      "np.sqrt(res_glm_clu2.pearson_chi2 / res_glm_clu2.df_resid)"
     ],
     "language": "python",
     "metadata": {},
     "outputs": [
      {
       "metadata": {},
       "output_type": "pyout",
       "prompt_number": 17,
       "text": [
        "5.036529857145875"
       ]
      }
     ],
     "prompt_number": 17
    },
    {
     "cell_type": "code",
     "collapsed": false,
     "input": [
      "print res_gee.summary()"
     ],
     "language": "python",
     "metadata": {},
     "outputs": [
      {
       "output_type": "stream",
       "stream": "stdout",
       "text": [
        "                               GEE Regression Results                              \n",
        "===================================================================================\n",
        "Dep. Variable:                    accident   No. Observations:                   34\n",
        "Model:                                 GEE   No. clusters:                        5\n",
        "Method:                        Generalized   Min. cluster size:                   6\n",
        "                      Estimating Equations   Max. cluster size:                   7\n",
        "Family:                            Poisson   Mean cluster size:                 6.8\n",
        "Dependence structure:         Independence   Num. iterations:                    14\n",
        "Date:                     Tue, 19 Aug 2014   Scale:                          25.367\n",
        "Covariance type:                    robust   Time:                         10:33:04\n",
        "==============================================================================\n",
        "                 coef    std err          z      P>|z|      [95.0% Conf. Int.]\n",
        "------------------------------------------------------------------------------\n",
        "yr_con        -0.0217      0.178     -0.122      0.903        -0.371     0.328\n",
        "op_75_79       0.2215      0.099      2.232      0.026         0.027     0.416\n",
        "const          2.2697      0.988      2.297      0.022         0.333     4.207\n",
        "==============================================================================\n",
        "Skew:                          1.8833   Kurtosis:                       2.5279\n",
        "Centered skew:                -0.0381   Centered kurtosis:              2.2025\n",
        "==============================================================================\n"
       ]
      }
     ],
     "prompt_number": 18
    },
    {
     "cell_type": "heading",
     "level": 3,
     "metadata": {},
     "source": [
      "Comparison Poisson"
     ]
    },
    {
     "cell_type": "code",
     "collapsed": false,
     "input": [
      "res_all = [res1f, res_glm_clu, res_gee]\n",
      "res_names = ['Poisson-cluster', 'GLM-cluster', 'GEE']\n",
      "\n",
      "#print pd.concat((res_glm_clu.params, res_gee.params), axis=1)\n",
      "print('Parameters')\n",
      "pd.DataFrame(np.round(np.column_stack([np.asarray(getattr(res, 'params')) for res in res_all]), 4), \n",
      "                 index=res_glm_clu.params.index, columns=res_names)"
     ],
     "language": "python",
     "metadata": {},
     "outputs": [
      {
       "output_type": "stream",
       "stream": "stdout",
       "text": [
        "Parameters\n"
       ]
      },
      {
       "html": [
        "<div style=\"max-height:1000px;max-width:1500px;overflow:auto;\">\n",
        "<table border=\"1\" class=\"dataframe\">\n",
        "  <thead>\n",
        "    <tr style=\"text-align: right;\">\n",
        "      <th></th>\n",
        "      <th>Poisson-cluster</th>\n",
        "      <th>GLM-cluster</th>\n",
        "      <th>GEE</th>\n",
        "    </tr>\n",
        "  </thead>\n",
        "  <tbody>\n",
        "    <tr>\n",
        "      <th>yr_con</th>\n",
        "      <td>-0.0217</td>\n",
        "      <td>-0.0217</td>\n",
        "      <td>-0.0217</td>\n",
        "    </tr>\n",
        "    <tr>\n",
        "      <th>op_75_79</th>\n",
        "      <td> 0.2215</td>\n",
        "      <td> 0.2215</td>\n",
        "      <td> 0.2215</td>\n",
        "    </tr>\n",
        "    <tr>\n",
        "      <th>const</th>\n",
        "      <td> 2.2697</td>\n",
        "      <td> 2.2697</td>\n",
        "      <td> 2.2697</td>\n",
        "    </tr>\n",
        "  </tbody>\n",
        "</table>\n",
        "</div>"
       ],
       "metadata": {},
       "output_type": "pyout",
       "prompt_number": 19,
       "text": [
        "          Poisson-cluster  GLM-cluster     GEE\n",
        "yr_con            -0.0217      -0.0217 -0.0217\n",
        "op_75_79           0.2215       0.2215  0.2215\n",
        "const              2.2697       2.2697  2.2697"
       ]
      }
     ],
     "prompt_number": 19
    },
    {
     "cell_type": "code",
     "collapsed": false,
     "input": [
      "print('Standard Errors')\n",
      "pd.DataFrame(np.round(np.column_stack([np.asarray(getattr(res, 'bse')) for res in res_all]), 4), \n",
      "                 index=res_glm_clu.params.index, columns=res_names)"
     ],
     "language": "python",
     "metadata": {},
     "outputs": [
      {
       "output_type": "stream",
       "stream": "stdout",
       "text": [
        "Standard Errors\n"
       ]
      },
      {
       "html": [
        "<div style=\"max-height:1000px;max-width:1500px;overflow:auto;\">\n",
        "<table border=\"1\" class=\"dataframe\">\n",
        "  <thead>\n",
        "    <tr style=\"text-align: right;\">\n",
        "      <th></th>\n",
        "      <th>Poisson-cluster</th>\n",
        "      <th>GLM-cluster</th>\n",
        "      <th>GEE</th>\n",
        "    </tr>\n",
        "  </thead>\n",
        "  <tbody>\n",
        "    <tr>\n",
        "      <th>yr_con</th>\n",
        "      <td> 0.2057</td>\n",
        "      <td> 0.2057</td>\n",
        "      <td> 0.1783</td>\n",
        "    </tr>\n",
        "    <tr>\n",
        "      <th>op_75_79</th>\n",
        "      <td> 0.1145</td>\n",
        "      <td> 0.1145</td>\n",
        "      <td> 0.0992</td>\n",
        "    </tr>\n",
        "    <tr>\n",
        "      <th>const</th>\n",
        "      <td> 1.1399</td>\n",
        "      <td> 1.1399</td>\n",
        "      <td> 0.9882</td>\n",
        "    </tr>\n",
        "  </tbody>\n",
        "</table>\n",
        "</div>"
       ],
       "metadata": {},
       "output_type": "pyout",
       "prompt_number": 20,
       "text": [
        "          Poisson-cluster  GLM-cluster     GEE\n",
        "yr_con             0.2057       0.2057  0.1783\n",
        "op_75_79           0.1145       0.1145  0.0992\n",
        "const              1.1399       1.1399  0.9882"
       ]
      }
     ],
     "prompt_number": 20
    },
    {
     "cell_type": "heading",
     "level": 2,
     "metadata": {},
     "source": [
      "Negative Binomial"
     ]
    },
    {
     "cell_type": "code",
     "collapsed": false,
     "input": [
      "print('\\nNegative Binomial')\n",
      "mod = smd.NegativeBinomial(endog, exog)\n",
      "res_glm_nr = mod.fit(disp=False)\n",
      "get_robustcov_results(res_glm_nr._results, 'HC1', use_self=True)\n",
      "print(res_glm_nr.cov_type)\n",
      "print(res_glm_nr.bse)\n",
      "print(np.sqrt(np.diag(res_glm_nr.cov_params())))"
     ],
     "language": "python",
     "metadata": {},
     "outputs": [
      {
       "output_type": "stream",
       "stream": "stdout",
       "text": [
        "\n",
        "Negative Binomial\n",
        "HC1\n",
        "yr_con      0.257201\n",
        "op_75_79    0.554121\n",
        "const       0.749135\n",
        "alpha       0.551116\n",
        "dtype: float64\n",
        "[ 0.25720074  0.55412081  0.74913526  0.55111619]\n"
       ]
      }
     ],
     "prompt_number": 21
    },
    {
     "cell_type": "code",
     "collapsed": false,
     "input": [
      "res_glm_clu = mod.fit(disp=False)\n",
      "get_robustcov_results(res_glm_clu._results, cov_type='cluster', groups=group, use_self=True)\n",
      "print(res_glm_clu.cov_type)\n",
      "print(res_glm_clu.bse)\n",
      "print(np.sqrt(np.diag(res_glm_clu.cov_params())))"
     ],
     "language": "python",
     "metadata": {},
     "outputs": [
      {
       "output_type": "stream",
       "stream": "stdout",
       "text": [
        "cluster\n",
        "yr_con      0.285445\n",
        "op_75_79    0.104592\n",
        "const       1.293787\n",
        "alpha       0.549495\n",
        "dtype: float64\n",
        "[ 0.2854446   0.1045925   1.29378708  0.54949506]\n"
       ]
      }
     ],
     "prompt_number": 22
    },
    {
     "cell_type": "code",
     "collapsed": false,
     "input": [
      "res_glm_clu2 = mod.fit(disp=False, cov_type='cluster', cov_kwds=dict(groups=group))\n",
      "print(res_glm_clu2.cov_type + ' - fit')\n",
      "print(res_glm_clu2.bse)\n",
      "print(np.sqrt(np.diag(res_glm_clu2.cov_params())))\n",
      "bse_st = np.array([ 0.2721609 ,  0.09972456,  1.23357855,  0.5239233 ])\n",
      "print(bse_st),\n",
      "print('Stata')\n",
      "print(res_glm_clu2.bse.values / bse_st)\n",
      "\n",
      "res_glm_hc1 = mod.fit(disp=False, cov_type='HC1', cov_kwds={})\n",
      "print(res_glm_hc1.cov_type + ' - fit')\n",
      "print(res_glm_hc1.bse)"
     ],
     "language": "python",
     "metadata": {},
     "outputs": [
      {
       "output_type": "stream",
       "stream": "stdout",
       "text": [
        "cluster - fit\n",
        "yr_con      0.285445\n",
        "op_75_79    0.104592\n",
        "const       1.293787\n",
        "alpha       0.549495\n",
        "dtype: float64\n",
        "[ 0.2854446   0.1045925   1.29378708  0.54949506]\n",
        "[ 0.2721609   0.09972456  1.23357855  0.5239233 ] Stata\n",
        "[ 1.04880825  1.04881382  1.04880803  1.04880822]\n",
        "HC1 - fit\n",
        "yr_con      0.257201\n",
        "op_75_79    0.554121\n",
        "const       0.749135\n",
        "alpha       0.551116\n",
        "dtype: float64\n"
       ]
      }
     ],
     "prompt_number": 23
    },
    {
     "cell_type": "heading",
     "level": 2,
     "metadata": {},
     "source": [
      "Logit"
     ]
    },
    {
     "cell_type": "heading",
     "level": 3,
     "metadata": {},
     "source": [
      "GLM Logit (Binomial)"
     ]
    },
    {
     "cell_type": "code",
     "collapsed": false,
     "input": [
      "print('\\nGLM Logit')\n",
      "endog_bin = (endog > endog.mean()).astype(int)\n",
      "mod1 = GLM(endog_bin, exog,\n",
      "                   family=families.Binomial())\n",
      "\n",
      "res_glm_logit_clu = mod1.fit()\n",
      "print(res_glm_logit_clu.cov_type + ' - fit')\n",
      "print(res_glm_logit_clu.bse)\n",
      "\n",
      "res_glm_logit_clu2 = mod1.fit(cov_type='cluster', cov_kwds=dict(groups=group))\n",
      "print(res_glm_logit_clu2.cov_type + ' - fit')\n",
      "print(res_glm_logit_clu2.bse)\n",
      "print(np.sqrt(np.diag(res_glm_logit_clu2.cov_params())))    "
     ],
     "language": "python",
     "metadata": {},
     "outputs": [
      {
       "output_type": "stream",
       "stream": "stdout",
       "text": [
        "\n",
        "GLM Logit\n",
        "nonrobust - fit\n",
        "yr_con      0.385787\n",
        "op_75_79    0.826742\n",
        "const       1.048827\n",
        "dtype: float64\n",
        "cluster - fit\n",
        "yr_con      0.337142\n",
        "op_75_79    0.593020\n",
        "const       1.864865\n",
        "dtype: float64\n",
        "[ 0.33714199  0.59302014  1.86486478]\n"
       ]
      }
     ],
     "prompt_number": 24
    },
    {
     "cell_type": "heading",
     "level": 3,
     "metadata": {},
     "source": [
      "Discrete Model Logit"
     ]
    },
    {
     "cell_type": "markdown",
     "metadata": {},
     "source": [
      "Note: copy-paste results names are wrong"
     ]
    },
    {
     "cell_type": "code",
     "collapsed": false,
     "input": [
      "print('\\nLogit')\n",
      "endog_bin = (endog > endog.mean()).astype(int)\n",
      "mod1 = smd.Logit(endog_bin, exog)\n",
      "\n",
      "res_logit_clu = mod1.fit()\n",
      "print(res_logit_clu.cov_type + ' - fit')\n",
      "print(res_logit_clu.bse)\n",
      "\n",
      "res_logit_clu2 = mod1.fit(cov_type='cluster', cov_kwds=dict(groups=group))\n",
      "print(res_logit_clu2.cov_type + ' - fit')\n",
      "print(res_logit_clu2.bse)\n",
      "print(np.sqrt(np.diag(res_logit_clu2.cov_params())))   "
     ],
     "language": "python",
     "metadata": {},
     "outputs": [
      {
       "output_type": "stream",
       "stream": "stdout",
       "text": [
        "\n",
        "Logit\n",
        "Optimization terminated successfully.\n",
        "         Current function value: 0.589409\n",
        "         Iterations 5\n",
        "nonrobust - fit\n",
        "yr_con      0.385787\n",
        "op_75_79    0.826742\n",
        "const       1.048827\n",
        "dtype: float64\n",
        "Optimization terminated successfully.\n",
        "         Current function value: 0.589409\n",
        "         Iterations 5\n",
        "cluster - fit\n",
        "yr_con      0.337142\n",
        "op_75_79    0.593020\n",
        "const       1.864865\n",
        "dtype: float64\n",
        "[ 0.33714199  0.59302014  1.86486478]\n"
       ]
      }
     ],
     "prompt_number": 25
    },
    {
     "cell_type": "heading",
     "level": 3,
     "metadata": {},
     "source": [
      "GEE Logit"
     ]
    },
    {
     "cell_type": "code",
     "collapsed": false,
     "input": [
      "fam = families.Binomial()\n",
      "ind = Independence()\n",
      "mod1 = GEE(endog_bin, exog, group, cov_struct=ind, family=fam)\n",
      "res_gee = mod1.fit() #start_params=res_glm_logit_clu.params)\n",
      "#print res_gee.summary()\n",
      "print(res_gee.bse)"
     ],
     "language": "python",
     "metadata": {},
     "outputs": [
      {
       "output_type": "stream",
       "stream": "stdout",
       "text": [
        "[ 0.2922683   0.51408901  1.61665079]\n"
       ]
      }
     ],
     "prompt_number": 26
    },
    {
     "cell_type": "markdown",
     "metadata": {},
     "source": [
      "compare"
     ]
    },
    {
     "cell_type": "code",
     "collapsed": false,
     "input": [
      "print(res_glm_logit_clu2.bse.values)\n",
      "print(np.sqrt(np.diag(res_gee.robust_covariance_bc))) \n"
     ],
     "language": "python",
     "metadata": {},
     "outputs": [
      {
       "output_type": "stream",
       "stream": "stdout",
       "text": [
        "[ 0.33714199  0.59302014  1.86486478]\n",
        "[ 0.37699761  0.62587787  2.0525678 ]\n"
       ]
      }
     ],
     "prompt_number": 27
    },
    {
     "cell_type": "heading",
     "level": 3,
     "metadata": {},
     "source": [
      "Comparison Logit"
     ]
    },
    {
     "cell_type": "code",
     "collapsed": false,
     "input": [
      "res_all = [res_logit_clu2, res_glm_logit_clu2, res_gee]\n",
      "res_names = ['Logit-cluster', 'GLM-cluster', 'GEE']\n",
      "\n",
      "#print pd.concat((res_glm_clu.params, res_gee.params), axis=1)\n",
      "print('Parameters')\n",
      "pd.DataFrame(np.round(np.column_stack([np.asarray(getattr(res, 'params')) for res in res_all]), 4), \n",
      "                 index=res_glm_logit_clu.params.index, columns=res_names)"
     ],
     "language": "python",
     "metadata": {},
     "outputs": [
      {
       "output_type": "stream",
       "stream": "stdout",
       "text": [
        "Parameters\n"
       ]
      },
      {
       "html": [
        "<div style=\"max-height:1000px;max-width:1500px;overflow:auto;\">\n",
        "<table border=\"1\" class=\"dataframe\">\n",
        "  <thead>\n",
        "    <tr style=\"text-align: right;\">\n",
        "      <th></th>\n",
        "      <th>Logit-cluster</th>\n",
        "      <th>GLM-cluster</th>\n",
        "      <th>GEE</th>\n",
        "    </tr>\n",
        "  </thead>\n",
        "  <tbody>\n",
        "    <tr>\n",
        "      <th>yr_con</th>\n",
        "      <td> 0.3394</td>\n",
        "      <td> 0.3394</td>\n",
        "      <td> 0.3394</td>\n",
        "    </tr>\n",
        "    <tr>\n",
        "      <th>op_75_79</th>\n",
        "      <td> 0.8832</td>\n",
        "      <td> 0.8832</td>\n",
        "      <td> 0.8832</td>\n",
        "    </tr>\n",
        "    <tr>\n",
        "      <th>const</th>\n",
        "      <td>-2.0881</td>\n",
        "      <td>-2.0881</td>\n",
        "      <td>-2.0881</td>\n",
        "    </tr>\n",
        "  </tbody>\n",
        "</table>\n",
        "</div>"
       ],
       "metadata": {},
       "output_type": "pyout",
       "prompt_number": 28,
       "text": [
        "          Logit-cluster  GLM-cluster     GEE\n",
        "yr_con           0.3394       0.3394  0.3394\n",
        "op_75_79         0.8832       0.8832  0.8832\n",
        "const           -2.0881      -2.0881 -2.0881"
       ]
      }
     ],
     "prompt_number": 28
    },
    {
     "cell_type": "code",
     "collapsed": false,
     "input": [
      "print('Standard Errors')\n",
      "pd.DataFrame(np.round(np.column_stack([np.asarray(getattr(res, 'bse')) for res in res_all]), 4), \n",
      "                 index=res_glm_logit_clu.params.index, columns=res_names)"
     ],
     "language": "python",
     "metadata": {},
     "outputs": [
      {
       "output_type": "stream",
       "stream": "stdout",
       "text": [
        "Standard Errors\n"
       ]
      },
      {
       "html": [
        "<div style=\"max-height:1000px;max-width:1500px;overflow:auto;\">\n",
        "<table border=\"1\" class=\"dataframe\">\n",
        "  <thead>\n",
        "    <tr style=\"text-align: right;\">\n",
        "      <th></th>\n",
        "      <th>Logit-cluster</th>\n",
        "      <th>GLM-cluster</th>\n",
        "      <th>GEE</th>\n",
        "    </tr>\n",
        "  </thead>\n",
        "  <tbody>\n",
        "    <tr>\n",
        "      <th>yr_con</th>\n",
        "      <td> 0.3371</td>\n",
        "      <td> 0.3371</td>\n",
        "      <td> 0.2923</td>\n",
        "    </tr>\n",
        "    <tr>\n",
        "      <th>op_75_79</th>\n",
        "      <td> 0.5930</td>\n",
        "      <td> 0.5930</td>\n",
        "      <td> 0.5141</td>\n",
        "    </tr>\n",
        "    <tr>\n",
        "      <th>const</th>\n",
        "      <td> 1.8649</td>\n",
        "      <td> 1.8649</td>\n",
        "      <td> 1.6167</td>\n",
        "    </tr>\n",
        "  </tbody>\n",
        "</table>\n",
        "</div>"
       ],
       "metadata": {},
       "output_type": "pyout",
       "prompt_number": 29,
       "text": [
        "          Logit-cluster  GLM-cluster     GEE\n",
        "yr_con           0.3371       0.3371  0.2923\n",
        "op_75_79         0.5930       0.5930  0.5141\n",
        "const            1.8649       1.8649  1.6167"
       ]
      }
     ],
     "prompt_number": 29
    },
    {
     "cell_type": "heading",
     "level": 2,
     "metadata": {},
     "source": [
      "Probit"
     ]
    },
    {
     "cell_type": "heading",
     "level": 3,
     "metadata": {},
     "source": [
      "Discrete Model Probit"
     ]
    },
    {
     "cell_type": "code",
     "collapsed": false,
     "input": [
      "print('\\nProbit')\n",
      "endog_bin = (endog > endog.mean()).astype(int)\n",
      "mod1 = smd.Probit(endog_bin, exog)\n",
      "\n",
      "res_probit_clu = mod1.fit()\n",
      "print(res_probit_clu.cov_type + ' - fit')\n",
      "print(res_probit_clu.bse)\n",
      "\n",
      "res_probit_clu2 = mod1.fit(cov_type='cluster', cov_kwds=dict(groups=group))\n",
      "print(res_probit_clu2.cov_type + ' - fit')\n",
      "print(res_probit_clu2.bse)\n",
      "print(np.sqrt(np.diag(res_probit_clu2.cov_params()))) \n",
      "\n",
      "res_probit_hac = mod1.fit(cov_type='HAC', cov_kwds=dict(maxlags=3))\n",
      "print(res_probit_hac.cov_type + ' - fit')\n",
      "print(res_probit_hac.bse)\n",
      "print(np.sqrt(np.diag(res_probit_hac.cov_params())))"
     ],
     "language": "python",
     "metadata": {},
     "outputs": [
      {
       "output_type": "stream",
       "stream": "stdout",
       "text": [
        "\n",
        "Probit\n",
        "Optimization terminated successfully.\n",
        "         Current function value: 0.589823\n",
        "         Iterations 5\n",
        "nonrobust - fit\n",
        "yr_con      0.232729\n",
        "op_75_79    0.490381\n",
        "const       0.604882\n",
        "dtype: float64\n",
        "Optimization terminated successfully.\n",
        "         Current function value: 0.589823\n",
        "         Iterations 5\n",
        "cluster - fit\n",
        "yr_con      0.192395\n",
        "op_75_79    0.307330\n",
        "const       1.041974\n",
        "dtype: float64\n",
        "[ 0.19239499  0.30732984  1.04197447]\n",
        "Optimization terminated successfully.\n",
        "         Current function value: 0.589823\n",
        "         Iterations 5\n",
        "HAC - fit\n",
        "yr_con      0.241707\n",
        "op_75_79    0.256575\n",
        "const       0.820305\n",
        "dtype: float64\n",
        "[ 0.24170689  0.25657473  0.82030549]\n"
       ]
      }
     ],
     "prompt_number": 30
    },
    {
     "cell_type": "heading",
     "level": 2,
     "metadata": {},
     "source": [
      "GLM Probit"
     ]
    },
    {
     "cell_type": "code",
     "collapsed": false,
     "input": [
      "#mod1 = GLM(endog_bin, exog, family=families.Binomial(links.CDFLink))\n",
      "mod1 = GLM(endog_bin, exog, family=families.Binomial(links.probit))\n",
      "\n",
      "res_glm_probit_clu = mod1.fit()\n",
      "print(res_glm_probit_clu.cov_type + ' - fit')\n",
      "print(res_glm_probit_clu.bse)\n",
      "print(np.sqrt(np.diag(res_glm_probit_clu.cov_params()))) "
     ],
     "language": "python",
     "metadata": {},
     "outputs": [
      {
       "output_type": "stream",
       "stream": "stdout",
       "text": [
        "nonrobust - fit\n",
        "yr_con      0.232456\n",
        "op_75_79    0.487844\n",
        "const       0.610261\n",
        "dtype: float64\n",
        "[ 0.23245625  0.4878443   0.61026116]\n"
       ]
      }
     ],
     "prompt_number": 31
    },
    {
     "cell_type": "code",
     "collapsed": false,
     "input": [
      "res_glm_probit_clu2 = mod1.fit(cov_type='cluster', cov_kwds=dict(groups=group))\n",
      "print(res_glm_probit_clu2.cov_type + ' - fit')\n",
      "print(res_glm_probit_clu2.bse)\n",
      "print(np.sqrt(np.diag(res_glm_probit_clu2.cov_params()))) "
     ],
     "language": "python",
     "metadata": {},
     "outputs": [
      {
       "output_type": "stream",
       "stream": "stdout",
       "text": [
        "cluster - fit\n",
        "yr_con      0.194533\n",
        "op_75_79    0.312240\n",
        "const       1.052924\n",
        "dtype: float64\n",
        "[ 0.19453294  0.31223975  1.05292424]\n"
       ]
      }
     ],
     "prompt_number": 32
    },
    {
     "cell_type": "code",
     "collapsed": false,
     "input": [
      "print('\\nprobit params')\n",
      "print(res_probit_clu.params)\n",
      "print(res_glm_probit_clu.params)\n",
      "print(res_probit_clu.bse)\n",
      "print(res_glm_probit_clu.bse)"
     ],
     "language": "python",
     "metadata": {},
     "outputs": [
      {
       "output_type": "stream",
       "stream": "stdout",
       "text": [
        "\n",
        "probit params\n",
        "yr_con      0.202947\n",
        "op_75_79    0.523378\n",
        "const      -1.253350\n",
        "dtype: float64\n",
        "yr_con      0.202947\n",
        "op_75_79    0.523378\n",
        "const      -1.253350\n",
        "dtype: float64\n",
        "yr_con      0.232729\n",
        "op_75_79    0.490381\n",
        "const       0.604882\n",
        "dtype: float64\n",
        "yr_con      0.232456\n",
        "op_75_79    0.487844\n",
        "const       0.610261\n",
        "dtype: float64\n"
       ]
      }
     ],
     "prompt_number": 33
    },
    {
     "cell_type": "code",
     "collapsed": false,
     "input": [
      "print pd.concat((res_probit_clu.params, res_glm_probit_clu.params), axis=1)\n",
      "print pd.concat((res_probit_clu.bse, res_glm_probit_clu.bse), axis=1)\n",
      "\n",
      "print pd.concat((res_probit_clu2.params, res_glm_probit_clu2.params), axis=1)\n",
      "print pd.concat((res_probit_clu2.bse, res_glm_probit_clu2.bse), axis=1)\n",
      "\n",
      "# TODO: use summary_col to compare estimators"
     ],
     "language": "python",
     "metadata": {},
     "outputs": [
      {
       "output_type": "stream",
       "stream": "stdout",
       "text": [
        "                 0         1\n",
        "yr_con    0.202947  0.202947\n",
        "op_75_79  0.523378  0.523378\n",
        "const    -1.253350 -1.253350\n",
        "                 0         1\n",
        "yr_con    0.232729  0.232456\n",
        "op_75_79  0.490381  0.487844\n",
        "const     0.604882  0.610261\n",
        "                 0         1\n",
        "yr_con    0.202947  0.202947\n",
        "op_75_79  0.523378  0.523378\n",
        "const    -1.253350 -1.253350\n",
        "                 0         1\n",
        "yr_con    0.192395  0.194533\n",
        "op_75_79  0.307330  0.312240\n",
        "const     1.041974  1.052924\n"
       ]
      }
     ],
     "prompt_number": 34
    },
    {
     "cell_type": "markdown",
     "metadata": {},
     "source": [
      "There is a difference in the numerical Hessian between GLM-Probit and discrete Probit, and consequently in the standard errors. Discrete Probit uses an analytical expression for the Hessian while GLM-Probit uses the generic GLM calculation where one part is based on finite difference calculations."
     ]
    },
    {
     "cell_type": "code",
     "collapsed": false,
     "input": [
      "#res_probit_clu = res_probit_clu._results  # not wrapped\n",
      "res_glm_probit_clu = res_glm_probit_clu._results\n",
      "sc_probit = res_probit_clu.model.jac(res_probit_clu.params)\n",
      "sc_glm_probit = res_glm_probit_clu.model.score_obs(res_probit_clu.params)\n",
      "print(np.max(np.abs(sc_probit - sc_glm_probit)))\n",
      "hess_glm_probit = res_glm_probit_clu.model.hessian(res_probit_clu.params)\n",
      "hess_probit = res_probit_clu.model.hessian(res_probit_clu.params)\n",
      "print(np.max(np.abs(hess_probit - hess_glm_probit)))\n",
      "print(hess_probit / hess_glm_probit)"
     ],
     "language": "python",
     "metadata": {},
     "outputs": [
      {
       "output_type": "stream",
       "stream": "stdout",
       "text": [
        "4.4408920985e-16\n",
        "0.0319808162998\n",
        "[[ 0.99975476  1.0007156   0.99958227]\n",
        " [ 1.0007156   0.99793767  0.99793767]\n",
        " [ 0.99958227  0.99793767  1.00047687]]\n"
       ]
      }
     ],
     "prompt_number": 35
    },
    {
     "cell_type": "heading",
     "level": 3,
     "metadata": {},
     "source": [
      "GEE Probit"
     ]
    },
    {
     "cell_type": "code",
     "collapsed": false,
     "input": [
      "fam = families.Binomial(links.probit)\n",
      "ind = Independence()\n",
      "mod1 = GEE(endog_bin, exog, group, cov_struct=ind, family=fam)\n",
      "res_gee = mod1.fit(start_params=res_glm_probit_clu.params)\n",
      "#print res_gee.summary()\n",
      "print(res_gee.bse)"
     ],
     "language": "python",
     "metadata": {},
     "outputs": [
      {
       "output_type": "stream",
       "stream": "stdout",
       "text": [
        "[ 0.16957238  0.27404432  0.91680928]\n"
       ]
      }
     ],
     "prompt_number": 36
    },
    {
     "cell_type": "heading",
     "level": 3,
     "metadata": {},
     "source": [
      "Comparison Probit"
     ]
    },
    {
     "cell_type": "markdown",
     "metadata": {},
     "source": [
      "compare"
     ]
    },
    {
     "cell_type": "code",
     "collapsed": false,
     "input": [
      "print(res_glm_probit_clu2.bse.values)\n",
      "print(np.sqrt(np.diag(res_gee.robust_covariance_bc)))"
     ],
     "language": "python",
     "metadata": {},
     "outputs": [
      {
       "output_type": "stream",
       "stream": "stdout",
       "text": [
        "[ 0.19453294  0.31223975  1.05292424]\n",
        "[ 0.21855456  0.33301099  1.16412386]\n"
       ]
      }
     ],
     "prompt_number": 37
    },
    {
     "cell_type": "code",
     "collapsed": false,
     "input": [
      "res_all = [res_probit_clu, res_glm_probit_clu, res_gee]\n",
      "res_names = ['Probit-cluster', 'GLM-cluster', 'GEE']\n",
      "\n",
      "#print pd.concat((res_glm_clu.params, res_gee.params), axis=1)\n",
      "print('Parameters')\n",
      "pd.DataFrame(np.round(np.column_stack([np.asarray(getattr(res, 'params')) for res in res_all]), 4), \n",
      "                 index=res_probit_clu.params.index, columns=res_names)"
     ],
     "language": "python",
     "metadata": {},
     "outputs": [
      {
       "output_type": "stream",
       "stream": "stdout",
       "text": [
        "Parameters\n"
       ]
      },
      {
       "html": [
        "<div style=\"max-height:1000px;max-width:1500px;overflow:auto;\">\n",
        "<table border=\"1\" class=\"dataframe\">\n",
        "  <thead>\n",
        "    <tr style=\"text-align: right;\">\n",
        "      <th></th>\n",
        "      <th>Probit-cluster</th>\n",
        "      <th>GLM-cluster</th>\n",
        "      <th>GEE</th>\n",
        "    </tr>\n",
        "  </thead>\n",
        "  <tbody>\n",
        "    <tr>\n",
        "      <th>yr_con</th>\n",
        "      <td> 0.2029</td>\n",
        "      <td> 0.2029</td>\n",
        "      <td> 0.2029</td>\n",
        "    </tr>\n",
        "    <tr>\n",
        "      <th>op_75_79</th>\n",
        "      <td> 0.5234</td>\n",
        "      <td> 0.5234</td>\n",
        "      <td> 0.5234</td>\n",
        "    </tr>\n",
        "    <tr>\n",
        "      <th>const</th>\n",
        "      <td>-1.2534</td>\n",
        "      <td>-1.2534</td>\n",
        "      <td>-1.2534</td>\n",
        "    </tr>\n",
        "  </tbody>\n",
        "</table>\n",
        "</div>"
       ],
       "metadata": {},
       "output_type": "pyout",
       "prompt_number": 38,
       "text": [
        "          Probit-cluster  GLM-cluster     GEE\n",
        "yr_con            0.2029       0.2029  0.2029\n",
        "op_75_79          0.5234       0.5234  0.5234\n",
        "const            -1.2534      -1.2534 -1.2534"
       ]
      }
     ],
     "prompt_number": 38
    },
    {
     "cell_type": "code",
     "collapsed": false,
     "input": [
      "print('Standard Errors')\n",
      "pd.DataFrame(np.round(np.column_stack([np.asarray(getattr(res, 'bse')) for res in res_all]), 4), \n",
      "                 index=res_probit_clu.params.index, columns=res_names)"
     ],
     "language": "python",
     "metadata": {},
     "outputs": [
      {
       "output_type": "stream",
       "stream": "stdout",
       "text": [
        "Standard Errors\n"
       ]
      },
      {
       "html": [
        "<div style=\"max-height:1000px;max-width:1500px;overflow:auto;\">\n",
        "<table border=\"1\" class=\"dataframe\">\n",
        "  <thead>\n",
        "    <tr style=\"text-align: right;\">\n",
        "      <th></th>\n",
        "      <th>Probit-cluster</th>\n",
        "      <th>GLM-cluster</th>\n",
        "      <th>GEE</th>\n",
        "    </tr>\n",
        "  </thead>\n",
        "  <tbody>\n",
        "    <tr>\n",
        "      <th>yr_con</th>\n",
        "      <td> 0.2327</td>\n",
        "      <td> 0.2325</td>\n",
        "      <td> 0.1696</td>\n",
        "    </tr>\n",
        "    <tr>\n",
        "      <th>op_75_79</th>\n",
        "      <td> 0.4904</td>\n",
        "      <td> 0.4878</td>\n",
        "      <td> 0.2740</td>\n",
        "    </tr>\n",
        "    <tr>\n",
        "      <th>const</th>\n",
        "      <td> 0.6049</td>\n",
        "      <td> 0.6103</td>\n",
        "      <td> 0.9168</td>\n",
        "    </tr>\n",
        "  </tbody>\n",
        "</table>\n",
        "</div>"
       ],
       "metadata": {},
       "output_type": "pyout",
       "prompt_number": 39,
       "text": [
        "          Probit-cluster  GLM-cluster     GEE\n",
        "yr_con            0.2327       0.2325  0.1696\n",
        "op_75_79          0.4904       0.4878  0.2740\n",
        "const             0.6049       0.6103  0.9168"
       ]
      }
     ],
     "prompt_number": 39
    },
    {
     "cell_type": "code",
     "collapsed": false,
     "input": [],
     "language": "python",
     "metadata": {},
     "outputs": [],
     "prompt_number": 39
    },
    {
     "cell_type": "code",
     "collapsed": false,
     "input": [],
     "language": "python",
     "metadata": {},
     "outputs": [],
     "prompt_number": 39
    }
   ],
   "metadata": {}
  }
 ]
}