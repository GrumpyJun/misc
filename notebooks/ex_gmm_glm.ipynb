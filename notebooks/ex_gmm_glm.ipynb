{
 "metadata": {
  "name": "",
  "signature": "sha256:6b71041c98ca379f22247310c703eeb66dc113589d202bf39f3b4d7e66ef2163"
 },
 "nbformat": 3,
 "nbformat_minor": 0,
 "worksheets": [
  {
   "cells": [
    {
     "cell_type": "heading",
     "level": 1,
     "metadata": {},
     "source": [
      "GLM as a GMM Model"
     ]
    },
    {
     "cell_type": "markdown",
     "metadata": {},
     "source": [
      "The purpose of this notebook is to replicate generalized linear models, or generalized estimating equations with a independence correlation structure, as a Generalized Methods of Moments model.\n",
      "\n",
      "The second part compares a score test for variable addition with a test of overidentifying restriction which should eventually provide a generic framework of conditional moment tests. \n",
      "\n",
      "**Status**: We can replicate GLM by GMM, but the rest is experimental"
     ]
    },
    {
     "cell_type": "code",
     "collapsed": false,
     "input": [
      "from __future__ import division\n",
      "import numpy as np\n",
      "from statsmodels.sandbox.regression.gmm import GMM"
     ],
     "language": "python",
     "metadata": {},
     "outputs": [],
     "prompt_number": 29
    },
    {
     "cell_type": "code",
     "collapsed": false,
     "input": [
      "class GMMGLM(GMM):\n",
      "\n",
      "    def __init__(self, endog, exog, instrument=None, glm_model=None):\n",
      "        if instrument is None:\n",
      "            instrument = exog\n",
      "        super(GMMGLM, self).__init__(endog, exog, instrument)\n",
      "        self.glm_model = glm_model\n",
      "        \n",
      "    def momcond(self, params):\n",
      "        mom1 = self.glm_model.score_factor(params)[:, None] * self.instrument\n",
      "        return mom1"
     ],
     "language": "python",
     "metadata": {},
     "outputs": [],
     "prompt_number": 30
    },
    {
     "cell_type": "markdown",
     "metadata": {},
     "source": [
      "Set up a Logit model for reference. We use an example from the statsmodels documentation."
     ]
    },
    {
     "cell_type": "code",
     "collapsed": false,
     "input": [
      "import statsmodels.api as sm"
     ],
     "language": "python",
     "metadata": {},
     "outputs": []
    },
    {
     "cell_type": "code",
     "collapsed": false,
     "input": [
      "# stardata is binomial count we 2d endog, Doesn't work yet.\n",
      "\n",
      "data = sm.datasets.star98.load()\n",
      "data_exog = sm.add_constant(data.exog, prepend=True)[:, :8]"
     ],
     "language": "python",
     "metadata": {},
     "outputs": []
    },
    {
     "cell_type": "code",
     "collapsed": false,
     "input": [
      "dta = sm.datasets.fair.load_pandas().data\n",
      "dta['affair'] = (dta['affairs'] > 0).astype(float)\n",
      "\n",
      "affair_mod = sm.formula.logit(\"affair ~ occupation + educ + occupation_husb\" \n",
      "                   \"+ rate_marriage + age + yrs_married + children\"\n",
      "                   \" + religious\", dta).fit()\n",
      "\n",
      "# leave formulas and pandas for later\n",
      "data_endog = affair_mod.model.endog\n",
      "data_exog = affair_mod.model.exog\n",
      "\n",
      "glm_binom = sm.GLM(data_endog, data_exog, family=sm.families.Binomial())\n",
      "res = glm_binom.fit()\n",
      "print(res.summary())"
     ],
     "language": "python",
     "metadata": {},
     "outputs": [
      {
       "output_type": "stream",
       "stream": "stdout",
       "text": [
        "Optimization terminated successfully.\n",
        "         Current function value: 0.545314\n",
        "         Iterations 6\n",
        "                 Generalized Linear Model Regression Results                  \n",
        "==============================================================================\n",
        "Dep. Variable:                      y   No. Observations:                 6366\n",
        "Model:                            GLM   Df Residuals:                     6357\n",
        "Model Family:                Binomial   Df Model:                            8\n",
        "Link Function:                  logit   Scale:                             1.0\n",
        "Method:                          IRLS   Log-Likelihood:                -3471.5\n",
        "Date:                Fri, 02 Oct 2015   Deviance:                       6942.9\n",
        "Time:                        22:09:49   Pearson chi2:                 6.30e+03\n",
        "No. Iterations:                     6                                         \n",
        "==============================================================================\n",
        "                 coef    std err          z      P>|z|      [0.025      0.975]\n",
        "------------------------------------------------------------------------------\n",
        "const          3.7257      0.299     12.470      0.000       3.140       4.311\n",
        "x1             0.1602      0.034      4.717      0.000       0.094       0.227\n",
        "x2            -0.0392      0.015     -2.533      0.011      -0.070      -0.009\n",
        "x3             0.0124      0.023      0.541      0.589      -0.033       0.057\n",
        "x4            -0.7161      0.031    -22.784      0.000      -0.778      -0.655\n",
        "x5            -0.0605      0.010     -5.885      0.000      -0.081      -0.040\n",
        "x6             0.1100      0.011     10.054      0.000       0.089       0.131\n",
        "x7            -0.0042      0.032     -0.134      0.893      -0.066       0.058\n",
        "x8            -0.3752      0.035    -10.792      0.000      -0.443      -0.307\n",
        "==============================================================================\n"
       ]
      }
     ],
     "prompt_number": 80
    },
    {
     "cell_type": "code",
     "collapsed": false,
     "input": [
      "res_binom_hc0 = glm_binom.fit(cov_type='HC0')\n",
      "print(res_binom_hc0.bse)"
     ],
     "language": "python",
     "metadata": {},
     "outputs": [
      {
       "output_type": "stream",
       "stream": "stdout",
       "text": [
        "[ 0.29756134  0.03449398  0.01557106  0.02322051  0.03223825  0.01035988\n",
        "  0.01096011  0.03237676  0.03444219]\n"
       ]
      }
     ],
     "prompt_number": 49
    },
    {
     "cell_type": "code",
     "collapsed": false,
     "input": [
      "mod = GMMGLM(data_endog, data_exog, glm_model=glm_binom)\n",
      "res_gmm = mod.fit(res.params*0.5, maxiter=1)#, optim_method='nm')"
     ],
     "language": "python",
     "metadata": {},
     "outputs": [
      {
       "output_type": "stream",
       "stream": "stdout",
       "text": [
        "Optimization terminated successfully.\n",
        "         Current function value: 0.000000\n",
        "         Iterations: 67\n",
        "         Function evaluations: 83\n",
        "         Gradient evaluations: 83\n"
       ]
      }
     ],
     "prompt_number": 60
    },
    {
     "cell_type": "code",
     "collapsed": false,
     "input": [
      "print(res_gmm.params)\n"
     ],
     "language": "python",
     "metadata": {},
     "outputs": [
      {
       "output_type": "stream",
       "stream": "stdout",
       "text": [
        "[ 3.72566133  0.16023399 -0.03921794  0.01240123 -0.71610457 -0.06048658\n",
        "  0.11001699 -0.00423259 -0.37515608]\n"
       ]
      }
     ],
     "prompt_number": 61
    },
    {
     "cell_type": "code",
     "collapsed": false,
     "input": [
      "print(res_gmm.summary())"
     ],
     "language": "python",
     "metadata": {},
     "outputs": [
      {
       "output_type": "stream",
       "stream": "stdout",
       "text": [
        "                                GMMGLM Results                                \n",
        "==============================================================================\n",
        "Dep. Variable:                      y   Hansen J:                    7.169e-11\n",
        "Model:                         GMMGLM   Prob (Hansen J):                   nan\n",
        "Method:                           GMM                                         \n",
        "Date:                Fri, 02 Oct 2015                                         \n",
        "Time:                        21:36:51                                         \n",
        "No. Observations:                6366                                         \n",
        "==============================================================================\n",
        "                 coef    std err          z      P>|z|      [0.025      0.975]\n",
        "------------------------------------------------------------------------------\n",
        "const          3.7257      0.298     12.521      0.000       3.142       4.309\n",
        "x1             0.1602      0.034      4.645      0.000       0.093       0.228\n",
        "x2            -0.0392      0.016     -2.519      0.012      -0.070      -0.009\n",
        "x3             0.0124      0.023      0.534      0.593      -0.033       0.058\n",
        "x4            -0.7161      0.032    -22.213      0.000      -0.779      -0.653\n",
        "x5            -0.0605      0.010     -5.839      0.000      -0.081      -0.040\n",
        "x6             0.1100      0.011     10.038      0.000       0.089       0.131\n",
        "x7            -0.0042      0.032     -0.131      0.896      -0.068       0.059\n",
        "x8            -0.3752      0.034    -10.892      0.000      -0.443      -0.308\n",
        "==============================================================================\n"
       ]
      }
     ],
     "prompt_number": 62
    },
    {
     "cell_type": "code",
     "collapsed": false,
     "input": [
      "mod.momcond(res.params).mean(0)"
     ],
     "language": "python",
     "metadata": {},
     "outputs": [
      {
       "metadata": {},
       "output_type": "pyout",
       "prompt_number": 63,
       "text": [
        "array([ -2.48575029e-15,  -6.33966820e-15,  -2.96547790e-14,\n",
        "        -1.16476801e-14,  -1.07515491e-14,  -7.86880597e-14,\n",
        "        -2.72113640e-14,  -4.37912439e-15,  -4.54604588e-15])"
       ]
      }
     ],
     "prompt_number": 63
    },
    {
     "cell_type": "code",
     "collapsed": false,
     "input": [
      "res.model.score(res.params)"
     ],
     "language": "python",
     "metadata": {},
     "outputs": [
      {
       "metadata": {},
       "output_type": "pyout",
       "prompt_number": 64,
       "text": [
        "array([ -1.58242863e-11,  -4.03583278e-11,  -1.88782323e-10,\n",
        "        -7.41491313e-11,  -6.84443613e-11,  -5.00928188e-10,\n",
        "        -1.73227543e-10,  -2.78775059e-11,  -2.89401281e-11])"
       ]
      }
     ],
     "prompt_number": 64
    },
    {
     "cell_type": "markdown",
     "metadata": {},
     "source": [
      "GMM produces the same result as GLM-Logit with robust standard errors"
     ]
    },
    {
     "cell_type": "code",
     "collapsed": false,
     "input": [
      "res_gmm.bse / res_binom_hc0.bse - 1"
     ],
     "language": "python",
     "metadata": {},
     "outputs": []
    },
    {
     "cell_type": "code",
     "collapsed": false,
     "input": [
      "res_gmm.bse - res_binom_hc0.bse"
     ],
     "language": "python",
     "metadata": {},
     "outputs": [
      {
       "metadata": {},
       "output_type": "pyout",
       "prompt_number": 67,
       "text": [
        "array([ -1.12557086e-06,  -3.39554191e-08,  -2.53929408e-08,\n",
        "        -2.10870701e-08,  -6.18484530e-08,  -2.12759985e-08,\n",
        "        -3.32750719e-08,  -3.88941921e-08,  -3.76187979e-08])"
       ]
      }
     ],
     "prompt_number": 67
    },
    {
     "cell_type": "code",
     "collapsed": false,
     "input": [],
     "language": "python",
     "metadata": {},
     "outputs": []
    },
    {
     "cell_type": "heading",
     "level": 2,
     "metadata": {},
     "source": [
      "Application: score test for added variable"
     ]
    },
    {
     "cell_type": "markdown",
     "metadata": {},
     "source": [
      "This is experimental and might not work yet.\n",
      "\n",
      "The third variable `educ` has a p-value of 0.012 in the wald t_test based on the asymptotic normal distribution using the heteroscedasticity robust standard errors. Since wald test are in many cases liberal, we can compare this with a score test which has in many cases more accurate p-values. For simplicity we just want to test the null hypothesis that the effect of education is zero.\n",
      "\n",
      "In the following we drop the variable from the estimated model and calculate score and conditional moment tests. In the GMM version we estimate the reduced model with `educ` as additional instrument, and look at the test for overidentifying restrictions.\n",
      "\n",
      "The following will be easier to do with formulas and pandas DataFrames, but I want to minimize possible sources of errors, and I'm more comfortable with numpy."
     ]
    },
    {
     "cell_type": "code",
     "collapsed": false,
     "input": [
      "affair_mod.model.data.xnames"
     ],
     "language": "python",
     "metadata": {},
     "outputs": [
      {
       "metadata": {},
       "output_type": "pyout",
       "prompt_number": 70,
       "text": [
        "['Intercept',\n",
        " 'occupation',\n",
        " 'educ',\n",
        " 'occupation_husb',\n",
        " 'rate_marriage',\n",
        " 'age',\n",
        " 'yrs_married',\n",
        " 'children',\n",
        " 'religious']"
       ]
      }
     ],
     "prompt_number": 70
    },
    {
     "cell_type": "code",
     "collapsed": false,
     "input": [
      "idx = list(range(len(res.params)))\n",
      "del idx[2]\n",
      "print(res.params[idx])  # check that we don't have -0.0392 at index 2 anymore"
     ],
     "language": "python",
     "metadata": {},
     "outputs": [
      {
       "output_type": "stream",
       "stream": "stdout",
       "text": [
        "[ 3.72571987  0.16023383  0.01240082 -0.71610711 -0.06048768  0.11001794\n",
        " -0.00423323 -0.37515765]\n"
       ]
      }
     ],
     "prompt_number": 73
    },
    {
     "cell_type": "code",
     "collapsed": false,
     "input": [
      "exog_reduced = data_exog[:, idx]   # exog without educ"
     ],
     "language": "python",
     "metadata": {},
     "outputs": [],
     "prompt_number": 75
    },
    {
     "cell_type": "code",
     "collapsed": false,
     "input": [
      "glm_binom2 = sm.GLM(data_endog, exog_reduced, family=sm.families.Binomial())\n",
      "res2 = glm_binom2.fit()"
     ],
     "language": "python",
     "metadata": {},
     "outputs": [],
     "prompt_number": 84
    },
    {
     "cell_type": "code",
     "collapsed": false,
     "input": [
      "res2.model.score_test(res2.params, exog_extra = data_exog[:, 2])"
     ],
     "language": "python",
     "metadata": {},
     "outputs": [
      {
       "metadata": {},
       "output_type": "pyout",
       "prompt_number": 85,
       "text": [
        "(array([ 6.42724105]), array([ 0.0112383]), 1)"
       ]
      }
     ],
     "prompt_number": 85
    },
    {
     "cell_type": "markdown",
     "metadata": {},
     "source": [
      "The pvalue of the score test, 0.01123, is close to the pvalue of the robust wald test and almost identical to the pvalue of the nonrobust wald test."
     ]
    },
    {
     "cell_type": "code",
     "collapsed": false,
     "input": [
      "res.pvalues[2]"
     ],
     "language": "python",
     "metadata": {},
     "outputs": [
      {
       "metadata": {},
       "output_type": "pyout",
       "prompt_number": 86,
       "text": [
        "0.01129370516727681"
       ]
      }
     ],
     "prompt_number": 86
    },
    {
     "cell_type": "markdown",
     "metadata": {},
     "source": [
      "Next we try the test for overidentifying restriction in GMM"
     ]
    },
    {
     "cell_type": "code",
     "collapsed": false,
     "input": [
      "mod_red = GMMGLM(data_endog, exog_reduced, data_exog, glm_model=glm_binom2)\n",
      "res_gmm_red = mod_red.fit(res2.params*0.5, maxiter=1)\n",
      "print(res_gmm_red.summary())"
     ],
     "language": "python",
     "metadata": {},
     "outputs": [
      {
       "output_type": "stream",
       "stream": "stdout",
       "text": [
        "Optimization terminated successfully.\n",
        "         Current function value: 0.000012\n",
        "         Iterations: 93\n",
        "         Function evaluations: 113\n",
        "         Gradient evaluations: 113\n",
        "                                GMMGLM Results                                \n",
        "==============================================================================\n",
        "Dep. Variable:                      y   Hansen J:                      0.07338\n",
        "Model:                         GMMGLM   Prob (Hansen J):                 0.786\n",
        "Method:                           GMM                                         \n",
        "Date:                Fri, 02 Oct 2015                                         \n",
        "Time:                        22:17:25                                         \n",
        "No. Observations:                6366                                         \n",
        "==============================================================================\n",
        "                 coef    std err          z      P>|z|      [0.025      0.975]\n",
        "------------------------------------------------------------------------------\n",
        "const          1.9039      0.255      7.460      0.000       1.404       2.404\n",
        "x1             0.1672      0.032      5.270      0.000       0.105       0.229\n",
        "x2             0.0256      0.023      1.133      0.257      -0.019       0.070\n",
        "x3            -0.6397      0.031    -20.788      0.000      -0.700      -0.579\n",
        "x4            -0.0260      0.009     -2.748      0.006      -0.044      -0.007\n",
        "x5             0.0811      0.010      8.045      0.000       0.061       0.101\n",
        "x6             0.0146      0.031      0.465      0.642      -0.047       0.076\n",
        "x7            -0.3311      0.034     -9.859      0.000      -0.397      -0.265\n",
        "==============================================================================\n"
       ]
      }
     ],
     "prompt_number": 88
    },
    {
     "cell_type": "code",
     "collapsed": false,
     "input": [
      "res_gmm_red.jtest()"
     ],
     "language": "python",
     "metadata": {},
     "outputs": [
      {
       "metadata": {},
       "output_type": "pyout",
       "prompt_number": 89,
       "text": [
        "(0.073381567745762516, 0.78647538706118691, 1)"
       ]
      }
     ],
     "prompt_number": 89
    },
    {
     "cell_type": "markdown",
     "metadata": {},
     "source": [
      "The overidentifying restrictions are not rejected. \n",
      "Note: This is a bit of a weird test in this case. We have the reduced model in the prediction, but the extra variable as an instrument. \n",
      "    I'm not sure what we are actually testing, besides some general orthogonality condition.\n",
      "    \n",
      "What we would like to do right now is to use the restricted parameters, so we can calculate the moment conditions in the constrained model. I don't see yet where this is supported or how to support it. \n",
      "\n",
      "The following are just some additional checks with respect to changes in the number of GMM iterations. The above uses the identity weight matrix which is irrelevant in the exactly identified case that we had before. Now, we are in the overidentified case and need to adjust the weight matrix. As it turns out below, using two or more GMM iterations reduces the p-value for the j-test to 0.011 which is almost exactly the same as the non-robust Wald and the score test. (I need to think.)"
     ]
    },
    {
     "cell_type": "code",
     "collapsed": false,
     "input": [
      "res2.params"
     ],
     "language": "python",
     "metadata": {},
     "outputs": [
      {
       "metadata": {},
       "output_type": "pyout",
       "prompt_number": 90,
       "text": [
        "array([  3.42523458e+00,   1.31822707e-01,   5.06765091e-03,\n",
        "        -7.18774739e-01,  -6.64916925e-02,   1.15877472e-01,\n",
        "         7.73938325e-04,  -3.76889869e-01])"
       ]
      }
     ],
     "prompt_number": 90
    },
    {
     "cell_type": "code",
     "collapsed": false,
     "input": [
      "res_gmm_red0 = mod_red.fit(res2.params*0.5, maxiter=0)\n",
      "res_gmm_red2 = mod_red.fit(res2.params*0.5, maxiter=2)\n",
      "print(res_gmm_red0.params)\n",
      "print(res_gmm_red2.params)"
     ],
     "language": "python",
     "metadata": {},
     "outputs": [
      {
       "output_type": "stream",
       "stream": "stdout",
       "text": [
        "Optimization terminated successfully.\n",
        "         Current function value: 0.000012\n",
        "         Iterations: 93\n",
        "         Function evaluations: 113\n",
        "         Gradient evaluations: 113\n",
        "Optimization terminated successfully."
       ]
      },
      {
       "output_type": "stream",
       "stream": "stdout",
       "text": [
        "\n",
        "         Current function value: 0.000012\n",
        "         Iterations: 93\n",
        "         Function evaluations: 113\n",
        "         Gradient evaluations: 113\n",
        "Optimization terminated successfully."
       ]
      },
      {
       "output_type": "stream",
       "stream": "stdout",
       "text": [
        "\n",
        "         Current function value: 0.001004\n",
        "         Iterations: 22\n",
        "         Function evaluations: 25\n",
        "         Gradient evaluations: 25\n",
        "[ 1.90392843  0.16723188  0.02556783 -0.63974794 -0.02597373  0.08106879\n",
        "  0.01457806 -0.33111524]\n",
        "[  3.45054937e+00   1.30305938e-01   4.82099713e-03  -7.20765741e-01\n",
        "  -6.70891066e-02   1.16593705e-01   1.87696971e-03  -3.78327300e-01]\n"
       ]
      }
     ],
     "prompt_number": 91
    },
    {
     "cell_type": "code",
     "collapsed": false,
     "input": [
      "res2.params*0.5  # check how much params moved with maxiter=0"
     ],
     "language": "python",
     "metadata": {},
     "outputs": [
      {
       "metadata": {},
       "output_type": "pyout",
       "prompt_number": 94,
       "text": [
        "array([  1.71261729e+00,   6.59113534e-02,   2.53382545e-03,\n",
        "        -3.59387370e-01,  -3.32458462e-02,   5.79387358e-02,\n",
        "         3.86969163e-04,  -1.88444934e-01])"
       ]
      }
     ],
     "prompt_number": 94
    },
    {
     "cell_type": "code",
     "collapsed": false,
     "input": [
      "res_gmm_red2.jtest()"
     ],
     "language": "python",
     "metadata": {},
     "outputs": [
      {
       "metadata": {},
       "output_type": "pyout",
       "prompt_number": 95,
       "text": [
        "(6.3917262195208489, 0.011465347883424048, 1)"
       ]
      }
     ],
     "prompt_number": 95
    },
    {
     "cell_type": "code",
     "collapsed": false,
     "input": [],
     "language": "python",
     "metadata": {},
     "outputs": []
    },
    {
     "cell_type": "code",
     "collapsed": false,
     "input": [
      "res_gmm_red10 = mod_red.fit(res2.params*0.5, maxiter=10, optim_args=dict(disp=0)) # turn of the display of iteration results\n",
      "res_gmm_red10.jtest()"
     ],
     "language": "python",
     "metadata": {},
     "outputs": [
      {
       "metadata": {},
       "output_type": "pyout",
       "prompt_number": 98,
       "text": [
        "(6.4141956667727804, 0.011321159627002643, 1)"
       ]
      }
     ],
     "prompt_number": 98
    },
    {
     "cell_type": "code",
     "collapsed": false,
     "input": [
      "res_gmm_red10.params"
     ],
     "language": "python",
     "metadata": {},
     "outputs": [
      {
       "metadata": {},
       "output_type": "pyout",
       "prompt_number": 99,
       "text": [
        "array([  3.45062431e+00,   1.30390828e-01,   4.65270807e-03,\n",
        "        -7.20710409e-01,  -6.71229305e-02,   1.16670805e-01,\n",
        "         1.88483098e-03,  -3.78264590e-01])"
       ]
      }
     ],
     "prompt_number": 99
    },
    {
     "cell_type": "code",
     "collapsed": false,
     "input": [
      "res2.params"
     ],
     "language": "python",
     "metadata": {},
     "outputs": [
      {
       "metadata": {},
       "output_type": "pyout",
       "prompt_number": 100,
       "text": [
        "array([  3.42523458e+00,   1.31822707e-01,   5.06765091e-03,\n",
        "        -7.18774739e-01,  -6.64916925e-02,   1.15877472e-01,\n",
        "         7.73938325e-04,  -3.76889869e-01])"
       ]
      }
     ],
     "prompt_number": 100
    },
    {
     "cell_type": "markdown",
     "metadata": {},
     "source": [
      "This looks like the expected results after all. After 10 GMM iterations the parameter estimates get close to the constrained GLM estimates.\n",
      "\n",
      "We are getting closer but this still solves a different problem since we don't keep the parameters fixed at the constrained solution.\n",
      "\n",
      "More to come: In another branch I have generic standalone conditional moment tests, that are similar to the GMM setup but use fixed parameters estimated in the constrained model."
     ]
    },
    {
     "cell_type": "markdown",
     "metadata": {},
     "source": [
      "Using another option, we can get the constrained parameter estimate by assigning zero weight to the extra restriction. The parameter estimates are close to the constrained GLM estimates. \n",
      "But I never tried this before and I'm not sure whether the weights are inverse weights in this example. Also, since the estimation is not based on the efficient weights matrix, the jtest does not apply, even though the result is still available."
     ]
    },
    {
     "cell_type": "code",
     "collapsed": false,
     "input": [
      "inv_weights = np.eye(9)\n",
      "inv_weights[2,2] = 0\n",
      "res_gmm_red1w = mod_red.fit(res2.params*0.5, maxiter=1, inv_weights=inv_weights, optim_args=dict(disp=0), has_optimal_weights=False)\n",
      "print(res_gmm_red1w.params)\n",
      "print(res_gmm_red1w.jtest())"
     ],
     "language": "python",
     "metadata": {},
     "outputs": [
      {
       "output_type": "stream",
       "stream": "stdout",
       "text": [
        "[  3.42521502e+00   1.31823174e-01   5.06794151e-03  -7.18773753e-01\n",
        "  -6.64911831e-02   1.15877026e-01   7.74106909e-04  -3.76889129e-01]\n",
        "(1.4495974698075029e-11, 0.99999696216785972, 1)\n"
       ]
      }
     ],
     "prompt_number": 108
    },
    {
     "cell_type": "markdown",
     "metadata": {},
     "source": [
      "**Conclusion** so far is that I don't know yet how to get the equivalent of an score test for a constrained model with GMM"
     ]
    }
   ],
   "metadata": {}
  }
 ]
}