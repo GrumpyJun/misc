{
 "metadata": {
  "name": "",
  "signature": "sha256:1f953ed604421b715245dfa5e5d3b14ba940b522baacb7f86f6b22d8bb9ae24d"
 },
 "nbformat": 3,
 "nbformat_minor": 0,
 "worksheets": [
  {
   "cells": [
    {
     "cell_type": "heading",
     "level": 1,
     "metadata": {},
     "source": [
      "Contingency Tables and Log-linear Models"
     ]
    },
    {
     "cell_type": "markdown",
     "metadata": {},
     "source": [
      "Examples for PR `#2418`"
     ]
    },
    {
     "cell_type": "markdown",
     "metadata": {},
     "source": [
      "Status:  Initial draft just to try out some examples for contingency tables and log-linear models. It is used to evaluate agreement and differences to SAS and R. For example SAS CATMOD uses Wald tests, SAS GENMOD uses LR tests. Currently, we don't have any automatic support for LR tests in GLM (and other models outside the linear regression models).\n",
      "\n",
      "Spotchecking some of the results show good agreement with R or SAS, but this notebook is not organized yet."
     ]
    },
    {
     "cell_type": "code",
     "collapsed": false,
     "input": [
      "import numpy as np\n",
      "import pandas as pd\n",
      "from statsmodels import datasets\n",
      "import statsmodels.stats.api as smstats\n",
      "import statsmodels.stats.contingency_tables as ctab\n",
      "\n",
      "from numpy.testing import assert_allclose"
     ],
     "language": "python",
     "metadata": {},
     "outputs": [],
     "prompt_number": 1
    },
    {
     "cell_type": "heading",
     "level": 2,
     "metadata": {},
     "source": [
      "Example 1: 2 x k table"
     ]
    },
    {
     "cell_type": "code",
     "collapsed": false,
     "input": [
      "df = datasets.get_rdataset(\"Arthritis\", \"vcd\").data\n",
      "tab = pd.crosstab(df['Treatment'], df['Improved'])\n",
      "table = smstats.Table(tab)"
     ],
     "language": "python",
     "metadata": {},
     "outputs": [],
     "prompt_number": 2
    },
    {
     "cell_type": "code",
     "collapsed": false,
     "input": [],
     "language": "python",
     "metadata": {},
     "outputs": [],
     "prompt_number": 2
    },
    {
     "cell_type": "code",
     "collapsed": false,
     "input": [
      "table"
     ],
     "language": "python",
     "metadata": {},
     "outputs": [
      {
       "metadata": {},
       "output_type": "pyout",
       "prompt_number": 3,
       "text": [
        "<statsmodels.stats.contingency_tables.Table at 0x9a487f0>"
       ]
      }
     ],
     "prompt_number": 3
    },
    {
     "cell_type": "code",
     "collapsed": false,
     "input": [
      "#print(table.summary())"
     ],
     "language": "python",
     "metadata": {},
     "outputs": [],
     "prompt_number": 4
    },
    {
     "cell_type": "code",
     "collapsed": false,
     "input": [
      "table.table"
     ],
     "language": "python",
     "metadata": {},
     "outputs": [
      {
       "metadata": {},
       "output_type": "pyout",
       "prompt_number": 5,
       "text": [
        "array([[  7.,  29.,   7.],\n",
        "       [ 21.,  13.,   7.]])"
       ]
      }
     ],
     "prompt_number": 5
    },
    {
     "cell_type": "code",
     "collapsed": false,
     "input": [
      "vars(table.nominal_association)"
     ],
     "language": "python",
     "metadata": {},
     "outputs": [
      {
       "metadata": {},
       "output_type": "pyout",
       "prompt_number": 6,
       "text": [
        "{'df': 2, 'statistic': 13.055019852524108, 'pvalue': 0.0014626434089526352}"
       ]
      }
     ],
     "prompt_number": 6
    },
    {
     "cell_type": "code",
     "collapsed": false,
     "input": [
      "table.pearson_resids\n"
     ],
     "language": "python",
     "metadata": {},
     "outputs": [
      {
       "html": [
        "<div style=\"max-height:1000px;max-width:1500px;overflow:auto;\">\n",
        "<table border=\"1\" class=\"dataframe\">\n",
        "  <thead>\n",
        "    <tr style=\"text-align: right;\">\n",
        "      <th>Improved</th>\n",
        "      <th>Marked</th>\n",
        "      <th>None</th>\n",
        "      <th>Some</th>\n",
        "    </tr>\n",
        "    <tr>\n",
        "      <th>Treatment</th>\n",
        "      <th></th>\n",
        "      <th></th>\n",
        "      <th></th>\n",
        "    </tr>\n",
        "  </thead>\n",
        "  <tbody>\n",
        "    <tr>\n",
        "      <th>Placebo</th>\n",
        "      <td>-1.936992</td>\n",
        "      <td> 1.617492</td>\n",
        "      <td>-0.062257</td>\n",
        "    </tr>\n",
        "    <tr>\n",
        "      <th>Treated</th>\n",
        "      <td> 1.983673</td>\n",
        "      <td>-1.656473</td>\n",
        "      <td> 0.063758</td>\n",
        "    </tr>\n",
        "  </tbody>\n",
        "</table>\n",
        "</div>"
       ],
       "metadata": {},
       "output_type": "pyout",
       "prompt_number": 7,
       "text": [
        "Improved     Marked      None      Some\n",
        "Treatment                              \n",
        "Placebo   -1.936992  1.617492 -0.062257\n",
        "Treated    1.983673 -1.656473  0.063758"
       ]
      }
     ],
     "prompt_number": 7
    },
    {
     "cell_type": "code",
     "collapsed": false,
     "input": [
      "table.fittedvalues"
     ],
     "language": "python",
     "metadata": {},
     "outputs": [
      {
       "html": [
        "<div style=\"max-height:1000px;max-width:1500px;overflow:auto;\">\n",
        "<table border=\"1\" class=\"dataframe\">\n",
        "  <thead>\n",
        "    <tr style=\"text-align: right;\">\n",
        "      <th>Improved</th>\n",
        "      <th>Marked</th>\n",
        "      <th>None</th>\n",
        "      <th>Some</th>\n",
        "    </tr>\n",
        "    <tr>\n",
        "      <th>Treatment</th>\n",
        "      <th></th>\n",
        "      <th></th>\n",
        "      <th></th>\n",
        "    </tr>\n",
        "  </thead>\n",
        "  <tbody>\n",
        "    <tr>\n",
        "      <th>Placebo</th>\n",
        "      <td> 14.333333</td>\n",
        "      <td> 21.5</td>\n",
        "      <td> 7.166667</td>\n",
        "    </tr>\n",
        "    <tr>\n",
        "      <th>Treated</th>\n",
        "      <td> 13.666667</td>\n",
        "      <td> 20.5</td>\n",
        "      <td> 6.833333</td>\n",
        "    </tr>\n",
        "  </tbody>\n",
        "</table>\n",
        "</div>"
       ],
       "metadata": {},
       "output_type": "pyout",
       "prompt_number": 8,
       "text": [
        "Improved      Marked  None      Some\n",
        "Treatment                           \n",
        "Placebo    14.333333  21.5  7.166667\n",
        "Treated    13.666667  20.5  6.833333"
       ]
      }
     ],
     "prompt_number": 8
    },
    {
     "cell_type": "code",
     "collapsed": false,
     "input": [
      "#table.resids"
     ],
     "language": "python",
     "metadata": {},
     "outputs": [],
     "prompt_number": 9
    },
    {
     "cell_type": "code",
     "collapsed": false,
     "input": [
      "table.fittedvalues"
     ],
     "language": "python",
     "metadata": {},
     "outputs": [
      {
       "html": [
        "<div style=\"max-height:1000px;max-width:1500px;overflow:auto;\">\n",
        "<table border=\"1\" class=\"dataframe\">\n",
        "  <thead>\n",
        "    <tr style=\"text-align: right;\">\n",
        "      <th>Improved</th>\n",
        "      <th>Marked</th>\n",
        "      <th>None</th>\n",
        "      <th>Some</th>\n",
        "    </tr>\n",
        "    <tr>\n",
        "      <th>Treatment</th>\n",
        "      <th></th>\n",
        "      <th></th>\n",
        "      <th></th>\n",
        "    </tr>\n",
        "  </thead>\n",
        "  <tbody>\n",
        "    <tr>\n",
        "      <th>Placebo</th>\n",
        "      <td> 14.333333</td>\n",
        "      <td> 21.5</td>\n",
        "      <td> 7.166667</td>\n",
        "    </tr>\n",
        "    <tr>\n",
        "      <th>Treated</th>\n",
        "      <td> 13.666667</td>\n",
        "      <td> 20.5</td>\n",
        "      <td> 6.833333</td>\n",
        "    </tr>\n",
        "  </tbody>\n",
        "</table>\n",
        "</div>"
       ],
       "metadata": {},
       "output_type": "pyout",
       "prompt_number": 10,
       "text": [
        "Improved      Marked  None      Some\n",
        "Treatment                           \n",
        "Placebo    14.333333  21.5  7.166667\n",
        "Treated    13.666667  20.5  6.833333"
       ]
      }
     ],
     "prompt_number": 10
    },
    {
     "cell_type": "code",
     "collapsed": false,
     "input": [
      "table.local_oddsratios"
     ],
     "language": "python",
     "metadata": {},
     "outputs": [
      {
       "html": [
        "<div style=\"max-height:1000px;max-width:1500px;overflow:auto;\">\n",
        "<table border=\"1\" class=\"dataframe\">\n",
        "  <thead>\n",
        "    <tr style=\"text-align: right;\">\n",
        "      <th>Improved</th>\n",
        "      <th>Marked</th>\n",
        "      <th>None</th>\n",
        "      <th>Some</th>\n",
        "    </tr>\n",
        "    <tr>\n",
        "      <th>Treatment</th>\n",
        "      <th></th>\n",
        "      <th></th>\n",
        "      <th></th>\n",
        "    </tr>\n",
        "  </thead>\n",
        "  <tbody>\n",
        "    <tr>\n",
        "      <th>Placebo</th>\n",
        "      <td> 0.149425</td>\n",
        "      <td> 2.230769</td>\n",
        "      <td>NaN</td>\n",
        "    </tr>\n",
        "    <tr>\n",
        "      <th>Treated</th>\n",
        "      <td>      NaN</td>\n",
        "      <td>      NaN</td>\n",
        "      <td>NaN</td>\n",
        "    </tr>\n",
        "  </tbody>\n",
        "</table>\n",
        "</div>"
       ],
       "metadata": {},
       "output_type": "pyout",
       "prompt_number": 11,
       "text": [
        "Improved     Marked      None  Some\n",
        "Treatment                          \n",
        "Placebo    0.149425  2.230769   NaN\n",
        "Treated         NaN       NaN   NaN"
       ]
      }
     ],
     "prompt_number": 11
    },
    {
     "cell_type": "code",
     "collapsed": false,
     "input": [
      "table.cumulative_log_oddsratios"
     ],
     "language": "python",
     "metadata": {},
     "outputs": [
      {
       "html": [
        "<div style=\"max-height:1000px;max-width:1500px;overflow:auto;\">\n",
        "<table border=\"1\" class=\"dataframe\">\n",
        "  <thead>\n",
        "    <tr style=\"text-align: right;\">\n",
        "      <th>Improved</th>\n",
        "      <th>Marked</th>\n",
        "      <th>None</th>\n",
        "      <th>Some</th>\n",
        "    </tr>\n",
        "    <tr>\n",
        "      <th>Treatment</th>\n",
        "      <th></th>\n",
        "      <th></th>\n",
        "      <th></th>\n",
        "    </tr>\n",
        "  </thead>\n",
        "  <tbody>\n",
        "    <tr>\n",
        "      <th>Placebo</th>\n",
        "      <td>-1.686399</td>\n",
        "      <td> 0.057158</td>\n",
        "      <td>NaN</td>\n",
        "    </tr>\n",
        "    <tr>\n",
        "      <th>Treated</th>\n",
        "      <td>      NaN</td>\n",
        "      <td>      NaN</td>\n",
        "      <td>NaN</td>\n",
        "    </tr>\n",
        "  </tbody>\n",
        "</table>\n",
        "</div>"
       ],
       "metadata": {},
       "output_type": "pyout",
       "prompt_number": 12,
       "text": [
        "Improved     Marked      None  Some\n",
        "Treatment                          \n",
        "Placebo   -1.686399  0.057158   NaN\n",
        "Treated         NaN       NaN   NaN"
       ]
      }
     ],
     "prompt_number": 12
    },
    {
     "cell_type": "code",
     "collapsed": false,
     "input": [
      "vars(table.ordinal_association())"
     ],
     "language": "python",
     "metadata": {},
     "outputs": [
      {
       "metadata": {},
       "output_type": "pyout",
       "prompt_number": 13,
       "text": [
        "{'null_sd': 3.1670893820587271,\n",
        " 'statistic': 27.0,\n",
        " 'pvalue': 0.023644578093923983,\n",
        " 'null_mean': 34.166666666666664,\n",
        " 'zscore': -2.2628558282141258}"
       ]
      }
     ],
     "prompt_number": 13
    },
    {
     "cell_type": "code",
     "collapsed": false,
     "input": [],
     "language": "python",
     "metadata": {},
     "outputs": [],
     "prompt_number": 13
    },
    {
     "cell_type": "code",
     "collapsed": false,
     "input": [],
     "language": "python",
     "metadata": {},
     "outputs": [],
     "prompt_number": 13
    },
    {
     "cell_type": "code",
     "collapsed": false,
     "input": [
      "tab1 = [[[8, 9], [6, 7]], [[4, 9], [5, 5]], [[8, 8], [9, 11]]]\n",
      "tab2 = np.asarray(tab1).T\n",
      "\n",
      "ct1 = ctab.StratifiedTables(tab1)\n",
      "ct2 = ctab.StratifiedTables(tab2.T)\n",
      "\n",
      "assert_allclose(ct1.oddsratio_pooled, ct2.oddsratio_pooled)\n",
      "assert_allclose(ct1.logodds_pooled, ct2.logodds_pooled)"
     ],
     "language": "python",
     "metadata": {},
     "outputs": [],
     "prompt_number": 14
    },
    {
     "cell_type": "code",
     "collapsed": false,
     "input": [
      "dir(ctab)"
     ],
     "language": "python",
     "metadata": {},
     "outputs": [
      {
       "metadata": {},
       "output_type": "pyout",
       "prompt_number": 15,
       "text": [
        "['SquareTable',\n",
        " 'StratifiedTables',\n",
        " 'Table',\n",
        " 'Table2x2',\n",
        " '_Bunch',\n",
        " '__builtins__',\n",
        " '__cached__',\n",
        " '__doc__',\n",
        " '__file__',\n",
        " '__loader__',\n",
        " '__name__',\n",
        " '__package__',\n",
        " '__spec__',\n",
        " '_make_df_square',\n",
        " 'cache_readonly',\n",
        " 'cochrans_q',\n",
        " 'division',\n",
        " 'iolib',\n",
        " 'mcnemar',\n",
        " 'np',\n",
        " 'pd',\n",
        " 'resettable_cache',\n",
        " 'stats']"
       ]
      }
     ],
     "prompt_number": 15
    },
    {
     "cell_type": "code",
     "collapsed": false,
     "input": [
      "tab1"
     ],
     "language": "python",
     "metadata": {},
     "outputs": [
      {
       "metadata": {},
       "output_type": "pyout",
       "prompt_number": 16,
       "text": [
        "[[[8, 9], [6, 7]], [[4, 9], [5, 5]], [[8, 8], [9, 11]]]"
       ]
      }
     ],
     "prompt_number": 16
    },
    {
     "cell_type": "code",
     "collapsed": false,
     "input": [
      "tab2.shape"
     ],
     "language": "python",
     "metadata": {},
     "outputs": [
      {
       "metadata": {},
       "output_type": "pyout",
       "prompt_number": 17,
       "text": [
        "(2, 2, 3)"
       ]
      }
     ],
     "prompt_number": 17
    },
    {
     "cell_type": "code",
     "collapsed": false,
     "input": [
      "ct1.oddsratio_pooled, ct2.oddsratio_pooled\n"
     ],
     "language": "python",
     "metadata": {},
     "outputs": [
      {
       "metadata": {},
       "output_type": "pyout",
       "prompt_number": 18,
       "text": [
        "(0.89996643168848611, 0.89996643168848611)"
       ]
      }
     ],
     "prompt_number": 18
    },
    {
     "cell_type": "code",
     "collapsed": false,
     "input": [],
     "language": "python",
     "metadata": {},
     "outputs": [],
     "prompt_number": 18
    },
    {
     "cell_type": "code",
     "collapsed": false,
     "input": [],
     "language": "python",
     "metadata": {},
     "outputs": [],
     "prompt_number": 18
    },
    {
     "cell_type": "heading",
     "level": 2,
     "metadata": {},
     "source": [
      "Example 2x2 Loglinear Model (GLM)"
     ]
    },
    {
     "cell_type": "markdown",
     "metadata": {},
     "source": [
      "This replicates the SAS numbers from a 2 by 2 Vitamin C example at https://onlinecourses.science.psu.edu/stat504/node/120"
     ]
    },
    {
     "cell_type": "code",
     "collapsed": false,
     "input": [
      "table_ski = [[31, 109], [17, 122]]"
     ],
     "language": "python",
     "metadata": {},
     "outputs": [],
     "prompt_number": 19
    },
    {
     "cell_type": "code",
     "collapsed": false,
     "input": [
      "count = np.array(table_ski).flatten()"
     ],
     "language": "python",
     "metadata": {},
     "outputs": [],
     "prompt_number": 20
    },
    {
     "cell_type": "code",
     "collapsed": false,
     "input": [
      "rows = np.repeat(['Placebo', 'Ascorbic Acid'], 2)\n",
      "cols = np.tile(['cold', 'no cold'], 2)"
     ],
     "language": "python",
     "metadata": {},
     "outputs": [],
     "prompt_number": 21
    },
    {
     "cell_type": "code",
     "collapsed": false,
     "input": [
      "count\n"
     ],
     "language": "python",
     "metadata": {},
     "outputs": [
      {
       "metadata": {},
       "output_type": "pyout",
       "prompt_number": 22,
       "text": [
        "array([ 31, 109,  17, 122])"
       ]
      }
     ],
     "prompt_number": 22
    },
    {
     "cell_type": "code",
     "collapsed": false,
     "input": [
      "from statsmodels.discrete.discrete_model import Poisson"
     ],
     "language": "python",
     "metadata": {},
     "outputs": [],
     "prompt_number": 23
    },
    {
     "cell_type": "code",
     "collapsed": false,
     "input": [
      "saturated = 'count ~ rows + cols + rows * cols - 1'\n",
      "modp = Poisson.from_formula('count ~ rows + cols', data={'rows':rows, 'cols':cols, 'count':count})\n",
      "# using only default optimizer newton doesn't work. Use Nelder-Mead first\n",
      "resp = modp.fit(method='nm')\n",
      "resp = modp.fit(start_params=resp.params, method='newton')\n",
      "print(resp.summary())"
     ],
     "language": "python",
     "metadata": {},
     "outputs": [
      {
       "output_type": "stream",
       "stream": "stdout",
       "text": [
        "Warning: Maximum number of iterations has been exceeded.\n",
        "Optimization terminated successfully."
       ]
      },
      {
       "output_type": "stream",
       "stream": "stdout",
       "text": [
        "\n",
        "         Current function value: 3.500481\n",
        "         Iterations 5\n",
        "                          Poisson Regression Results                          \n",
        "==============================================================================\n",
        "Dep. Variable:                  count   No. Observations:                    4\n",
        "Model:                        Poisson   Df Residuals:                        1\n",
        "Method:                           MLE   Df Model:                            2\n",
        "Date:                Fri, 30 Oct 2015   Pseudo R-squ.:                  0.8234\n",
        "Time:                        21:33:14   Log-Likelihood:                -14.002\n",
        "converged:                       True   LL-Null:                       -79.300\n",
        "                                        LLR p-value:                 4.380e-29\n",
        "===================================================================================\n",
        "                      coef    std err          z      P>|z|      [0.025      0.975]\n",
        "-----------------------------------------------------------------------------------\n",
        "Intercept           3.1745      0.156     20.304      0.000       2.868       3.481\n",
        "rows[T.Placebo]     0.0072      0.120      0.060      0.952      -0.228       0.242\n",
        "cols[T.no cold]     1.5712      0.159      9.905      0.000       1.260       1.882\n",
        "==================================================================================="
       ]
      },
      {
       "output_type": "stream",
       "stream": "stdout",
       "text": [
        "\n"
       ]
      },
      {
       "output_type": "stream",
       "stream": "stderr",
       "text": [
        "m:\\josef_new\\eclipse_ws\\statsmodels\\statsmodels_py34\\statsmodels\\base\\model.py:471: ConvergenceWarning: Maximum Likelihood optimization failed to converge. Check mle_retvals\n",
        "  \"Check mle_retvals\", ConvergenceWarning)\n"
       ]
      }
     ],
     "prompt_number": 24
    },
    {
     "cell_type": "code",
     "collapsed": false,
     "input": [
      "modp.exog"
     ],
     "language": "python",
     "metadata": {},
     "outputs": [
      {
       "metadata": {},
       "output_type": "pyout",
       "prompt_number": 25,
       "text": [
        "array([[ 1.,  1.,  0.],\n",
        "       [ 1.,  1.,  1.],\n",
        "       [ 1.,  0.,  0.],\n",
        "       [ 1.,  0.,  1.]])"
       ]
      }
     ],
     "prompt_number": 25
    },
    {
     "cell_type": "code",
     "collapsed": false,
     "input": [
      "from statsmodels.genmod.generalized_linear_model import GLM\n",
      "from statsmodels.genmod import families"
     ],
     "language": "python",
     "metadata": {},
     "outputs": [],
     "prompt_number": 26
    },
    {
     "cell_type": "code",
     "collapsed": false,
     "input": [
      "mod = GLM.from_formula('count ~ rows + cols', data={'rows':rows, 'cols':cols, 'count':count}, family=families.Poisson())\n",
      "res = mod.fit()\n",
      "print(res.summary())"
     ],
     "language": "python",
     "metadata": {},
     "outputs": [
      {
       "output_type": "stream",
       "stream": "stdout",
       "text": [
        "                 Generalized Linear Model Regression Results                  \n",
        "==============================================================================\n",
        "Dep. Variable:                  count   No. Observations:                    4\n",
        "Model:                            GLM   Df Residuals:                        1\n",
        "Model Family:                 Poisson   Df Model:                            2\n",
        "Link Function:                    log   Scale:                             1.0\n",
        "Method:                          IRLS   Log-Likelihood:                -14.002\n",
        "Date:                Fri, 30 Oct 2015   Deviance:                       4.8717\n",
        "Time:                        21:33:15   Pearson chi2:                     4.81\n",
        "No. Iterations:                     8                                         \n",
        "===================================================================================\n",
        "                      coef    std err          z      P>|z|      [0.025      0.975]\n",
        "-----------------------------------------------------------------------------------\n",
        "Intercept           3.1745      0.156     20.304      0.000       2.868       3.481\n",
        "rows[T.Placebo]     0.0072      0.120      0.060      0.952      -0.228       0.242\n",
        "cols[T.no cold]     1.5712      0.159      9.905      0.000       1.260       1.882\n",
        "===================================================================================\n"
       ]
      }
     ],
     "prompt_number": 27
    },
    {
     "cell_type": "code",
     "collapsed": false,
     "input": [
      "resp.fittedvalues"
     ],
     "language": "python",
     "metadata": {},
     "outputs": [
      {
       "metadata": {},
       "output_type": "pyout",
       "prompt_number": 28,
       "text": [
        "0    3.181632\n",
        "1    4.752848\n",
        "2    3.174463\n",
        "3    4.745680\n",
        "dtype: float64"
       ]
      }
     ],
     "prompt_number": 28
    },
    {
     "cell_type": "code",
     "collapsed": false,
     "input": [
      "ct = smstats.Table(table_ski)"
     ],
     "language": "python",
     "metadata": {},
     "outputs": [],
     "prompt_number": 29
    },
    {
     "cell_type": "code",
     "collapsed": false,
     "input": [
      "ct.fittedvalues"
     ],
     "language": "python",
     "metadata": {},
     "outputs": [
      {
       "metadata": {},
       "output_type": "pyout",
       "prompt_number": 30,
       "text": [
        "array([[  24.08602151,  115.91397849],\n",
        "       [  23.91397849,  115.08602151]])"
       ]
      }
     ],
     "prompt_number": 30
    },
    {
     "cell_type": "code",
     "collapsed": false,
     "input": [
      "res.fittedvalues"
     ],
     "language": "python",
     "metadata": {},
     "outputs": [
      {
       "metadata": {},
       "output_type": "pyout",
       "prompt_number": 31,
       "text": [
        "0     24.086022\n",
        "1    115.913978\n",
        "2     23.913978\n",
        "3    115.086022\n",
        "dtype: float64"
       ]
      }
     ],
     "prompt_number": 31
    },
    {
     "cell_type": "code",
     "collapsed": false,
     "input": [
      "ct.pearson_resids"
     ],
     "language": "python",
     "metadata": {},
     "outputs": [
      {
       "metadata": {},
       "output_type": "pyout",
       "prompt_number": 32,
       "text": [
        "array([[ 1.4087875 , -0.64218494],\n",
        "       [-1.413846  ,  0.64449082]])"
       ]
      }
     ],
     "prompt_number": 32
    },
    {
     "cell_type": "code",
     "collapsed": false,
     "input": [
      "resp.resid / resp.fittedvalues"
     ],
     "language": "python",
     "metadata": {},
     "outputs": [
      {
       "metadata": {},
       "output_type": "pyout",
       "prompt_number": 33,
       "text": [
        "0    2.173092\n",
        "1   -1.454702\n",
        "2   -2.177999\n",
        "3    1.456899\n",
        "dtype: float64"
       ]
      }
     ],
     "prompt_number": 33
    },
    {
     "cell_type": "code",
     "collapsed": false,
     "input": [
      "res.resid_pearson"
     ],
     "language": "python",
     "metadata": {},
     "outputs": [
      {
       "metadata": {},
       "output_type": "pyout",
       "prompt_number": 34,
       "text": [
        "0    1.408787\n",
        "1   -0.642185\n",
        "2   -1.413846\n",
        "3    0.644491\n",
        "dtype: float64"
       ]
      }
     ],
     "prompt_number": 34
    },
    {
     "cell_type": "code",
     "collapsed": false,
     "input": [
      "print(res.summary())"
     ],
     "language": "python",
     "metadata": {},
     "outputs": [
      {
       "output_type": "stream",
       "stream": "stdout",
       "text": [
        "                 Generalized Linear Model Regression Results                  \n",
        "==============================================================================\n",
        "Dep. Variable:                  count   No. Observations:                    4\n",
        "Model:                            GLM   Df Residuals:                        1\n",
        "Model Family:                 Poisson   Df Model:                            2\n",
        "Link Function:                    log   Scale:                             1.0\n",
        "Method:                          IRLS   Log-Likelihood:                -14.002\n",
        "Date:                Fri, 30 Oct 2015   Deviance:                       4.8717\n",
        "Time:                        21:33:17   Pearson chi2:                     4.81\n",
        "No. Iterations:                     8                                         \n",
        "===================================================================================\n",
        "                      coef    std err          z      P>|z|      [0.025      0.975]\n",
        "-----------------------------------------------------------------------------------\n",
        "Intercept           3.1745      0.156     20.304      0.000       2.868       3.481\n",
        "rows[T.Placebo]     0.0072      0.120      0.060      0.952      -0.228       0.242\n",
        "cols[T.no cold]     1.5712      0.159      9.905      0.000       1.260       1.882\n",
        "===================================================================================\n"
       ]
      }
     ],
     "prompt_number": 35
    },
    {
     "cell_type": "code",
     "collapsed": false,
     "input": [
      "res.wald_test_terms()"
     ],
     "language": "python",
     "metadata": {},
     "outputs": [
      {
       "metadata": {},
       "output_type": "pyout",
       "prompt_number": 36,
       "text": [
        "<class 'statsmodels.stats.contrast.WaldTestResults'>\n",
        "                 chi2                  P>chi2  df constraint\n",
        "Intercept  412.268243  1.1759569405180041e-91              1\n",
        "rows         0.003584      0.9522605228886742              1\n",
        "cols        98.111787  3.9541810885279114e-23              1"
       ]
      }
     ],
     "prompt_number": 36
    },
    {
     "cell_type": "code",
     "collapsed": false,
     "input": [
      "res.null_deviance"
     ],
     "language": "python",
     "metadata": {},
     "outputs": [
      {
       "metadata": {},
       "output_type": "pyout",
       "prompt_number": 37,
       "text": [
        "135.46751286543531"
       ]
      }
     ],
     "prompt_number": 37
    },
    {
     "cell_type": "code",
     "collapsed": false,
     "input": [
      "res.null"
     ],
     "language": "python",
     "metadata": {},
     "outputs": [
      {
       "metadata": {},
       "output_type": "pyout",
       "prompt_number": 38,
       "text": [
        "array([ 69.75,  69.75,  69.75,  69.75])"
       ]
      }
     ],
     "prompt_number": 38
    },
    {
     "cell_type": "code",
     "collapsed": false,
     "input": [
      "from scipy import stats\n",
      "res.deviance, stats.chi2.sf(res.deviance, 1)  # "
     ],
     "language": "python",
     "metadata": {},
     "outputs": [
      {
       "metadata": {},
       "output_type": "pyout",
       "prompt_number": 39,
       "text": [
        "(4.8716968240165173, 0.027300643711941044)"
       ]
      }
     ],
     "prompt_number": 39
    },
    {
     "cell_type": "code",
     "collapsed": false,
     "input": [
      "# I needed to disable the PerfectSeparationError in the source for the saturated model, \n",
      "# see https://github.com/statsmodels/statsmodels/issues/2680\n",
      "\n",
      "mod = GLM.from_formula('count ~ rows + cols + rows * cols', data={'rows':rows, 'cols':cols, 'count':count}, family=families.Poisson())\n",
      "res = mod.fit()\n",
      "print(res.summary())"
     ],
     "language": "python",
     "metadata": {},
     "outputs": [
      {
       "output_type": "stream",
       "stream": "stdout",
       "text": [
        "                 Generalized Linear Model Regression Results                  \n",
        "==============================================================================\n",
        "Dep. Variable:                  count   No. Observations:                    4\n",
        "Model:                            GLM   Df Residuals:                        0\n",
        "Model Family:                 Poisson   Df Model:                            3\n",
        "Link Function:                    log   Scale:                             1.0\n",
        "Method:                          IRLS   Log-Likelihood:                -11.566\n",
        "Date:                Fri, 30 Oct 2015   Deviance:                   8.3356e-13\n",
        "Time:                        21:33:18   Pearson chi2:                 9.28e-28\n",
        "No. Iterations:                     8                                         \n",
        "===================================================================================================\n",
        "                                      coef    std err          z      P>|z|      [0.025      0.975]\n",
        "---------------------------------------------------------------------------------------------------\n",
        "Intercept                           2.8332      0.243     11.682      0.000       2.358       3.309\n",
        "rows[T.Placebo]                     0.6008      0.302      1.991      0.047       0.009       1.192\n",
        "cols[T.no cold]                     1.9708      0.259      7.613      0.000       1.463       2.478\n",
        "rows[T.Placebo]:cols[T.no cold]    -0.7134      0.329     -2.166      0.030      -1.359      -0.068\n",
        "===================================================================================================\n"
       ]
      }
     ],
     "prompt_number": 40
    },
    {
     "cell_type": "code",
     "collapsed": false,
     "input": [
      "res.wald_test_terms()"
     ],
     "language": "python",
     "metadata": {},
     "outputs": [
      {
       "metadata": {},
       "output_type": "pyout",
       "prompt_number": 41,
       "text": [
        "<class 'statsmodels.stats.contrast.WaldTestResults'>\n",
        "                 chi2                  P>chi2  df constraint\n",
        "Intercept  136.460663  1.5821712342667561e-31              1\n",
        "rows         3.962702     0.04651897125930433              1\n",
        "cols        57.953871  2.6833692992843566e-14              1\n",
        "rows:cols    4.693355    0.030279474415015876              1"
       ]
      }
     ],
     "prompt_number": 41
    },
    {
     "cell_type": "markdown",
     "metadata": {},
     "source": [
      "SAS CATMOD has the same value for the interaction term `rows:cols 4.69 0.0303 1` but different values for the other two terms `rows` and `cols`. CATMOD uses zero sum coding, but that shouldn't change whether the effect is zero, although it changes the parameterization."
     ]
    },
    {
     "cell_type": "code",
     "collapsed": false,
     "input": [
      "res.wald_test_terms(combine_terms = ['rows', 'cols'])"
     ],
     "language": "python",
     "metadata": {},
     "outputs": [
      {
       "metadata": {},
       "output_type": "pyout",
       "prompt_number": 42,
       "text": [
        "<class 'statsmodels.stats.contrast.WaldTestResults'>\n",
        "                 chi2                  P>chi2  df constraint\n",
        "Intercept  136.460663  1.5821712342667561e-31              1\n",
        "rows         3.962702     0.04651897125930433              1\n",
        "cols        57.953871  2.6833692992843566e-14              1\n",
        "rows:cols    4.693355    0.030279474415015876              1\n",
        "rows         4.693530     0.09567816091240156              2\n",
        "cols        96.111371   1.347972492763072e-21              2"
       ]
      }
     ],
     "prompt_number": 42
    },
    {
     "cell_type": "code",
     "collapsed": false,
     "input": [
      "res.model.exog_names"
     ],
     "language": "python",
     "metadata": {},
     "outputs": [
      {
       "metadata": {},
       "output_type": "pyout",
       "prompt_number": 43,
       "text": [
        "['Intercept',\n",
        " 'rows[T.Placebo]',\n",
        " 'cols[T.no cold]',\n",
        " 'rows[T.Placebo]:cols[T.no cold]']"
       ]
      }
     ],
     "prompt_number": 43
    },
    {
     "cell_type": "code",
     "collapsed": false,
     "input": [
      "[i for i in res.model.exog_names if 'cold' in i]"
     ],
     "language": "python",
     "metadata": {},
     "outputs": [
      {
       "metadata": {},
       "output_type": "pyout",
       "prompt_number": 44,
       "text": [
        "['cols[T.no cold]', 'rows[T.Placebo]:cols[T.no cold]']"
       ]
      }
     ],
     "prompt_number": 44
    },
    {
     "cell_type": "code",
     "collapsed": false,
     "input": [],
     "language": "python",
     "metadata": {},
     "outputs": [],
     "prompt_number": 44
    },
    {
     "cell_type": "heading",
     "level": 2,
     "metadata": {},
     "source": [
      "Example 3: Three Factors - Berkeley admission"
     ]
    },
    {
     "cell_type": "markdown",
     "metadata": {},
     "source": [
      "See for example https://en.wikipedia.org/wiki/Simpson%27s_paradox#Berkeley_gender_bias_case for the gender discrimination issue.\n",
      "\n"
     ]
    },
    {
     "cell_type": "code",
     "collapsed": false,
     "input": [
      "columns = 'D S A count'.split()\n",
      "\n",
      "ss = '''\\\n",
      "Dep Sex Admit count\n",
      "DeptA  Male    Reject  313\n",
      "DeptA  Male    Accept  512\n",
      "DeptA  Female  Reject   19\n",
      "DeptA  Female  Accept   89\n",
      "DeptB  Male    Reject  207\n",
      "DeptB  Male    Accept  353\n",
      "DeptB  Female  Reject    8\n",
      "DeptB  Female  Accept   17\n",
      "DeptC  Male    Reject  205\n",
      "DeptC  Male    Accept  120\n",
      "DeptC  Female  Reject  391\n",
      "DeptC  Female  Accept  202\n",
      "DeptD  Male    Reject  278\n",
      "DeptD  Male    Accept  139\n",
      "DeptD  Female  Reject  244\n",
      "DeptD  Female  Accept  131\n",
      "DeptE  Male    Reject  138\n",
      "DeptE  Male    Accept   53\n",
      "DeptE  Female  Reject  299\n",
      "DeptE  Female  Accept   94\n",
      "DeptF  Male    Reject  351\n",
      "DeptF  Male    Accept   22\n",
      "DeptF  Female  Reject  317\n",
      "DeptF  Female  Accept   24'''"
     ],
     "language": "python",
     "metadata": {},
     "outputs": [],
     "prompt_number": 45
    },
    {
     "cell_type": "code",
     "collapsed": false,
     "input": [
      "import io  # use compat\n",
      "df_adm = pd.read_csv(io.StringIO(ss), delim_whitespace=True)"
     ],
     "language": "python",
     "metadata": {},
     "outputs": [],
     "prompt_number": 46
    },
    {
     "cell_type": "markdown",
     "metadata": {},
     "source": [
      "In the first case we only use main effects, which assumes that the factors are independent. "
     ]
    },
    {
     "cell_type": "code",
     "collapsed": false,
     "input": [
      "mod = GLM.from_formula('count ~ Dep + Sex + Admit', data=df_adm, family=families.Poisson())\n",
      "res = mod.fit()\n",
      "print(res.summary())"
     ],
     "language": "python",
     "metadata": {},
     "outputs": [
      {
       "output_type": "stream",
       "stream": "stdout",
       "text": [
        "                 Generalized Linear Model Regression Results                  \n",
        "==============================================================================\n",
        "Dep. Variable:                  count   No. Observations:                   24\n",
        "Model:                            GLM   Df Residuals:                       16\n",
        "Model Family:                 Poisson   Df Model:                            7\n",
        "Link Function:                    log   Scale:                             1.0\n",
        "Method:                          IRLS   Log-Likelihood:                -1128.1\n",
        "Date:                Fri, 30 Oct 2015   Deviance:                       2097.2\n",
        "Time:                        21:33:20   Pearson chi2:                 2.00e+03\n",
        "No. Iterations:                     8                                         \n",
        "===================================================================================\n",
        "                      coef    std err          z      P>|z|      [0.025      0.975]\n",
        "-----------------------------------------------------------------------------------\n",
        "Intercept           4.9888      0.042    119.448      0.000       4.907       5.071\n",
        "Dep[T.DeptB]       -0.4668      0.053     -8.851      0.000      -0.570      -0.363\n",
        "Dep[T.DeptC]       -0.0162      0.046     -0.349      0.727      -0.107       0.075\n",
        "Dep[T.DeptD]       -0.1638      0.048     -3.391      0.001      -0.259      -0.069\n",
        "Dep[T.DeptE]       -0.4685      0.053     -8.879      0.000      -0.572      -0.365\n",
        "Dep[T.DeptF]       -0.2675      0.050     -5.380      0.000      -0.365      -0.170\n",
        "Sex[T.Male]         0.3829      0.030     12.646      0.000       0.324       0.442\n",
        "Admit[T.Reject]     0.4558      0.031     14.943      0.000       0.396       0.516\n",
        "===================================================================================\n"
       ]
      }
     ],
     "prompt_number": 47
    },
    {
     "cell_type": "code",
     "collapsed": false,
     "input": [
      "mod = GLM.from_formula('count ~ Dep + Sex + Admit + Dep*Sex', data=df_adm, family=families.Poisson())\n",
      "res = mod.fit()\n",
      "print(res.summary())"
     ],
     "language": "python",
     "metadata": {},
     "outputs": [
      {
       "output_type": "stream",
       "stream": "stdout",
       "text": [
        "                 Generalized Linear Model Regression Results                  \n",
        "==============================================================================\n",
        "Dep. Variable:                  count   No. Observations:                   24\n",
        "Model:                            GLM   Df Residuals:                       11\n",
        "Model Family:                 Poisson   Df Model:                           12\n",
        "Link Function:                    log   Scale:                             1.0\n",
        "Method:                          IRLS   Log-Likelihood:                -517.82\n",
        "Date:                Fri, 30 Oct 2015   Deviance:                       876.57\n",
        "Time:                        21:33:20   Pearson chi2:                     797.\n",
        "No. Iterations:                    10                                         \n",
        "============================================================================================\n",
        "                               coef    std err          z      P>|z|      [0.025      0.975]\n",
        "--------------------------------------------------------------------------------------------\n",
        "Intercept                    3.7353      0.098     38.108      0.000       3.543       3.927\n",
        "Dep[T.DeptB]                -1.4633      0.222     -6.593      0.000      -1.898      -1.028\n",
        "Dep[T.DeptC]                 1.7031      0.105     16.278      0.000       1.498       1.908\n",
        "Dep[T.DeptD]                 1.2448      0.109     11.399      0.000       1.031       1.459\n",
        "Dep[T.DeptE]                 1.2917      0.109     11.889      0.000       1.079       1.505\n",
        "Dep[T.DeptF]                 1.1498      0.110     10.413      0.000       0.933       1.366\n",
        "Sex[T.Male]                  2.0333      0.102     19.870      0.000       1.833       2.234\n",
        "Admit[T.Reject]              0.4558      0.031     14.943      0.000       0.396       0.516\n",
        "Dep[T.DeptB]:Sex[T.Male]     1.0758      0.229      4.706      0.000       0.628       1.524\n",
        "Dep[T.DeptC]:Sex[T.Male]    -2.6346      0.123    -21.345      0.000      -2.877      -2.393\n",
        "Dep[T.DeptD]:Sex[T.Male]    -1.9271      0.125    -15.461      0.000      -2.171      -1.683\n",
        "Dep[T.DeptE]:Sex[T.Male]    -2.7548      0.135    -20.391      0.000      -3.020      -2.490\n",
        "Dep[T.DeptF]:Sex[T.Male]    -1.9436      0.127    -15.325      0.000      -2.192      -1.695\n",
        "============================================================================================\n"
       ]
      }
     ],
     "prompt_number": 48
    },
    {
     "cell_type": "code",
     "collapsed": false,
     "input": [
      "res.wald_test_terms()"
     ],
     "language": "python",
     "metadata": {},
     "outputs": [
      {
       "metadata": {},
       "output_type": "pyout",
       "prompt_number": 49,
       "text": [
        "<class 'statsmodels.stats.contrast.WaldTestResults'>\n",
        "                  chi2                  P>chi2  df constraint\n",
        "Intercept  1452.227769                     0.0              1\n",
        "Dep         477.479530  5.789142600512866e-101              5\n",
        "Sex         394.801273   7.458481601998841e-88              1\n",
        "Admit       223.282759  1.7392166372142794e-50              1\n",
        "Dep:Sex     763.646614   8.45487657540606e-163              5"
       ]
      }
     ],
     "prompt_number": 49
    },
    {
     "cell_type": "code",
     "collapsed": false,
     "input": [
      "mod = GLM.from_formula('count ~ Dep + Sex + Admit + Dep*Sex + Sex*Admit', data=df_adm, family=families.Poisson())\n",
      "res = mod.fit()\n",
      "print(res.summary())\n",
      "res.wald_test_terms()"
     ],
     "language": "python",
     "metadata": {},
     "outputs": [
      {
       "output_type": "stream",
       "stream": "stdout",
       "text": [
        "                 Generalized Linear Model Regression Results                  \n",
        "==============================================================================\n",
        "Dep. Variable:                  count   No. Observations:                   24\n",
        "Model:                            GLM   Df Residuals:                       10\n",
        "Model Family:                 Poisson   Df Model:                           13\n",
        "Link Function:                    log   Scale:                             1.0\n",
        "Method:                          IRLS   Log-Likelihood:                -470.86\n",
        "Date:                Fri, 30 Oct 2015   Deviance:                       782.65\n",
        "Time:                        21:33:21   Pearson chi2:                     714.\n",
        "No. Iterations:                    10                                         \n",
        "===============================================================================================\n",
        "                                  coef    std err          z      P>|z|      [0.025      0.975]\n",
        "-----------------------------------------------------------------------------------------------\n",
        "Intercept                       3.4899      0.103     34.042      0.000       3.289       3.691\n",
        "Dep[T.DeptB]                   -1.4633      0.222     -6.593      0.000      -1.898      -1.028\n",
        "Dep[T.DeptC]                    1.7031      0.105     16.278      0.000       1.498       1.908\n",
        "Dep[T.DeptD]                    1.2448      0.109     11.399      0.000       1.031       1.459\n",
        "Dep[T.DeptE]                    1.2917      0.109     11.889      0.000       1.079       1.505\n",
        "Dep[T.DeptF]                    1.1498      0.110     10.413      0.000       0.933       1.366\n",
        "Sex[T.Male]                     2.4171      0.110     21.897      0.000       2.201       2.633\n",
        "Admit[T.Reject]                 0.8305      0.051     16.357      0.000       0.731       0.930\n",
        "Dep[T.DeptB]:Sex[T.Male]        1.0758      0.229      4.706      0.000       0.628       1.524\n",
        "Dep[T.DeptC]:Sex[T.Male]       -2.6346      0.123    -21.345      0.000      -2.877      -2.393\n",
        "Dep[T.DeptD]:Sex[T.Male]       -1.9271      0.125    -15.461      0.000      -2.171      -1.683\n",
        "Dep[T.DeptE]:Sex[T.Male]       -2.7548      0.135    -20.391      0.000      -3.020      -2.490\n",
        "Dep[T.DeptF]:Sex[T.Male]       -1.9436      0.127    -15.325      0.000      -2.192      -1.695\n",
        "Sex[T.Male]:Admit[T.Reject]    -0.6119      0.064     -9.577      0.000      -0.737      -0.487\n",
        "===============================================================================================\n"
       ]
      },
      {
       "metadata": {},
       "output_type": "pyout",
       "prompt_number": 50,
       "text": [
        "<class 'statsmodels.stats.contrast.WaldTestResults'>\n",
        "                  chi2                   P>chi2  df constraint\n",
        "Intercept  1158.877753  5.2776517830179016e-254              1\n",
        "Dep         477.479530   5.789142600523275e-101              5\n",
        "Sex         479.489851  2.7589961578706267e-106              1\n",
        "Admit       267.556204   3.8684132315348006e-60              1\n",
        "Dep:Sex     763.646614   8.454876575427745e-163              5\n",
        "Sex:Admit    91.710408   1.0033580355635529e-21              1"
       ]
      }
     ],
     "prompt_number": 50
    },
    {
     "cell_type": "code",
     "collapsed": false,
     "input": [
      "mod = GLM.from_formula('count ~ Dep + Sex + Admit + Dep*Sex + Sex*Admit + Dep*Admit', data=df_adm, family=families.Poisson())\n",
      "res = mod.fit()\n",
      "print(res.summary())\n",
      "res.wald_test_terms()"
     ],
     "language": "python",
     "metadata": {},
     "outputs": [
      {
       "output_type": "stream",
       "stream": "stdout",
       "text": [
        "                 Generalized Linear Model Regression Results                  \n",
        "==============================================================================\n",
        "Dep. Variable:                  count   No. Observations:                   24\n",
        "Model:                            GLM   Df Residuals:                        5\n",
        "Model Family:                 Poisson   Df Model:                           18\n",
        "Link Function:                    log   Scale:                             1.0\n",
        "Method:                          IRLS   Log-Likelihood:                -89.644\n",
        "Date:                Fri, 30 Oct 2015   Deviance:                       20.225\n",
        "Time:                        21:33:21   Pearson chi2:                     18.8\n",
        "No. Iterations:                    10                                         \n",
        "================================================================================================\n",
        "                                   coef    std err          z      P>|z|      [0.025      0.975]\n",
        "------------------------------------------------------------------------------------------------\n",
        "Intercept                        4.2720      0.102     41.949      0.000       4.072       4.472\n",
        "Dep[T.DeptB]                    -1.4781      0.225     -6.566      0.000      -1.919      -1.037\n",
        "Dep[T.DeptC]                     1.0875      0.116      9.366      0.000       0.860       1.315\n",
        "Dep[T.DeptD]                     0.6118      0.122      5.025      0.000       0.373       0.850\n",
        "Dep[T.DeptE]                     0.3456      0.132      2.622      0.009       0.087       0.604\n",
        "Dep[T.DeptF]                    -1.1361      0.182     -6.243      0.000      -1.493      -0.779\n",
        "Sex[T.Male]                      1.9997      0.106     18.875      0.000       1.792       2.207\n",
        "Admit[T.Reject]                 -0.6791      0.099     -6.854      0.000      -0.873      -0.485\n",
        "Dep[T.DeptB]:Sex[T.Male]         1.0748      0.229      4.702      0.000       0.627       1.523\n",
        "Dep[T.DeptC]:Sex[T.Male]        -2.6641      0.126    -21.131      0.000      -2.911      -2.417\n",
        "Dep[T.DeptD]:Sex[T.Male]        -1.9572      0.127    -15.374      0.000      -2.207      -1.708\n",
        "Dep[T.DeptE]:Sex[T.Male]        -2.7939      0.139    -20.066      0.000      -3.067      -2.521\n",
        "Dep[T.DeptF]:Sex[T.Male]        -2.0004      0.136    -14.743      0.000      -2.266      -1.734\n",
        "Sex[T.Male]:Admit[T.Reject]      0.0967      0.081      1.197      0.231      -0.062       0.255\n",
        "Dep[T.DeptB]:Admit[T.Reject]     0.0436      0.110      0.397      0.691      -0.172       0.259\n",
        "Dep[T.DeptC]:Admit[T.Reject]     1.2609      0.107     11.827      0.000       1.052       1.470\n",
        "Dep[T.DeptD]:Admit[T.Reject]     1.2878      0.106     12.177      0.000       1.081       1.495\n",
        "Dep[T.DeptE]:Admit[T.Reject]     1.7375      0.126     13.780      0.000       1.490       1.985\n",
        "Dep[T.DeptF]:Admit[T.Reject]     3.3053      0.170     19.447      0.000       2.972       3.638\n",
        "================================================================================================\n"
       ]
      },
      {
       "metadata": {},
       "output_type": "pyout",
       "prompt_number": 51,
       "text": [
        "<class 'statsmodels.stats.contrast.WaldTestResults'>\n",
        "                  chi2                  P>chi2  df constraint\n",
        "Intercept  1759.751365                     0.0              1\n",
        "Dep         333.305639    6.86413584041841e-70              5\n",
        "Sex         356.261836  1.8347211709787005e-79              1\n",
        "Admit        46.978516  7.1769121336821095e-12              1\n",
        "Dep:Sex     731.325267  8.269915409478676e-156              5\n",
        "Sex:Admit     1.432629     0.23133578266177057              1\n",
        "Dep:Admit   533.712296  4.207906335820059e-113              5"
       ]
      }
     ],
     "prompt_number": 51
    },
    {
     "cell_type": "code",
     "collapsed": false,
     "input": [
      "print(res.wald_test_terms(combine_terms=['Sex']))"
     ],
     "language": "python",
     "metadata": {},
     "outputs": [
      {
       "output_type": "stream",
       "stream": "stdout",
       "text": [
        "                  chi2                   P>chi2  df constraint\n",
        "Intercept  1759.751365                      0.0              1\n",
        "Dep         333.305639     6.86413584041841e-70              5\n",
        "Sex         356.261836   1.8347211709787005e-79              1\n",
        "Admit        46.978516   7.1769121336821095e-12              1\n",
        "Dep:Sex     731.325267   8.269915409478676e-156              5\n",
        "Sex:Admit     1.432629      0.23133578266177057              1\n",
        "Dep:Admit   533.712296   4.207906335820059e-113              5\n",
        "Sex         773.289844  1.0758663916048975e-162              7\n"
       ]
      }
     ],
     "prompt_number": 52
    },
    {
     "cell_type": "code",
     "collapsed": false,
     "input": [
      "deviance_pairs = res.deviance\n",
      "df_resid_pairs = res.df_resid"
     ],
     "language": "python",
     "metadata": {},
     "outputs": [],
     "prompt_number": 53
    },
    {
     "cell_type": "heading",
     "level": 3,
     "metadata": {},
     "source": [
      "Comparison with Binomial"
     ]
    },
    {
     "cell_type": "code",
     "collapsed": false,
     "input": [
      "help(pd.pivot)"
     ],
     "language": "python",
     "metadata": {},
     "outputs": [
      {
       "output_type": "stream",
       "stream": "stdout",
       "text": [
        "Help on function pivot_simple in module pandas.core.reshape:\n",
        "\n",
        "pivot_simple(index, columns, values)\n",
        "    Produce 'pivot' table based on 3 columns of this DataFrame.\n",
        "    Uses unique values from index / columns and fills with values.\n",
        "    \n",
        "    Parameters\n",
        "    ----------\n",
        "    index : ndarray\n",
        "        Labels to use to make new frame's index\n",
        "    columns : ndarray\n",
        "        Labels to use to make new frame's columns\n",
        "    values : ndarray\n",
        "        Values to use for populating new frame's values\n",
        "    \n",
        "    Notes\n",
        "    -----\n",
        "    Obviously, all 3 of the input arguments must have the same length\n",
        "    \n",
        "    Returns\n",
        "    -------\n",
        "    DataFrame\n",
        "\n"
       ]
      }
     ],
     "prompt_number": 54
    },
    {
     "cell_type": "code",
     "collapsed": false,
     "input": [],
     "language": "python",
     "metadata": {},
     "outputs": [],
     "prompt_number": 56
    },
    {
     "cell_type": "code",
     "collapsed": false,
     "input": [
      "t = pd.pivot_table(df_adm, index=['Dep', 'Sex'], columns=df_adm[['Admit']], values='count')"
     ],
     "language": "python",
     "metadata": {},
     "outputs": [],
     "prompt_number": 57
    },
    {
     "cell_type": "code",
     "collapsed": false,
     "input": [
      "type(t)"
     ],
     "language": "python",
     "metadata": {},
     "outputs": [
      {
       "metadata": {},
       "output_type": "pyout",
       "prompt_number": 58,
       "text": [
        "pandas.core.frame.DataFrame"
       ]
      }
     ],
     "prompt_number": 58
    },
    {
     "cell_type": "code",
     "collapsed": false,
     "input": [
      "t.index"
     ],
     "language": "python",
     "metadata": {},
     "outputs": [
      {
       "metadata": {},
       "output_type": "pyout",
       "prompt_number": 59,
       "text": [
        "MultiIndex(levels=[['DeptA', 'DeptB', 'DeptC', 'DeptD', 'DeptE', 'DeptF'], ['Female', 'Male']],\n",
        "           labels=[[0, 0, 1, 1, 2, 2, 3, 3, 4, 4, 5, 5], [0, 1, 0, 1, 0, 1, 0, 1, 0, 1, 0, 1]],\n",
        "           names=['Dep', 'Sex'])"
       ]
      }
     ],
     "prompt_number": 59
    },
    {
     "cell_type": "code",
     "collapsed": false,
     "input": [
      "t['total'] = t.sum(1)"
     ],
     "language": "python",
     "metadata": {},
     "outputs": [],
     "prompt_number": 60
    },
    {
     "cell_type": "code",
     "collapsed": false,
     "input": [
      "t.columns"
     ],
     "language": "python",
     "metadata": {},
     "outputs": [
      {
       "metadata": {},
       "output_type": "pyout",
       "prompt_number": 61,
       "text": [
        "Index(['Accept', 'Reject', 'total'], dtype='object')"
       ]
      }
     ],
     "prompt_number": 61
    },
    {
     "cell_type": "code",
     "collapsed": false,
     "input": [
      "t2 = t.reset_index()"
     ],
     "language": "python",
     "metadata": {},
     "outputs": [],
     "prompt_number": 63
    },
    {
     "cell_type": "code",
     "collapsed": false,
     "input": [
      "t2"
     ],
     "language": "python",
     "metadata": {},
     "outputs": [
      {
       "html": [
        "<div style=\"max-height:1000px;max-width:1500px;overflow:auto;\">\n",
        "<table border=\"1\" class=\"dataframe\">\n",
        "  <thead>\n",
        "    <tr style=\"text-align: right;\">\n",
        "      <th>Admit</th>\n",
        "      <th>Dep</th>\n",
        "      <th>Sex</th>\n",
        "      <th>Accept</th>\n",
        "      <th>Reject</th>\n",
        "      <th>total</th>\n",
        "    </tr>\n",
        "  </thead>\n",
        "  <tbody>\n",
        "    <tr>\n",
        "      <th>0 </th>\n",
        "      <td> DeptA</td>\n",
        "      <td> Female</td>\n",
        "      <td>  89</td>\n",
        "      <td>  19</td>\n",
        "      <td> 108</td>\n",
        "    </tr>\n",
        "    <tr>\n",
        "      <th>1 </th>\n",
        "      <td> DeptA</td>\n",
        "      <td>   Male</td>\n",
        "      <td> 512</td>\n",
        "      <td> 313</td>\n",
        "      <td> 825</td>\n",
        "    </tr>\n",
        "    <tr>\n",
        "      <th>2 </th>\n",
        "      <td> DeptB</td>\n",
        "      <td> Female</td>\n",
        "      <td>  17</td>\n",
        "      <td>   8</td>\n",
        "      <td>  25</td>\n",
        "    </tr>\n",
        "    <tr>\n",
        "      <th>3 </th>\n",
        "      <td> DeptB</td>\n",
        "      <td>   Male</td>\n",
        "      <td> 353</td>\n",
        "      <td> 207</td>\n",
        "      <td> 560</td>\n",
        "    </tr>\n",
        "    <tr>\n",
        "      <th>4 </th>\n",
        "      <td> DeptC</td>\n",
        "      <td> Female</td>\n",
        "      <td> 202</td>\n",
        "      <td> 391</td>\n",
        "      <td> 593</td>\n",
        "    </tr>\n",
        "    <tr>\n",
        "      <th>5 </th>\n",
        "      <td> DeptC</td>\n",
        "      <td>   Male</td>\n",
        "      <td> 120</td>\n",
        "      <td> 205</td>\n",
        "      <td> 325</td>\n",
        "    </tr>\n",
        "    <tr>\n",
        "      <th>6 </th>\n",
        "      <td> DeptD</td>\n",
        "      <td> Female</td>\n",
        "      <td> 131</td>\n",
        "      <td> 244</td>\n",
        "      <td> 375</td>\n",
        "    </tr>\n",
        "    <tr>\n",
        "      <th>7 </th>\n",
        "      <td> DeptD</td>\n",
        "      <td>   Male</td>\n",
        "      <td> 139</td>\n",
        "      <td> 278</td>\n",
        "      <td> 417</td>\n",
        "    </tr>\n",
        "    <tr>\n",
        "      <th>8 </th>\n",
        "      <td> DeptE</td>\n",
        "      <td> Female</td>\n",
        "      <td>  94</td>\n",
        "      <td> 299</td>\n",
        "      <td> 393</td>\n",
        "    </tr>\n",
        "    <tr>\n",
        "      <th>9 </th>\n",
        "      <td> DeptE</td>\n",
        "      <td>   Male</td>\n",
        "      <td>  53</td>\n",
        "      <td> 138</td>\n",
        "      <td> 191</td>\n",
        "    </tr>\n",
        "    <tr>\n",
        "      <th>10</th>\n",
        "      <td> DeptF</td>\n",
        "      <td> Female</td>\n",
        "      <td>  24</td>\n",
        "      <td> 317</td>\n",
        "      <td> 341</td>\n",
        "    </tr>\n",
        "    <tr>\n",
        "      <th>11</th>\n",
        "      <td> DeptF</td>\n",
        "      <td>   Male</td>\n",
        "      <td>  22</td>\n",
        "      <td> 351</td>\n",
        "      <td> 373</td>\n",
        "    </tr>\n",
        "  </tbody>\n",
        "</table>\n",
        "</div>"
       ],
       "metadata": {},
       "output_type": "pyout",
       "prompt_number": 64,
       "text": [
        "Admit    Dep     Sex  Accept  Reject  total\n",
        "0      DeptA  Female      89      19    108\n",
        "1      DeptA    Male     512     313    825\n",
        "2      DeptB  Female      17       8     25\n",
        "3      DeptB    Male     353     207    560\n",
        "4      DeptC  Female     202     391    593\n",
        "5      DeptC    Male     120     205    325\n",
        "6      DeptD  Female     131     244    375\n",
        "7      DeptD    Male     139     278    417\n",
        "8      DeptE  Female      94     299    393\n",
        "9      DeptE    Male      53     138    191\n",
        "10     DeptF  Female      24     317    341\n",
        "11     DeptF    Male      22     351    373"
       ]
      }
     ],
     "prompt_number": 64
    },
    {
     "cell_type": "code",
     "collapsed": false,
     "input": [
      "endog = t2[['Accept', 'total']]\n",
      "#exog = ?"
     ],
     "language": "python",
     "metadata": {},
     "outputs": [],
     "prompt_number": 65
    },
    {
     "cell_type": "code",
     "collapsed": false,
     "input": [
      "modb = GLM.from_formula('Accept + total ~ Dep + Sex', data=t2, family=families.Binomial())\n",
      "resb = modb.fit()\n",
      "print(resb.summary())\n",
      "resb.wald_test_terms()"
     ],
     "language": "python",
     "metadata": {},
     "outputs": [
      {
       "output_type": "stream",
       "stream": "stdout",
       "text": [
        "                  Generalized Linear Model Regression Results                  \n",
        "===============================================================================\n",
        "Dep. Variable:     ['Accept', 'total']   No. Observations:                   12\n",
        "Model:                             GLM   Df Residuals:                        5\n",
        "Model Family:                 Binomial   Df Model:                            6\n",
        "Link Function:                   logit   Scale:                             1.0\n",
        "Method:                           IRLS   Log-Likelihood:                -38.394\n",
        "Date:                 Fri, 30 Oct 2015   Deviance:                       4.4480\n",
        "Time:                         21:35:27   Pearson chi2:                     4.49\n",
        "No. Iterations:                      8                                         \n",
        "================================================================================\n",
        "                   coef    std err          z      P>|z|      [0.025      0.975]\n",
        "--------------------------------------------------------------------------------\n",
        "Intercept       -0.4016      0.082     -4.915      0.000      -0.562      -0.241\n",
        "Dep[T.DeptB]    -0.0146      0.085     -0.172      0.863      -0.181       0.152\n",
        "Dep[T.DeptC]    -0.6304      0.091     -6.912      0.000      -0.809      -0.452\n",
        "Dep[T.DeptD]    -0.6517      0.091     -7.132      0.000      -0.831      -0.473\n",
        "Dep[T.DeptE]    -0.9633      0.113     -8.521      0.000      -1.185      -0.742\n",
        "Dep[T.DeptF]    -2.3180      0.163    -14.226      0.000      -2.637      -1.999\n",
        "Sex[T.Male]     -0.0438      0.072     -0.608      0.543      -0.185       0.098\n",
        "================================================================================\n"
       ]
      },
      {
       "metadata": {},
       "output_type": "pyout",
       "prompt_number": 66,
       "text": [
        "<class 'statsmodels.stats.contrast.WaldTestResults'>\n",
        "                 chi2                 P>chi2  df constraint\n",
        "Intercept   24.155187  8.887645980229343e-07              1\n",
        "Dep        264.243695  4.819008518732355e-55              5\n",
        "Sex          0.369567     0.5432403700264485              1"
       ]
      }
     ],
     "prompt_number": 66
    },
    {
     "cell_type": "code",
     "collapsed": false,
     "input": [
      "modb = GLM.from_formula('Accept + total ~ Dep + Sex + Dep*Sex', data=t2, family=families.Binomial())\n",
      "resb = modb.fit()\n",
      "print(resb.summary())\n",
      "resb.wald_test_terms(combine_terms=['Sex'])"
     ],
     "language": "python",
     "metadata": {},
     "outputs": [
      {
       "output_type": "stream",
       "stream": "stdout",
       "text": [
        "                  Generalized Linear Model Regression Results                  \n",
        "===============================================================================\n",
        "Dep. Variable:     ['Accept', 'total']   No. Observations:                   12\n",
        "Model:                             GLM   Df Residuals:                        0\n",
        "Model Family:                 Binomial   Df Model:                           11\n",
        "Link Function:                   logit   Scale:                             1.0\n",
        "Method:                           IRLS   Log-Likelihood:                -36.170\n",
        "Date:                 Fri, 30 Oct 2015   Deviance:                   4.7296e-13\n",
        "Time:                         21:35:27   Pearson chi2:                 5.51e-26\n",
        "No. Iterations:                      8                                         \n",
        "============================================================================================\n",
        "                               coef    std err          z      P>|z|      [0.025      0.975]\n",
        "--------------------------------------------------------------------------------------------\n",
        "Intercept                   -0.1935      0.143     -1.352      0.177      -0.474       0.087\n",
        "Dep[T.DeptB]                -0.1922      0.345     -0.556      0.578      -0.869       0.485\n",
        "Dep[T.DeptC]                -0.8834      0.165     -5.363      0.000      -1.206      -0.561\n",
        "Dep[T.DeptD]                -0.8582      0.175     -4.891      0.000      -1.202      -0.514\n",
        "Dep[T.DeptE]                -1.2370      0.184     -6.741      0.000      -1.597      -0.877\n",
        "Dep[T.DeptF]                -2.4603      0.255     -9.643      0.000      -2.960      -1.960\n",
        "Sex[T.Male]                 -0.2836      0.154     -1.843      0.065      -0.585       0.018\n",
        "Dep[T.DeptB]:Sex[T.Male]     0.2078      0.357      0.583      0.560      -0.491       0.907\n",
        "Dep[T.DeptC]:Sex[T.Male]     0.3642      0.204      1.783      0.075      -0.036       0.764\n",
        "Dep[T.DeptD]:Sex[T.Male]     0.2367      0.209      1.134      0.257      -0.172       0.646\n",
        "Dep[T.DeptE]:Sex[T.Male]     0.4321      0.247      1.750      0.080      -0.052       0.916\n",
        "Dep[T.DeptF]:Sex[T.Male]     0.1069      0.341      0.313      0.754      -0.562       0.776\n",
        "============================================================================================\n"
       ]
      },
      {
       "metadata": {},
       "output_type": "pyout",
       "prompt_number": 67,
       "text": [
        "<class 'statsmodels.stats.contrast.WaldTestResults'>\n",
        "                 chi2                  P>chi2  df constraint\n",
        "Intercept    1.826781     0.17650827910101752              1\n",
        "Dep        107.986208  1.0913713400468076e-21              5\n",
        "Sex          3.398433     0.06525838966595543              1\n",
        "Dep:Sex      4.480030      0.4825598053307927              5\n",
        "Sex          4.852804      0.5628262274454958              6"
       ]
      }
     ],
     "prompt_number": 67
    },
    {
     "cell_type": "code",
     "collapsed": false,
     "input": [
      "# resb.wald_test_terms(combine_terms=['Male']) # exception"
     ],
     "language": "python",
     "metadata": {},
     "outputs": [],
     "prompt_number": 68
    },
    {
     "cell_type": "code",
     "collapsed": false,
     "input": [
      "formula_2int = 'count ~ Dep + Sex + Admit + Dep*Sex + Sex*Admit + Dep*Admit'\n",
      "mod = GLM.from_formula(formula_2int + ' - Dep*Admit', data=df_adm, family=families.Poisson())\n",
      "res = mod.fit()\n",
      "print(res.summary())\n",
      "res.wald_test_terms()"
     ],
     "language": "python",
     "metadata": {},
     "outputs": [
      {
       "output_type": "stream",
       "stream": "stdout",
       "text": [
        "                 Generalized Linear Model Regression Results                  \n",
        "==============================================================================\n",
        "Dep. Variable:                  count   No. Observations:                   24\n",
        "Model:                            GLM   Df Residuals:                       10\n",
        "Model Family:                 Poisson   Df Model:                           13\n",
        "Link Function:                    log   Scale:                             1.0\n",
        "Method:                          IRLS   Log-Likelihood:                -470.86\n",
        "Date:                Fri, 30 Oct 2015   Deviance:                       782.65\n",
        "Time:                        21:35:27   Pearson chi2:                     714.\n",
        "No. Iterations:                    10                                         \n",
        "===============================================================================================\n",
        "                                  coef    std err          z      P>|z|      [0.025      0.975]\n",
        "-----------------------------------------------------------------------------------------------\n",
        "Intercept                       3.4899      0.103     34.042      0.000       3.289       3.691\n",
        "Sex[T.Male]                     2.4171      0.110     21.897      0.000       2.201       2.633\n",
        "Dep[T.DeptB]:Sex[Female]       -1.4633      0.222     -6.593      0.000      -1.898      -1.028\n",
        "Dep[T.DeptC]:Sex[Female]        1.7031      0.105     16.278      0.000       1.498       1.908\n",
        "Dep[T.DeptD]:Sex[Female]        1.2448      0.109     11.399      0.000       1.031       1.459\n",
        "Dep[T.DeptE]:Sex[Female]        1.2917      0.109     11.889      0.000       1.079       1.505\n",
        "Dep[T.DeptF]:Sex[Female]        1.1498      0.110     10.413      0.000       0.933       1.366\n",
        "Dep[T.DeptB]:Sex[Male]         -0.3874      0.055     -7.076      0.000      -0.495      -0.280\n",
        "Dep[T.DeptC]:Sex[Male]         -0.9316      0.065    -14.224      0.000      -1.060      -0.803\n",
        "Dep[T.DeptD]:Sex[Male]         -0.6823      0.060    -11.356      0.000      -0.800      -0.565\n",
        "Dep[T.DeptE]:Sex[Male]         -1.4631      0.080    -18.221      0.000      -1.620      -1.306\n",
        "Dep[T.DeptF]:Sex[Male]         -0.7938      0.062    -12.722      0.000      -0.916      -0.672\n",
        "Sex[Female]:Admit[T.Reject]     0.8305      0.051     16.357      0.000       0.731       0.930\n",
        "Sex[Male]:Admit[T.Reject]       0.2186      0.039      5.637      0.000       0.143       0.295\n",
        "===============================================================================================\n"
       ]
      },
      {
       "metadata": {},
       "output_type": "pyout",
       "prompt_number": 69,
       "text": [
        "<class 'statsmodels.stats.contrast.WaldTestResults'>\n",
        "                  chi2                   P>chi2  df constraint\n",
        "Intercept  1158.877753   5.277651782931955e-254              1\n",
        "Sex         479.489851  2.7589961578552724e-106              1\n",
        "Dep:Sex     974.139335   6.951173749788211e-203             10\n",
        "Sex:Admit   299.331699   1.0021839326982421e-65              2"
       ]
      }
     ],
     "prompt_number": 69
    },
    {
     "cell_type": "code",
     "collapsed": false,
     "input": [
      "formula_2intc = 'count ~ Dep + Sex + Admit + Dep*Sex + Sex*Admit'\n",
      "mod = GLM.from_formula(formula_2intc, data=df_adm, family=families.Poisson())\n",
      "res = mod.fit()\n",
      "print(res.summary())\n",
      "res.wald_test_terms()"
     ],
     "language": "python",
     "metadata": {},
     "outputs": [
      {
       "output_type": "stream",
       "stream": "stdout",
       "text": [
        "                 Generalized Linear Model Regression Results                  \n",
        "==============================================================================\n",
        "Dep. Variable:                  count   No. Observations:                   24\n",
        "Model:                            GLM   Df Residuals:                       10\n",
        "Model Family:                 Poisson   Df Model:                           13\n",
        "Link Function:                    log   Scale:                             1.0\n",
        "Method:                          IRLS   Log-Likelihood:                -470.86\n",
        "Date:                Fri, 30 Oct 2015   Deviance:                       782.65\n",
        "Time:                        21:35:27   Pearson chi2:                     714.\n",
        "No. Iterations:                    10                                         \n",
        "===============================================================================================\n",
        "                                  coef    std err          z      P>|z|      [0.025      0.975]\n",
        "-----------------------------------------------------------------------------------------------\n",
        "Intercept                       3.4899      0.103     34.042      0.000       3.289       3.691\n",
        "Dep[T.DeptB]                   -1.4633      0.222     -6.593      0.000      -1.898      -1.028\n",
        "Dep[T.DeptC]                    1.7031      0.105     16.278      0.000       1.498       1.908\n",
        "Dep[T.DeptD]                    1.2448      0.109     11.399      0.000       1.031       1.459\n",
        "Dep[T.DeptE]                    1.2917      0.109     11.889      0.000       1.079       1.505\n",
        "Dep[T.DeptF]                    1.1498      0.110     10.413      0.000       0.933       1.366\n",
        "Sex[T.Male]                     2.4171      0.110     21.897      0.000       2.201       2.633\n",
        "Admit[T.Reject]                 0.8305      0.051     16.357      0.000       0.731       0.930\n",
        "Dep[T.DeptB]:Sex[T.Male]        1.0758      0.229      4.706      0.000       0.628       1.524\n",
        "Dep[T.DeptC]:Sex[T.Male]       -2.6346      0.123    -21.345      0.000      -2.877      -2.393\n",
        "Dep[T.DeptD]:Sex[T.Male]       -1.9271      0.125    -15.461      0.000      -2.171      -1.683\n",
        "Dep[T.DeptE]:Sex[T.Male]       -2.7548      0.135    -20.391      0.000      -3.020      -2.490\n",
        "Dep[T.DeptF]:Sex[T.Male]       -1.9436      0.127    -15.325      0.000      -2.192      -1.695\n",
        "Sex[T.Male]:Admit[T.Reject]    -0.6119      0.064     -9.577      0.000      -0.737      -0.487\n",
        "===============================================================================================\n"
       ]
      },
      {
       "metadata": {},
       "output_type": "pyout",
       "prompt_number": 70,
       "text": [
        "<class 'statsmodels.stats.contrast.WaldTestResults'>\n",
        "                  chi2                   P>chi2  df constraint\n",
        "Intercept  1158.877753  5.2776517830179016e-254              1\n",
        "Dep         477.479530   5.789142600523275e-101              5\n",
        "Sex         479.489851  2.7589961578706267e-106              1\n",
        "Admit       267.556204   3.8684132315348006e-60              1\n",
        "Dep:Sex     763.646614   8.454876575427745e-163              5\n",
        "Sex:Admit    91.710408   1.0033580355635529e-21              1"
       ]
      }
     ],
     "prompt_number": 70
    },
    {
     "cell_type": "code",
     "collapsed": false,
     "input": [
      "interact2way = 'Dep*Sex Sex*Admit Dep*Admit'.split()\n",
      "mod = GLM.from_formula('count ~ Dep + Sex + Admit', data=df_adm, family=families.Poisson())\n",
      "res = mod.fit()\n",
      "print(res.summary())\n",
      "res.wald_test_terms()"
     ],
     "language": "python",
     "metadata": {},
     "outputs": [
      {
       "output_type": "stream",
       "stream": "stdout",
       "text": [
        "                 Generalized Linear Model Regression Results                  \n",
        "==============================================================================\n",
        "Dep. Variable:                  count   No. Observations:                   24\n",
        "Model:                            GLM   Df Residuals:                       16\n",
        "Model Family:                 Poisson   Df Model:                            7\n",
        "Link Function:                    log   Scale:                             1.0\n",
        "Method:                          IRLS   Log-Likelihood:                -1128.1\n",
        "Date:                Fri, 30 Oct 2015   Deviance:                       2097.2\n",
        "Time:                        21:35:27   Pearson chi2:                 2.00e+03\n",
        "No. Iterations:                     8                                         \n",
        "===================================================================================\n",
        "                      coef    std err          z      P>|z|      [0.025      0.975]\n",
        "-----------------------------------------------------------------------------------\n",
        "Intercept           4.9888      0.042    119.448      0.000       4.907       5.071\n",
        "Dep[T.DeptB]       -0.4668      0.053     -8.851      0.000      -0.570      -0.363\n",
        "Dep[T.DeptC]       -0.0162      0.046     -0.349      0.727      -0.107       0.075\n",
        "Dep[T.DeptD]       -0.1638      0.048     -3.391      0.001      -0.259      -0.069\n",
        "Dep[T.DeptE]       -0.4685      0.053     -8.879      0.000      -0.572      -0.365\n",
        "Dep[T.DeptF]       -0.2675      0.050     -5.380      0.000      -0.365      -0.170\n",
        "Sex[T.Male]         0.3829      0.030     12.646      0.000       0.324       0.442\n",
        "Admit[T.Reject]     0.4558      0.031     14.943      0.000       0.396       0.516\n",
        "===================================================================================\n"
       ]
      },
      {
       "metadata": {},
       "output_type": "pyout",
       "prompt_number": 71,
       "text": [
        "<class 'statsmodels.stats.contrast.WaldTestResults'>\n",
        "                   chi2                  P>chi2  df constraint\n",
        "Intercept  14267.870977                     0.0              1\n",
        "Dep          156.247524    6.23923449874551e-32              5\n",
        "Sex          159.931585  1.1711060059986417e-36              1\n",
        "Admit        223.282759  1.7392166372176959e-50              1"
       ]
      }
     ],
     "prompt_number": 71
    },
    {
     "cell_type": "code",
     "collapsed": false,
     "input": [
      "import itertools\n",
      "list(itertools.combinations(range(3), 2))"
     ],
     "language": "python",
     "metadata": {},
     "outputs": [
      {
       "metadata": {},
       "output_type": "pyout",
       "prompt_number": 72,
       "text": [
        "[(0, 1), (0, 2), (1, 2)]"
       ]
      }
     ],
     "prompt_number": 72
    },
    {
     "cell_type": "markdown",
     "metadata": {},
     "source": [
      "**Type 3 Analysis of Deviance, Likelihood Ratio tests**"
     ]
    },
    {
     "cell_type": "code",
     "collapsed": false,
     "input": [
      "interact2way = 'Dep*Sex Sex*Admit Dep*Admit'.split()"
     ],
     "language": "python",
     "metadata": {},
     "outputs": [],
     "prompt_number": 73
    },
    {
     "cell_type": "code",
     "collapsed": false,
     "input": [
      "for i, j in itertools.combinations(range(3), 2):\n",
      "    #print(interact2way[i], interact2way[j], end=' ')\n",
      "    formula_i = ' + '.join(['count ~ Dep + Sex + Admit', interact2way[i], interact2way[j]])\n",
      "    #print(formula_i, end=' :   ')\n",
      "    print('drop ' + ' '.join(interact2way[k] for k in sorted(list(set(range(3)) - set((i,j))))), end=' :   ')\n",
      "    res_ij = GLM.from_formula(formula_i, data=df_adm, family=families.Poisson()).fit()\n",
      "    dev_ij = res_ij.deviance\n",
      "    \n",
      "    print(dev_ij, dev_ij - deviance_pairs, res_ij.df_resid - df_resid_pairs,  \n",
      "          stats.chi2.sf(dev_ij - deviance_pairs, res_ij.df_resid - df_resid_pairs))"
     ],
     "language": "python",
     "metadata": {},
     "outputs": [
      {
       "output_type": "stream",
       "stream": "stdout",
       "text": [
        "drop Dep*Admit :   782.64867089 762.423527318 5 1.55473220495e-162\n",
        "drop Sex*Admit :   21.6625220699"
       ]
      },
      {
       "output_type": "stream",
       "stream": "stdout",
       "text": [
        " 1.43737849816 1 0.230564027917\n",
        "drop Dep*Sex :   1148.35412947 1128.1289859 5 1.08246686555e-241\n"
       ]
      }
     ],
     "prompt_number": 74
    },
    {
     "cell_type": "code",
     "collapsed": false,
     "input": [
      "deviance_pairs"
     ],
     "language": "python",
     "metadata": {},
     "outputs": [
      {
       "metadata": {},
       "output_type": "pyout",
       "prompt_number": 75,
       "text": [
        "20.225143571744766"
       ]
      }
     ],
     "prompt_number": 75
    },
    {
     "cell_type": "markdown",
     "metadata": {},
     "source": [
      "see https://onlinecourses.science.psu.edu/stat504/node/129 for some related deviance numbers and a full table (to be filled out)."
     ]
    },
    {
     "cell_type": "code",
     "collapsed": false,
     "input": [],
     "language": "python",
     "metadata": {},
     "outputs": [],
     "prompt_number": 75
    }
   ],
   "metadata": {}
  }
 ]
}